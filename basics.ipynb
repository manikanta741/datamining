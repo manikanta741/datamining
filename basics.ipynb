{
  "nbformat": 4,
  "nbformat_minor": 0,
  "metadata": {
    "colab": {
      "provenance": [],
      "authorship_tag": "ABX9TyM4lddeuqO96IJdHkY2NPWn",
      "include_colab_link": true
    },
    "kernelspec": {
      "name": "python3",
      "display_name": "Python 3"
    },
    "language_info": {
      "name": "python"
    }
  },
  "cells": [
    {
      "cell_type": "markdown",
      "metadata": {
        "id": "view-in-github",
        "colab_type": "text"
      },
      "source": [
        "<a href=\"https://colab.research.google.com/github/manikanta741/datamining/blob/main/basics.ipynb\" target=\"_parent\"><img src=\"https://colab.research.google.com/assets/colab-badge.svg\" alt=\"Open In Colab\"/></a>"
      ]
    },
    {
      "cell_type": "code",
      "source": [
        "#circle area\n",
        "r=3\n",
        "pi=3.14\n",
        "area =pi*r**2\n",
        "print(area)"
      ],
      "metadata": {
        "colab": {
          "base_uri": "https://localhost:8080/"
        },
        "id": "1NsQCTJ2e-qN",
        "outputId": "7589cf23-4c0e-4da5-815a-d1d4ba4fce69"
      },
      "execution_count": 2,
      "outputs": [
        {
          "output_type": "stream",
          "name": "stdout",
          "text": [
            "28.26\n"
          ]
        }
      ]
    },
    {
      "cell_type": "code",
      "source": [
        "#circle circumference\n",
        "circumference=2*pi*r\n",
        "print(circumference)"
      ],
      "metadata": {
        "colab": {
          "base_uri": "https://localhost:8080/"
        },
        "id": "kNd4JryAfYJ4",
        "outputId": "c5a6b67c-df6a-478b-863b-42081e521444"
      },
      "execution_count": 3,
      "outputs": [
        {
          "output_type": "stream",
          "name": "stdout",
          "text": [
            "18.84\n"
          ]
        }
      ]
    },
    {
      "cell_type": "code",
      "source": [
        "#ascii  value of character\n",
        "char='e'\n",
        "print(ord(char))"
      ],
      "metadata": {
        "colab": {
          "base_uri": "https://localhost:8080/"
        },
        "id": "y5WXKOIEfk1L",
        "outputId": "1388074f-4b49-4bea-f69b-b09b1bf8eb0e"
      },
      "execution_count": 4,
      "outputs": [
        {
          "output_type": "stream",
          "name": "stdout",
          "text": [
            "101\n"
          ]
        }
      ]
    },
    {
      "cell_type": "code",
      "source": [
        "#area of triangle\n",
        "h=3\n",
        "b=4\n",
        "area=0.5*b*h\n",
        "print(area)"
      ],
      "metadata": {
        "colab": {
          "base_uri": "https://localhost:8080/"
        },
        "id": "4SpRg2F0fs-8",
        "outputId": "3815fec5-12ba-45aa-f5cd-19a96acbc341"
      },
      "execution_count": 6,
      "outputs": [
        {
          "output_type": "stream",
          "name": "stdout",
          "text": [
            "6.0\n"
          ]
        }
      ]
    },
    {
      "cell_type": "code",
      "source": [
        "#area of triangle by usiing heron's formula\n",
        "a=3\n",
        "b=4\n",
        "c=5\n",
        "s=(a+b+c)/2\n",
        "area=(s*(s-a)*(s-b)*(s-c))**0.5\n",
        "print(area)"
      ],
      "metadata": {
        "colab": {
          "base_uri": "https://localhost:8080/"
        },
        "id": "cQEK8GCZf6rH",
        "outputId": "9b875579-e010-4d4b-c1f0-1a6dbbf6415e"
      },
      "execution_count": 7,
      "outputs": [
        {
          "output_type": "stream",
          "name": "stdout",
          "text": [
            "6.0\n"
          ]
        }
      ]
    },
    {
      "cell_type": "code",
      "source": [
        "#simple interest\n",
        "p=1000\n",
        "r=10\n",
        "t=2\n",
        "si=(p*t*r)/100\n",
        "print(si)"
      ],
      "metadata": {
        "colab": {
          "base_uri": "https://localhost:8080/"
        },
        "id": "JErgRe99gxnR",
        "outputId": "6a16f39b-cc75-45cd-e20d-e9f69b37b679"
      },
      "execution_count": 9,
      "outputs": [
        {
          "output_type": "stream",
          "name": "stdout",
          "text": [
            "200.0\n"
          ]
        }
      ]
    },
    {
      "cell_type": "code",
      "source": [
        "#gross salary= basic salary+house rent allowance (HRA)+ dearness allowance (DA).\n",
        "bs=float(input(\"enter the basic salary\"))\n",
        "hra=0.2*bs#(20% of bs)\n",
        "da=0.1*bs#(10% of bs)\n",
        "gs=bs+hra+da\n",
        "print(gs)"
      ],
      "metadata": {
        "colab": {
          "base_uri": "https://localhost:8080/"
        },
        "id": "hbWeYqAKhVF-",
        "outputId": "82570a9b-4e2e-4209-f66c-67d8466e9a00"
      },
      "execution_count": 12,
      "outputs": [
        {
          "output_type": "stream",
          "name": "stdout",
          "text": [
            "enter the basic salary20000\n",
            "26000.0\n"
          ]
        }
      ]
    },
    {
      "cell_type": "code",
      "source": [
        "#total marks and percentage of 5 subjects\n",
        "t=60\n",
        "e=70\n",
        "m=80\n",
        "s=90\n",
        "so=100\n",
        "total_marks=t+e+m+s+so\n",
        "print(total_marks)"
      ],
      "metadata": {
        "colab": {
          "base_uri": "https://localhost:8080/"
        },
        "id": "JPUqjB7eh-Pm",
        "outputId": "f5e03262-5c50-4d07-bf3c-e1514cf826b3"
      },
      "execution_count": 15,
      "outputs": [
        {
          "output_type": "stream",
          "name": "stdout",
          "text": [
            "400\n"
          ]
        }
      ]
    },
    {
      "cell_type": "code",
      "source": [
        "percentage=(total_marks/500)*100\n",
        "print(percentage)"
      ],
      "metadata": {
        "colab": {
          "base_uri": "https://localhost:8080/"
        },
        "id": "sUTXskFdikYk",
        "outputId": "c0a7ff1d-ee1d-4980-91c7-bbef8b2db248"
      },
      "execution_count": 14,
      "outputs": [
        {
          "output_type": "stream",
          "name": "stdout",
          "text": [
            "80.0\n"
          ]
        }
      ]
    },
    {
      "cell_type": "code",
      "source": [
        "#coverting tempeature celsius to farenheit\n",
        "celsius=37\n",
        "farenheit=(celsius*1.8)+32\n",
        "print(farenheit)"
      ],
      "metadata": {
        "colab": {
          "base_uri": "https://localhost:8080/"
        },
        "id": "cNzO5nlni8Zr",
        "outputId": "65f9b53f-6c51-49e5-fc50-faa21b38e7d7"
      },
      "execution_count": 16,
      "outputs": [
        {
          "output_type": "stream",
          "name": "stdout",
          "text": [
            "98.60000000000001\n"
          ]
        }
      ]
    },
    {
      "cell_type": "code",
      "source": [
        "num=7\n",
        "if num==0:\n",
        "  print(\"zero\")\n",
        "elif(num==1):\n",
        "  print(\"fact is 1\")\n",
        "else:\n",
        "  fact=1\n",
        "  for i in range(1,num+1):\n",
        "    fact=fact*i\n",
        "  print(fact)\n",
        "\n"
      ],
      "metadata": {
        "colab": {
          "base_uri": "https://localhost:8080/"
        },
        "id": "seZ_HW7cjafH",
        "outputId": "5172bb01-e808-4c04-b987-0e257c0d347b"
      },
      "execution_count": 17,
      "outputs": [
        {
          "output_type": "stream",
          "name": "stdout",
          "text": [
            "5040\n"
          ]
        }
      ]
    },
    {
      "cell_type": "code",
      "source": [
        "#Read Integer (N) and Print the First Three Powers (N^1, N^2, N^3)\n",
        "N = int(input(\"Enter an integer: \"))\n",
        "\n",
        "\n",
        "\n",
        "# Calculate the first three powers\n",
        "N1 = N ** 1\n",
        "N2 = N ** 2\n",
        "N3 = N ** 3\n",
        "\n",
        "# Print the results\n",
        "print(N1)\n",
        "print(N2)\n",
        "print(N3)"
      ],
      "metadata": {
        "colab": {
          "base_uri": "https://localhost:8080/"
        },
        "id": "tzAhvrjEkD53",
        "outputId": "a75157f1-15c1-424c-c556-cc27ae078158"
      },
      "execution_count": 19,
      "outputs": [
        {
          "output_type": "stream",
          "name": "stdout",
          "text": [
            "Enter an integer: 5\n",
            "5\n",
            "25\n",
            "125\n"
          ]
        }
      ]
    },
    {
      "cell_type": "code",
      "source": [
        "import math\n",
        "\n",
        "gcd=math.gcd(a,b)\n",
        "a=4\n",
        "b=8\n",
        "print(gcd)"
      ],
      "metadata": {
        "colab": {
          "base_uri": "https://localhost:8080/"
        },
        "id": "sPEMOZhZkfQk",
        "outputId": "4a7d1de3-166c-462e-a0fa-423139eacc40"
      },
      "execution_count": 24,
      "outputs": [
        {
          "output_type": "stream",
          "name": "stdout",
          "text": [
            "1\n"
          ]
        }
      ]
    },
    {
      "cell_type": "code",
      "source": [
        "import math\n",
        "\n",
        "lcm=math.lcm(a,b)\n",
        "a=4\n",
        "b=8\n",
        "print(lcm)"
      ],
      "metadata": {
        "colab": {
          "base_uri": "https://localhost:8080/"
        },
        "id": "NMs_fBhNmeYr",
        "outputId": "02c623ed-494f-4da0-fee5-3a19148402bf"
      },
      "execution_count": 27,
      "outputs": [
        {
          "output_type": "stream",
          "name": "stdout",
          "text": [
            "8\n"
          ]
        }
      ]
    },
    {
      "cell_type": "code",
      "source": [],
      "metadata": {
        "id": "mPJDa0bYmknX"
      },
      "execution_count": null,
      "outputs": []
    }
  ]
}