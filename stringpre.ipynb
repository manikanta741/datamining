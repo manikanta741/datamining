{
  "nbformat": 4,
  "nbformat_minor": 0,
  "metadata": {
    "colab": {
      "provenance": [],
      "authorship_tag": "ABX9TyPhR8+EaNgM0RHtLcnJNLcc",
      "include_colab_link": true
    },
    "kernelspec": {
      "name": "python3",
      "display_name": "Python 3"
    },
    "language_info": {
      "name": "python"
    }
  },
  "cells": [
    {
      "cell_type": "markdown",
      "metadata": {
        "id": "view-in-github",
        "colab_type": "text"
      },
      "source": [
        "<a href=\"https://colab.research.google.com/github/manikanta741/datamining/blob/main/stringpre.ipynb\" target=\"_parent\"><img src=\"https://colab.research.google.com/assets/colab-badge.svg\" alt=\"Open In Colab\"/></a>"
      ]
    },
    {
      "cell_type": "code",
      "execution_count": 24,
      "metadata": {
        "colab": {
          "base_uri": "https://localhost:8080/"
        },
        "id": "RCBcdk3oLzJm",
        "outputId": "afb0ded0-043f-4aca-85fb-d81162ad55e7"
      },
      "outputs": [
        {
          "output_type": "stream",
          "name": "stdout",
          "text": [
            "4\n"
          ]
        }
      ],
      "source": [
        "#vowel or constant\n",
        "strr=\"mani kanta\"\n",
        "vowels=\"aeiou\"\n",
        "count=0\n",
        "for i in strr:\n",
        "    if i in vowels:\n",
        "      count+=1\n",
        "print(count)\n"
      ]
    },
    {
      "cell_type": "code",
      "source": [
        "#char is vowel or constant\n",
        "c='a'\n",
        "if c=='a'or c=='e'or c=='i'or c=='o'or c=='u':\n",
        "    print(\"vowel\")\n",
        "else:\n",
        "  print(\"constant\")"
      ],
      "metadata": {
        "colab": {
          "base_uri": "https://localhost:8080/"
        },
        "id": "QzdPiriuMEXD",
        "outputId": "8aa9ecd1-8fd7-4e02-9991-d87c5ba6e043"
      },
      "execution_count": 2,
      "outputs": [
        {
          "output_type": "stream",
          "name": "stdout",
          "text": [
            "vowel\n"
          ]
        }
      ]
    },
    {
      "cell_type": "code",
      "source": [
        "#char is alphabet or not\n",
        "ch = 'z'\n",
        "\n",
        "# basic logic\n",
        "if 'a' <= ch <= 'z' or 'A' <= ch <= 'Z':\n",
        "    print(\"The  character\", ch, \"is an Alphabet\")\n",
        "else:\n",
        "    print(\"The  character\", ch, \"is not an Alphabet\")"
      ],
      "metadata": {
        "id": "iiPpD-inMXXv"
      },
      "execution_count": null,
      "outputs": []
    },
    {
      "cell_type": "code",
      "source": [
        "#ascii\n",
        "ch=input(\"enter a character\")\n",
        "print(\"the ascii value of\",ch,\"is\",ord(ch))"
      ],
      "metadata": {
        "colab": {
          "base_uri": "https://localhost:8080/"
        },
        "id": "ga8VutvnMsgQ",
        "outputId": "3987f556-48d7-424f-f861-3af85c8eb87b"
      },
      "execution_count": 3,
      "outputs": [
        {
          "output_type": "stream",
          "name": "stdout",
          "text": [
            "enter a characterg\n",
            "the ascii value of g is 103\n"
          ]
        }
      ]
    },
    {
      "cell_type": "code",
      "source": [
        "#len of string without using len function\n",
        "strr=\"manikanta\"\n",
        "count=0\n",
        "for i in strr:\n",
        "  count=count+1\n",
        "print(count)"
      ],
      "metadata": {
        "colab": {
          "base_uri": "https://localhost:8080/"
        },
        "id": "D9hUEdhpMz70",
        "outputId": "08d37466-b8f0-418e-d6a6-7e6caa65e00e"
      },
      "execution_count": 6,
      "outputs": [
        {
          "output_type": "stream",
          "name": "stdout",
          "text": [
            "9\n"
          ]
        }
      ]
    },
    {
      "cell_type": "code",
      "source": [],
      "metadata": {
        "id": "y43UwZ6ANGep"
      },
      "execution_count": 17,
      "outputs": []
    },
    {
      "cell_type": "code",
      "source": [
        "##swap case\n",
        "strr = \"Mani Kanta\"\n",
        "str1 = \"\"\n",
        "\n",
        "for i in strr:\n",
        "    str1 += i.swapcase()\n",
        "\n",
        "print(str1)\n"
      ],
      "metadata": {
        "colab": {
          "base_uri": "https://localhost:8080/"
        },
        "id": "2qgqfuetOtNo",
        "outputId": "cfb4c9af-54e4-4674-c8c9-8f38f723361b"
      },
      "execution_count": 19,
      "outputs": [
        {
          "output_type": "stream",
          "name": "stdout",
          "text": [
            "mANI kANTA\n"
          ]
        }
      ]
    },
    {
      "cell_type": "code",
      "source": [
        "#toggle case\n",
        "String = 'GuDDuBHaiyA'\n",
        "\n",
        "String1 = str()\n",
        "\n",
        "for i in String:\n",
        "    if i.isupper():\n",
        "        i = i.lower()\n",
        "\n",
        "        String1 = String1 + i\n",
        "    else:\n",
        "        i = i.upper()\n",
        "        String1 = String1 + i\n",
        "\n",
        "print(String1)"
      ],
      "metadata": {
        "colab": {
          "base_uri": "https://localhost:8080/"
        },
        "id": "jWyNCMaTOWp_",
        "outputId": "e2822abe-cad8-4591-c8fe-7b9142c17ffb"
      },
      "execution_count": 18,
      "outputs": [
        {
          "output_type": "stream",
          "name": "stdout",
          "text": [
            "gUddUbhAIYa\n"
          ]
        }
      ]
    },
    {
      "cell_type": "code",
      "source": [
        "#remove vowels\n",
        "str=\"python\"\n",
        "str1=\"\"\n",
        "vowels=\"aeiou\"\n",
        "for i in str:\n",
        "    if i not in vowels:\n",
        "      str1=str1+i\n",
        "print(str1)"
      ],
      "metadata": {
        "colab": {
          "base_uri": "https://localhost:8080/"
        },
        "id": "fGL0W4ZePdjO",
        "outputId": "1eaf3559-5365-4214-87b3-3dd9afb9ede5"
      },
      "execution_count": 27,
      "outputs": [
        {
          "output_type": "stream",
          "name": "stdout",
          "text": [
            "pythn\n"
          ]
        }
      ]
    },
    {
      "cell_type": "code",
      "source": [
        "#str is palindrome or not\n",
        "str1=\"madam\"\n",
        "if str1==str1[::-1]:\n",
        "  print(\"palindrome\")\n",
        "else:\n",
        "  print(\"not palindrome\")\n"
      ],
      "metadata": {
        "colab": {
          "base_uri": "https://localhost:8080/"
        },
        "id": "ELgKAqJmRRbE",
        "outputId": "8f8ce815-2527-49fa-bb19-5cc66a1c3088"
      },
      "execution_count": 29,
      "outputs": [
        {
          "output_type": "stream",
          "name": "stdout",
          "text": [
            "palindrome\n"
          ]
        }
      ]
    },
    {
      "cell_type": "code",
      "source": [
        "#reverse of a string\n",
        "str2=\"mani\"\n",
        "print(str2[::-1])"
      ],
      "metadata": {
        "colab": {
          "base_uri": "https://localhost:8080/"
        },
        "id": "lV3TTtroRo9h",
        "outputId": "f35314b2-47e5-486f-bbe3-268c25916d4f"
      },
      "execution_count": 31,
      "outputs": [
        {
          "output_type": "stream",
          "name": "stdout",
          "text": [
            "inam\n"
          ]
        }
      ]
    },
    {
      "cell_type": "code",
      "source": [
        "#remove all charactersexcept alphabets\n",
        "str1=\"mani@4262\"\n",
        "str2=\"\"\n",
        "for i in str1:\n",
        "  if i.isalpha():\n",
        "    str2=str2+i\n",
        "print(str2)"
      ],
      "metadata": {
        "colab": {
          "base_uri": "https://localhost:8080/"
        },
        "id": "f5zSvCT_R409",
        "outputId": "f7c8efb3-e364-42e8-a1f2-d285ead479e9"
      },
      "execution_count": 32,
      "outputs": [
        {
          "output_type": "stream",
          "name": "stdout",
          "text": [
            "mani\n"
          ]
        }
      ]
    },
    {
      "cell_type": "code",
      "source": [
        "str1=\"mani kanta\"\n",
        "str2=\"\".join(str1.split())\n",
        "print(str2)"
      ],
      "metadata": {
        "colab": {
          "base_uri": "https://localhost:8080/"
        },
        "id": "uWngPRqQST6L",
        "outputId": "948e64e7-8213-4735-8236-82349b8e5c46"
      },
      "execution_count": 38,
      "outputs": [
        {
          "output_type": "stream",
          "name": "stdout",
          "text": [
            "manikanta\n"
          ]
        }
      ]
    },
    {
      "cell_type": "code",
      "source": [
        "str1=\"mani kanta\"\n",
        "str1=str1.replace(\" \",\"\")\n",
        "print(str1)"
      ],
      "metadata": {
        "colab": {
          "base_uri": "https://localhost:8080/"
        },
        "id": "Hv2256dXTkF9",
        "outputId": "1dcdbb95-5ebc-4b21-92f6-5afabdede367"
      },
      "execution_count": 39,
      "outputs": [
        {
          "output_type": "stream",
          "name": "stdout",
          "text": [
            "manikanta\n"
          ]
        }
      ]
    },
    {
      "cell_type": "code",
      "source": [
        "str1=\"mani kanta\"\n",
        "str2=\"\"\n",
        "for i in str1:\n",
        "  if i!=\"\":\n",
        "    str2=str2+i\n",
        "print(str2)"
      ],
      "metadata": {
        "colab": {
          "base_uri": "https://localhost:8080/"
        },
        "id": "xSAxgxugTuIt",
        "outputId": "a53f8f5e-56b0-409e-96c0-8df49f6d9175"
      },
      "execution_count": 43,
      "outputs": [
        {
          "output_type": "stream",
          "name": "stdout",
          "text": [
            "mani kanta\n"
          ]
        }
      ]
    },
    {
      "cell_type": "code",
      "source": [
        "str4=\"(a-b)+[c*d]+{e/f}\"\n",
        "str5=\"\"\n",
        "for i in str4:\n",
        "  if ord(i)==40 or ord(i)==41 or ord(i)==91 or ord(i)==93 or ord(i)==123 or ord(i)==125:\n",
        "    pass\n",
        "  else:\n",
        "    st5=str5+i\n",
        "print(str5)"
      ],
      "metadata": {
        "colab": {
          "base_uri": "https://localhost:8080/"
        },
        "id": "JPUOzbryVqQq",
        "outputId": "34cabbfe-5a9b-408d-86a6-20c4f9e26e2d"
      },
      "execution_count": 56,
      "outputs": [
        {
          "output_type": "stream",
          "name": "stdout",
          "text": [
            "\n"
          ]
        }
      ]
    }
  ]
}