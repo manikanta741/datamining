{
  "nbformat": 4,
  "nbformat_minor": 0,
  "metadata": {
    "colab": {
      "provenance": [],
      "authorship_tag": "ABX9TyOxGUGIeO1r+9FAlEYIiO9C",
      "include_colab_link": true
    },
    "kernelspec": {
      "name": "python3",
      "display_name": "Python 3"
    },
    "language_info": {
      "name": "python"
    }
  },
  "cells": [
    {
      "cell_type": "markdown",
      "metadata": {
        "id": "view-in-github",
        "colab_type": "text"
      },
      "source": [
        "<a href=\"https://colab.research.google.com/github/manikanta741/datamining/blob/main/nlpexp7.ipynb\" target=\"_parent\"><img src=\"https://colab.research.google.com/assets/colab-badge.svg\" alt=\"Open In Colab\"/></a>"
      ]
    },
    {
      "cell_type": "code",
      "execution_count": 33,
      "metadata": {
        "colab": {
          "base_uri": "https://localhost:8080/"
        },
        "id": "kY4FESERnqm2",
        "outputId": "9a43f393-3d80-46b3-c891-e33a80d9d44c"
      },
      "outputs": [
        {
          "output_type": "stream",
          "name": "stdout",
          "text": [
            "Cosine similarity between 'alice' and 'wonderland' - CBOW :  -0.10513808\n",
            "Cosine similarity between 'alice' and 'machines' - CBOW :  -0.09575343\n",
            "Cosine similarity between 'alice' and 'wonderland' - Skip Gram :  -0.10513808\n",
            "Cosine similarity between 'alice' and 'machines' - Skip Gram :  -0.09575343\n"
          ]
        }
      ],
      "source": [
        "from nltk.tokenize import sent_tokenize, word_tokenize\n",
        "import warnings\n",
        "warnings.filterwarnings(action = 'ignore')\n",
        "import gensim\n",
        "from gensim.models import Word2Vec\n",
        "sample=open(\"/content/frffff.txt\")\n",
        "s = sample.read()\n",
        "f = s.replace(\"\\n\", \" \")\n",
        "data = []\n",
        "for i in sent_tokenize(f):\n",
        " temp = []\n",
        " for j in word_tokenize(i):\n",
        "  temp.append(j.lower())\n",
        " data.append(temp)\n",
        "\n",
        "model1 = gensim.models.Word2Vec(data, min_count = 1, vector_size = 100,window = 5)\n",
        "print(\"Cosine similarity between 'alice' \" + \"and 'wonderland' - CBOW : \", model1.wv.similarity('alice', 'wonderland'))\n",
        "print(\"Cosine similarity between 'alice' \" + \"and 'machines' - CBOW : \", model1.wv.similarity('alice', 'machines'))\n",
        "\n",
        "model2 = gensim.models.Word2Vec(data, min_count = 1, vector_size = 100,window = 5, sg = 1)\n",
        "print(\"Cosine similarity between 'alice' \" + \"and 'wonderland' - Skip Gram : \", model2.wv.similarity('alice', 'wonderland'))\n",
        "print(\"Cosine similarity between 'alice' \" + \"and 'machines' - Skip Gram : \",  model2.wv.similarity('alice', 'machines'))\n",
        "\n",
        "\n"
      ]
    },
    {
      "cell_type": "code",
      "source": [
        "import nltk\n",
        "nltk.download('punkt')"
      ],
      "metadata": {
        "colab": {
          "base_uri": "https://localhost:8080/"
        },
        "id": "idT3ApdpwDa1",
        "outputId": "363d697e-d76e-47ec-805c-6162eb85e8d2"
      },
      "execution_count": 32,
      "outputs": [
        {
          "output_type": "stream",
          "name": "stderr",
          "text": [
            "[nltk_data] Downloading package punkt to /root/nltk_data...\n",
            "[nltk_data]   Unzipping tokenizers/punkt.zip.\n"
          ]
        },
        {
          "output_type": "execute_result",
          "data": {
            "text/plain": [
              "True"
            ]
          },
          "metadata": {},
          "execution_count": 32
        }
      ]
    }
  ]
}