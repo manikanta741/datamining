{
  "nbformat": 4,
  "nbformat_minor": 0,
  "metadata": {
    "colab": {
      "provenance": [],
      "authorship_tag": "ABX9TyPtIPH9AaDUyA8HNLM4HoXl",
      "include_colab_link": true
    },
    "kernelspec": {
      "name": "python3",
      "display_name": "Python 3"
    },
    "language_info": {
      "name": "python"
    }
  },
  "cells": [
    {
      "cell_type": "markdown",
      "metadata": {
        "id": "view-in-github",
        "colab_type": "text"
      },
      "source": [
        "<a href=\"https://colab.research.google.com/github/manikanta741/datamining/blob/main/listsbasicprograms.ipynb\" target=\"_parent\"><img src=\"https://colab.research.google.com/assets/colab-badge.svg\" alt=\"Open In Colab\"/></a>"
      ]
    },
    {
      "cell_type": "code",
      "execution_count": null,
      "metadata": {
        "colab": {
          "base_uri": "https://localhost:8080/"
        },
        "id": "f23zBQTNYozK",
        "outputId": "b841eff5-254e-40d3-a629-0d1cea20640c"
      },
      "outputs": [
        {
          "output_type": "stream",
          "name": "stdout",
          "text": [
            "[5, 4, 3, 2, 1]\n"
          ]
        }
      ],
      "source": [
        "#Reverse a list: Write a function to reverse a list.\n",
        "l1=[1,2,3,4,5]\n",
        "print(l1[::-1])"
      ]
    },
    {
      "cell_type": "code",
      "source": [
        "#Sort a list: Write a function to sort a list in ascending or descending order.\n",
        "l1=[2,5,4,1,3]\n",
        "l1.sort()\n",
        "print(l1)"
      ],
      "metadata": {
        "colab": {
          "base_uri": "https://localhost:8080/"
        },
        "id": "Zc1yT_U_Y0F4",
        "outputId": "9bd01b07-14a9-4b43-f1bd-a5de4d7f7155"
      },
      "execution_count": null,
      "outputs": [
        {
          "output_type": "stream",
          "name": "stdout",
          "text": [
            "[1, 2, 3, 4, 5]\n"
          ]
        }
      ]
    },
    {
      "cell_type": "code",
      "source": [
        "# Find the maximum/minimum element: Write a function to find the maximum or minimum element in a list.\n",
        "l1=[1,2,3,4,5]\n",
        "print(max(l1))\n",
        "print(min(l1))"
      ],
      "metadata": {
        "colab": {
          "base_uri": "https://localhost:8080/"
        },
        "id": "mRcETtaYY9gL",
        "outputId": "38b79a1a-4df2-4128-a1fd-c6eed1dd6c9b"
      },
      "execution_count": null,
      "outputs": [
        {
          "output_type": "stream",
          "name": "stdout",
          "text": [
            "5\n",
            "1\n"
          ]
        }
      ]
    },
    {
      "cell_type": "code",
      "source": [
        "# Find the index of an element: Write a function to find the index of a given element in a list.\n",
        "l1=[1,2,3,4,5]\n",
        "target=3\n",
        "for i in range(len(l1)):\n",
        "    if l1[i]==target:\n",
        "        print(i)"
      ],
      "metadata": {
        "colab": {
          "base_uri": "https://localhost:8080/"
        },
        "id": "-xn2wfWcZFml",
        "outputId": "c89cfb01-2c12-4bcd-9f69-a7e12a5b523c"
      },
      "execution_count": null,
      "outputs": [
        {
          "output_type": "stream",
          "name": "stdout",
          "text": [
            "2\n"
          ]
        }
      ]
    },
    {
      "cell_type": "code",
      "source": [
        "# Insert an element at a specific position: Write a function to insert an element at a specific position in a list.\n",
        "l1=[1,2,3,4,5]\n",
        "l2=l1.insert(3,6)\n",
        "print(l2)"
      ],
      "metadata": {
        "colab": {
          "base_uri": "https://localhost:8080/"
        },
        "id": "J1KEJyQZZPWU",
        "outputId": "ff72ba3b-d439-4e46-e0f4-181808faf0ef"
      },
      "execution_count": null,
      "outputs": [
        {
          "output_type": "stream",
          "name": "stdout",
          "text": [
            "None\n"
          ]
        }
      ]
    },
    {
      "cell_type": "code",
      "source": [
        "# Delete an element from a list: Write a function to delete an element from a list.\n",
        "l1=[1,2,3,4,5]\n",
        "l1.remove(2)\n",
        "print(l1)"
      ],
      "metadata": {
        "colab": {
          "base_uri": "https://localhost:8080/"
        },
        "id": "DkhyZZOlZfLG",
        "outputId": "9f280063-0958-4aa7-a122-20f198e48f0e"
      },
      "execution_count": null,
      "outputs": [
        {
          "output_type": "stream",
          "name": "stdout",
          "text": [
            "[1, 3, 4, 5]\n"
          ]
        }
      ]
    },
    {
      "cell_type": "code",
      "source": [
        "#Check if an element exists in a list: Write a function to check if an element exists in a list.\n",
        "l1=[1,2,3,4,5]\n",
        "target=6\n",
        "for i in range(len(l1)):\n",
        "    if l1[i]!=target:\n",
        "        print(\"not found\")\n",
        "        break\n",
        "else:\n",
        "  print(\"found at position\",i)\n"
      ],
      "metadata": {
        "colab": {
          "base_uri": "https://localhost:8080/"
        },
        "id": "IaMuBxSHaL-l",
        "outputId": "f0531cd5-c050-4684-d98a-f0504a510d18"
      },
      "execution_count": null,
      "outputs": [
        {
          "output_type": "stream",
          "name": "stdout",
          "text": [
            "not found\n"
          ]
        }
      ]
    },
    {
      "cell_type": "code",
      "source": [
        "l1=[1,2,3]\n",
        "l2=[4,5,6]\n",
        "print(l1+l2)"
      ],
      "metadata": {
        "colab": {
          "base_uri": "https://localhost:8080/"
        },
        "id": "YkCDTdUrbcRu",
        "outputId": "34b06aa5-9ffc-4406-af78-2c9186eb6952"
      },
      "execution_count": null,
      "outputs": [
        {
          "output_type": "stream",
          "name": "stdout",
          "text": [
            "[1, 2, 3, 4, 5, 6]\n"
          ]
        }
      ]
    },
    {
      "cell_type": "code",
      "source": [
        "#merge two listsa\n",
        "def merge_lists(list1, list2):\n",
        "    result = []\n",
        "    for element in list1:\n",
        "        result.append(element)\n",
        "    for element in list2:\n",
        "        result.append(element)\n",
        "    return result\n",
        "\n",
        "\n",
        "list1 = [1, 2, 3]\n",
        "list2 = [4, 5, 6]\n",
        "print(merge_lists(list1, list2))\n"
      ],
      "metadata": {
        "colab": {
          "base_uri": "https://localhost:8080/"
        },
        "id": "wDL-mor7bsfE",
        "outputId": "4bc5de9f-ff88-4cd6-a4d8-871abb9109ab"
      },
      "execution_count": null,
      "outputs": [
        {
          "output_type": "stream",
          "name": "stdout",
          "text": [
            "[1, 2, 3, 4, 5, 6]\n"
          ]
        }
      ]
    },
    {
      "cell_type": "code",
      "source": [],
      "metadata": {
        "id": "Mc-D3kMWb7Ly"
      },
      "execution_count": null,
      "outputs": []
    },
    {
      "cell_type": "code",
      "source": [
        "# Find the union of two lists: Write a function to find the union of two lists.\n",
        "def union_of_lists(list1, list2):\n",
        "    return list(set(list1) | set(list2))\n",
        "\n",
        "# Example usage:\n",
        "list1 = [1, 2, 3, 4]\n",
        "list2 = [3, 4, 5, 6]\n",
        "print(union_of_lists(list1, list2))  # Output: [1, 2, 3, 4, 5, 6]\n"
      ],
      "metadata": {
        "colab": {
          "base_uri": "https://localhost:8080/"
        },
        "id": "gfRjBqptb6Ql",
        "outputId": "55204ca6-1183-4907-bdbe-c2f7097210a1"
      },
      "execution_count": null,
      "outputs": [
        {
          "output_type": "stream",
          "name": "stdout",
          "text": [
            "[1, 2, 3, 4, 5, 6]\n"
          ]
        }
      ]
    },
    {
      "cell_type": "code",
      "source": [
        "# Find the intersection of two lists: Write a function to find the intersection of two lists.\n",
        "def intersection_of_lists(list1, list2):\n",
        "    return list(set(list1) & set(list2))\n",
        "\n",
        "\n",
        "list1 = [1, 2, 3, 4]\n",
        "list2 = [3, 4, 5, 6]\n",
        "print(intersection_of_lists(list1, list2))\n",
        "\n"
      ],
      "metadata": {
        "colab": {
          "base_uri": "https://localhost:8080/"
        },
        "id": "IQcS6Nh-cc9-",
        "outputId": "d8d680c6-360a-4922-a51c-7173c40ee953"
      },
      "execution_count": null,
      "outputs": [
        {
          "output_type": "stream",
          "name": "stdout",
          "text": [
            "[3, 4]\n"
          ]
        }
      ]
    },
    {
      "cell_type": "code",
      "source": [
        "#Find the difference between two lists: Write a function to find the difference between two lists.\n",
        "def difference_of_lists(list1, list2):\n",
        "    return list(set(list1).difference(set(list2)))\n",
        "\n",
        "\n",
        "list1 = [1, 2, 3, 4]\n",
        "list2 = [3, 4, 5, 6]\n",
        "print(difference_of_lists(list1, list2))"
      ],
      "metadata": {
        "colab": {
          "base_uri": "https://localhost:8080/"
        },
        "id": "Ra4eiOpsdU-P",
        "outputId": "673c89ab-8249-4392-a3bf-29bd9a8d8320"
      },
      "execution_count": null,
      "outputs": [
        {
          "output_type": "stream",
          "name": "stdout",
          "text": [
            "[1, 2]\n"
          ]
        }
      ]
    },
    {
      "cell_type": "code",
      "source": [
        "#Remove duplicates from a list: Write a function to remove duplicates from a list.\n",
        "l1=[1,2,3,3,4,2,5,1]\n",
        "l2=[]\n",
        "for element in l1:\n",
        "  if element not in l2:\n",
        "    l2.append(element)\n",
        "print(l2)\n"
      ],
      "metadata": {
        "colab": {
          "base_uri": "https://localhost:8080/"
        },
        "id": "TBDNm_aRdlPh",
        "outputId": "c60ee1e3-dcfc-4bb7-cae8-cd981e93a484"
      },
      "execution_count": null,
      "outputs": [
        {
          "output_type": "stream",
          "name": "stdout",
          "text": [
            "[1, 2, 3, 4, 5]\n"
          ]
        }
      ]
    },
    {
      "cell_type": "code",
      "source": [
        "# Find the length of a list: Write a function to find the length of a list.\n",
        "def find_length(lst):\n",
        "    length = 0\n",
        "    for _ in lst:\n",
        "        length += 1\n",
        "    return length\n",
        "\n",
        "\n",
        "my_list = [1, 2, 3, 4, 5]\n",
        "print(find_length(my_list))\n"
      ],
      "metadata": {
        "colab": {
          "base_uri": "https://localhost:8080/"
        },
        "id": "FCdZx7BcdeZs",
        "outputId": "f20e098c-8081-48b9-af9e-e313238c1875"
      },
      "execution_count": null,
      "outputs": [
        {
          "output_type": "stream",
          "name": "stdout",
          "text": [
            "5\n"
          ]
        }
      ]
    },
    {
      "cell_type": "code",
      "source": [
        "my_list = [1, 2, 3, 4, 5]\n",
        "print(len(my_list))"
      ],
      "metadata": {
        "colab": {
          "base_uri": "https://localhost:8080/"
        },
        "id": "qY_jUJsLe2sT",
        "outputId": "51681096-f1d7-4764-c8ef-494c3c856d7f"
      },
      "execution_count": null,
      "outputs": [
        {
          "output_type": "stream",
          "name": "stdout",
          "text": [
            "5\n"
          ]
        }
      ]
    },
    {
      "cell_type": "code",
      "source": [
        "# Find the sum of elements in a list: Write a function to find the sum of elements in a list.\n",
        "my_list = [1, 2, 3, 4, 5]\n",
        "sum=0\n",
        "for i in my_list:\n",
        "  sum=sum+i\n",
        "print(sum)\n"
      ],
      "metadata": {
        "colab": {
          "base_uri": "https://localhost:8080/"
        },
        "id": "6vlXs0xZe7As",
        "outputId": "086ed9b5-9594-4a04-93f7-d610714f1083"
      },
      "execution_count": null,
      "outputs": [
        {
          "output_type": "stream",
          "name": "stdout",
          "text": [
            "15\n"
          ]
        }
      ]
    },
    {
      "cell_type": "code",
      "source": [
        "# Find the product of elements in a list: Write a function to find the product of elements in a list.\n",
        "my_list = [1, 2, 3, 4, 5]\n",
        "product=1\n",
        "for i in my_list:\n",
        "  product=product*i\n",
        "print(product)"
      ],
      "metadata": {
        "colab": {
          "base_uri": "https://localhost:8080/"
        },
        "id": "C-FpEM3hfQ6u",
        "outputId": "0ee73181-f8bd-43a8-91b1-ff92313ab99f"
      },
      "execution_count": null,
      "outputs": [
        {
          "output_type": "stream",
          "name": "stdout",
          "text": [
            "120\n"
          ]
        }
      ]
    },
    {
      "cell_type": "code",
      "source": [
        "# Find the average of elements in a list: Write a function to find the average of elements in a list.\n",
        "my_list = [1, 2, 3, 4, 5]\n",
        "sum=0\n",
        "average=0\n",
        "for i in my_list:\n",
        "  sum=sum+i\n",
        "  average=sum/len(my_list)\n",
        "print(average)"
      ],
      "metadata": {
        "colab": {
          "base_uri": "https://localhost:8080/"
        },
        "id": "e8ST70P8fm5e",
        "outputId": "e4d2a38d-a8a1-4441-b05b-555954d3daf5"
      },
      "execution_count": null,
      "outputs": [
        {
          "output_type": "stream",
          "name": "stdout",
          "text": [
            "3.0\n"
          ]
        }
      ]
    },
    {
      "cell_type": "code",
      "source": [
        "#Find the median of elements in a list: Write a function to find the median of elements in a list.\n",
        "my_list = [1, 2, 3, 4, 5]\n",
        "sum=0\n",
        "average=0\n",
        "for i in my_list:\n",
        "  sum=sum+i\n",
        "  average=sum/len(my_list)\n",
        "print(average)"
      ],
      "metadata": {
        "colab": {
          "base_uri": "https://localhost:8080/"
        },
        "id": "sROTJao0fyTQ",
        "outputId": "8bbd736a-e28c-45a5-8784-f94ee6972235"
      },
      "execution_count": null,
      "outputs": [
        {
          "output_type": "stream",
          "name": "stdout",
          "text": [
            "3.0\n"
          ]
        }
      ]
    },
    {
      "cell_type": "code",
      "source": [
        "# Find the mode of elements in a list: Write a function to find the mode of elements in a list.\n",
        "my_list = [1, 2, 3, 4, 5,2,1,2,3,1,2]\n",
        "l2=[]\n",
        "count=0\n",
        "for i in my_list:\n",
        "    if i not in l2:\n",
        "        count=1\n",
        "else:\n",
        "  count=count+1\n",
        "\n",
        "print(count)\n",
        "\n"
      ],
      "metadata": {
        "colab": {
          "base_uri": "https://localhost:8080/"
        },
        "id": "p_5eTudXgA0L",
        "outputId": "d665c542-7143-4809-bcbb-60a05f0c27f6"
      },
      "execution_count": null,
      "outputs": [
        {
          "output_type": "stream",
          "name": "stdout",
          "text": [
            "2\n"
          ]
        }
      ]
    }
  ]
}