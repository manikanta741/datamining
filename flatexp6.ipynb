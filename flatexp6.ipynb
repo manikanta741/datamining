{
  "nbformat": 4,
  "nbformat_minor": 0,
  "metadata": {
    "colab": {
      "provenance": [],
      "authorship_tag": "ABX9TyMbPhqrhoYbUoUmk0T2DgrE",
      "include_colab_link": true
    },
    "kernelspec": {
      "name": "python3",
      "display_name": "Python 3"
    },
    "language_info": {
      "name": "python"
    }
  },
  "cells": [
    {
      "cell_type": "markdown",
      "metadata": {
        "id": "view-in-github",
        "colab_type": "text"
      },
      "source": [
        "<a href=\"https://colab.research.google.com/github/manikanta741/datamining/blob/main/flatexp6.ipynb\" target=\"_parent\"><img src=\"https://colab.research.google.com/assets/colab-badge.svg\" alt=\"Open In Colab\"/></a>"
      ]
    },
    {
      "cell_type": "code",
      "execution_count": 3,
      "metadata": {
        "colab": {
          "base_uri": "https://localhost:8080/"
        },
        "id": "9H5hfB4sjdbe",
        "outputId": "8cc02a8e-e9d4-4572-81ff-060efd77515c"
      },
      "outputs": [
        {
          "output_type": "stream",
          "name": "stdout",
          "text": [
            "Number of words in the corpus: 14\n",
            "The words in the corpus: \n",
            " {'is', 'one', 'best', 'data', 'scientists', 'most', 'of', 'the', 'fields', 'important', 'analyze', 'science', 'courses', 'this'}\n"
          ]
        }
      ],
      "source": [
        "import pandas as pd\n",
        "import numpy as np\n",
        "corpus = ['data science is one of the most important fields of science', 'this is one of the best data science courses',\n",
        "'data scientists analyze data' ]\n",
        "words_set = set()\n",
        "for doc in corpus:\n",
        "  words = doc.split(' ')\n",
        "  words_set = words_set.union(set(words))\n",
        "print('Number of words in the corpus:',len(words_set))\n",
        "print('The words in the corpus: \\n', words_set)\n"
      ]
    },
    {
      "cell_type": "markdown",
      "source": [],
      "metadata": {
        "id": "JmM3Sp9jkp-r"
      }
    },
    {
      "cell_type": "code",
      "source": [
        "print(\"IDF of: \")\n",
        "\n",
        "idf = {}\n",
        "\n",
        "for w in words_set:\n",
        "  k = 0\n",
        "  for i in range(n_docs):\n",
        "    if w in corpus[i].split():\n",
        "      k+= 1\n",
        "  idf[w] = np.log10(n_docs / k)\n",
        "  print(f'{w:>15}: {idf[w]:>10}' )"
      ],
      "metadata": {
        "colab": {
          "base_uri": "https://localhost:8080/"
        },
        "id": "6u9pNM6VmZjL",
        "outputId": "f48bf7eb-7d18-47bc-8515-d8a700a9d172"
      },
      "execution_count": 18,
      "outputs": [
        {
          "output_type": "stream",
          "name": "stdout",
          "text": [
            "IDF of: \n",
            "             is: 0.17609125905568124\n",
            "            one: 0.17609125905568124\n",
            "           best: 0.47712125471966244\n",
            "           data:        0.0\n",
            "     scientists: 0.47712125471966244\n",
            "           most: 0.47712125471966244\n",
            "             of: 0.17609125905568124\n",
            "            the: 0.17609125905568124\n",
            "         fields: 0.47712125471966244\n",
            "      important: 0.47712125471966244\n",
            "        analyze: 0.47712125471966244\n",
            "        science: 0.17609125905568124\n",
            "        courses: 0.47712125471966244\n",
            "           this: 0.47712125471966244\n"
          ]
        }
      ]
    },
    {
      "cell_type": "code",
      "source": [],
      "metadata": {
        "colab": {
          "base_uri": "https://localhost:8080/",
          "height": 106
        },
        "id": "CyZxxkjLnGOT",
        "outputId": "10905eba-ee26-406e-fe71-b1c82cae6495"
      },
      "execution_count": 22,
      "outputs": [
        {
          "output_type": "error",
          "ename": "SyntaxError",
          "evalue": "invalid syntax (<ipython-input-22-075b2380468c>, line 4)",
          "traceback": [
            "\u001b[0;36m  File \u001b[0;32m\"<ipython-input-22-075b2380468c>\"\u001b[0;36m, line \u001b[0;32m4\u001b[0m\n\u001b[0;31m    df_tf_idf[w][i] = df_tf[w][i]*idf[w] df_tf_id\u001b[0m\n\u001b[0m                                         ^\u001b[0m\n\u001b[0;31mSyntaxError\u001b[0m\u001b[0;31m:\u001b[0m invalid syntax\n"
          ]
        }
      ]
    },
    {
      "cell_type": "code",
      "source": [],
      "metadata": {
        "id": "a6J53Jz0kjpk"
      },
      "execution_count": 17,
      "outputs": []
    }
  ]
}