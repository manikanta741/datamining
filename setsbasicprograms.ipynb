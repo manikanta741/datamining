{
  "nbformat": 4,
  "nbformat_minor": 0,
  "metadata": {
    "colab": {
      "provenance": [],
      "authorship_tag": "ABX9TyMBufXjZQkIIkVs5FzFml7e",
      "include_colab_link": true
    },
    "kernelspec": {
      "name": "python3",
      "display_name": "Python 3"
    },
    "language_info": {
      "name": "python"
    }
  },
  "cells": [
    {
      "cell_type": "markdown",
      "metadata": {
        "id": "view-in-github",
        "colab_type": "text"
      },
      "source": [
        "<a href=\"https://colab.research.google.com/github/manikanta741/datamining/blob/main/setsbasicprograms.ipynb\" target=\"_parent\"><img src=\"https://colab.research.google.com/assets/colab-badge.svg\" alt=\"Open In Colab\"/></a>"
      ]
    },
    {
      "cell_type": "code",
      "execution_count": 3,
      "metadata": {
        "colab": {
          "base_uri": "https://localhost:8080/"
        },
        "id": "9nKlXdoeWW9-",
        "outputId": "9bb660e3-9fd4-418a-8e85-44eb806d1287"
      },
      "outputs": [
        {
          "output_type": "stream",
          "name": "stdout",
          "text": [
            "{2, 3}\n"
          ]
        }
      ],
      "source": [
        "#intersection of two sets\n",
        "def sets(set1,set2):\n",
        "  return set1.intersection(set2)\n",
        "set1={1,2,3}\n",
        "set2={2,3,4}\n",
        "print(sets(set1,set2))"
      ]
    },
    {
      "cell_type": "code",
      "source": [
        "#union of two sets\n",
        "def sets(set1,set2):\n",
        "  return set1.union(set2)\n",
        "set1={1,2,3}\n",
        "set2={2,3,4}\n",
        "print(sets(set1,set2))"
      ],
      "metadata": {
        "colab": {
          "base_uri": "https://localhost:8080/"
        },
        "id": "qDneRyweW3nx",
        "outputId": "74962432-7862-4e4d-8a60-fd897162a1d4"
      },
      "execution_count": 2,
      "outputs": [
        {
          "output_type": "stream",
          "name": "stdout",
          "text": [
            "{1, 2, 3, 4}\n"
          ]
        }
      ]
    },
    {
      "cell_type": "code",
      "source": [
        "#difference of two sets\n",
        "def sets(set1,set2):\n",
        "  return set1.difference(set2)\n",
        "set1={1,2,3}\n",
        "set2={2,3,4}\n",
        "print(sets(set1,set2))"
      ],
      "metadata": {
        "colab": {
          "base_uri": "https://localhost:8080/"
        },
        "id": "yy85lENCXD0P",
        "outputId": "e0c1d258-5756-45dd-cd90-f0b0f3a457aa"
      },
      "execution_count": 4,
      "outputs": [
        {
          "output_type": "stream",
          "name": "stdout",
          "text": [
            "{1}\n"
          ]
        }
      ]
    },
    {
      "cell_type": "code",
      "source": [
        "#check wheather set1 is subset of another set\n",
        "set1={1,2,3}\n",
        "set2={1,2,3,4}\n",
        "for i in range(len(set1)):\n",
        "  if i in set2:\n",
        "    print(\"set1 is subset of set2\")\n",
        "    break\n",
        "else:\n",
        "  print(\"set1 is not subset of set2\")"
      ],
      "metadata": {
        "colab": {
          "base_uri": "https://localhost:8080/"
        },
        "id": "AM6WihIUXaLI",
        "outputId": "7480a5cd-8ccd-4849-eb70-4f2843ec5048"
      },
      "execution_count": 9,
      "outputs": [
        {
          "output_type": "stream",
          "name": "stdout",
          "text": [
            "set1 is subset of set2\n"
          ]
        }
      ]
    },
    {
      "cell_type": "code",
      "source": [
        "set1 = {1, 2, 3}\n",
        "set2 = {1, 2, 3, 4}\n",
        "\n",
        "if set1.issubset(set2):\n",
        "    print(\"set1 is a subset of set2\")\n",
        "else:\n",
        "    print(\"set1 is not a subset of set2\")\n"
      ],
      "metadata": {
        "colab": {
          "base_uri": "https://localhost:8080/"
        },
        "id": "X7OXWv8hYsEi",
        "outputId": "5d18fb63-7e68-432c-b5dc-f2a27f06dce1"
      },
      "execution_count": 11,
      "outputs": [
        {
          "output_type": "stream",
          "name": "stdout",
          "text": [
            "set1 is a subset of set2\n"
          ]
        }
      ]
    },
    {
      "cell_type": "code",
      "source": [
        "#superset check\n",
        "set1 = {1, 2, 3}\n",
        "set2 = {1, 2, 3, 4}\n",
        "\n",
        "if set2.issuperset(set1):\n",
        "    print(\"set2 is a superset of set1\")\n",
        "else:\n",
        "    print(\"set2 is not a superset of set1\")\n"
      ],
      "metadata": {
        "colab": {
          "base_uri": "https://localhost:8080/"
        },
        "id": "amkwR9dUX7LJ",
        "outputId": "79805843-2e8c-4dc4-9e53-8490c5654816"
      },
      "execution_count": 10,
      "outputs": [
        {
          "output_type": "stream",
          "name": "stdout",
          "text": [
            "set2 is a superset of set1\n"
          ]
        }
      ]
    },
    {
      "cell_type": "code",
      "source": [
        "#symmetric difference\n",
        "set1 = {1, 2, 3}\n",
        "set2 = {1, 2, 3, 4}\n",
        "\n",
        "symmetric_difference = set1.symmetric_difference(set2)\n",
        "\n",
        "print(\"Symmetric Difference:\", symmetric_difference)"
      ],
      "metadata": {
        "colab": {
          "base_uri": "https://localhost:8080/"
        },
        "id": "-EvYlGF4YwLm",
        "outputId": "1a77ea47-2ab9-4df1-f5af-7459defa6127"
      },
      "execution_count": 12,
      "outputs": [
        {
          "output_type": "stream",
          "name": "stdout",
          "text": [
            "Symmetric Difference: {4}\n"
          ]
        }
      ]
    },
    {
      "cell_type": "code",
      "source": [
        "#disjoint sets\n",
        "def are_sets_disjoint(set1, set2):\n",
        "    \"\"\"\n",
        "    Check if two sets are disjoint.\n",
        "\n",
        "    Parameters:\n",
        "    set1 (set): The first set.\n",
        "    set2 (set): The second set.\n",
        "\n",
        "    Returns:\n",
        "    bool: True if the sets are disjoint, False otherwise.\n",
        "    \"\"\"\n",
        "    return set1.isdisjoint(set2)\n",
        "set1={1,2,3}\n",
        "set2={4,5,6}\n",
        "print(are_sets_disjoint(set1,set2))"
      ],
      "metadata": {
        "colab": {
          "base_uri": "https://localhost:8080/"
        },
        "id": "HNS6RaysZiD2",
        "outputId": "97c1d8d8-a8d6-4cf7-bea9-ad1e40556505"
      },
      "execution_count": 17,
      "outputs": [
        {
          "output_type": "stream",
          "name": "stdout",
          "text": [
            "True\n"
          ]
        }
      ]
    },
    {
      "cell_type": "code",
      "source": [
        "set1 = {1, 2, 3}\n",
        "set2 = {4, 5, 6}\n",
        "set3 = {3, 4, 5}\n",
        "\n",
        "# Check if set1 and set2 are disjoint\n",
        "print(are_sets_disjoint(set1, set2))  # Output: True\n",
        "\n",
        "# Check if set1 and set3 are disjoint\n",
        "print(are_sets_disjoint(set1, set3))  # Output: False\n"
      ],
      "metadata": {
        "colab": {
          "base_uri": "https://localhost:8080/"
        },
        "id": "kJvc6xQiZxYR",
        "outputId": "beded64f-5598-4975-9f11-1dd7fa68949d"
      },
      "execution_count": 16,
      "outputs": [
        {
          "output_type": "stream",
          "name": "stdout",
          "text": [
            "True\n",
            "False\n"
          ]
        }
      ]
    },
    {
      "cell_type": "code",
      "source": [
        "#Convert a list to a set: Write a function to convert a list to a set.\n",
        "def convert_list_to_set(lst):\n",
        "    return set(lst)\n",
        "\n",
        "my_list = [1, 2, 3, 4, 5]\n",
        "my_set = convert_list_to_set(my_list)\n",
        "print(my_set)"
      ],
      "metadata": {
        "colab": {
          "base_uri": "https://localhost:8080/"
        },
        "id": "WQVCJTkdZxM1",
        "outputId": "320ffcc6-11fb-4abd-8764-d6660416c404"
      },
      "execution_count": 19,
      "outputs": [
        {
          "output_type": "stream",
          "name": "stdout",
          "text": [
            "{1, 2, 3, 4, 5}\n"
          ]
        }
      ]
    },
    {
      "cell_type": "code",
      "source": [
        "#set to list\n",
        "def convert_lset_to_list(set):\n",
        "  return list(set)\n",
        "set={1,2,3,4,5}\n",
        "list=convert_lset_to_list(set)\n",
        "print(list)\n",
        "\n",
        ""
      ],
      "metadata": {
        "colab": {
          "base_uri": "https://localhost:8080/"
        },
        "id": "96gwXzpWaT8_",
        "outputId": "5462b0c1-8186-4d6e-fb2b-f1a330ffca56"
      },
      "execution_count": 20,
      "outputs": [
        {
          "output_type": "stream",
          "name": "stdout",
          "text": [
            "[1, 2, 3, 4, 5]\n"
          ]
        }
      ]
    },
    {
      "cell_type": "code",
      "source": [
        "#add elemnent to set\n",
        "def add_element_to_set(set,element):\n",
        "  set.add(element)\n",
        "  return set\n",
        "set={1,2,3,4,5}\n",
        "element=6\n",
        "set=add_element_to_set(set,element)\n",
        "print(set)\n",
        "#"
      ],
      "metadata": {
        "colab": {
          "base_uri": "https://localhost:8080/"
        },
        "id": "_4jRnx0Ma4Tp",
        "outputId": "072329e6-f30d-45d0-9a93-e1b88bc7b70e"
      },
      "execution_count": 21,
      "outputs": [
        {
          "output_type": "stream",
          "name": "stdout",
          "text": [
            "{1, 2, 3, 4, 5, 6}\n"
          ]
        }
      ]
    },
    {
      "cell_type": "code",
      "source": [
        "#Remove an element from a set: Write a function to remove an element from a set.\n",
        "def remove_element(set,element):\n",
        "  set.remove(element)\n",
        "  return set\n",
        "set={1,2,3,4,5}\n",
        "element=4\n",
        "set=remove_element(set,element)\n",
        "print(set)\n"
      ],
      "metadata": {
        "colab": {
          "base_uri": "https://localhost:8080/"
        },
        "id": "hVw9MuJBbDDS",
        "outputId": "ae709da9-5c9d-40dc-c5bb-da3ed3eb0f51"
      },
      "execution_count": 22,
      "outputs": [
        {
          "output_type": "stream",
          "name": "stdout",
          "text": [
            "{1, 2, 3, 5}\n"
          ]
        }
      ]
    },
    {
      "cell_type": "code",
      "source": [
        "#Check if an element is in a set: Write a function to check if an element is in a set.\n",
        "\n",
        "def check_element(set,element):\n",
        "  if element in set:\n",
        "    return True\n",
        "  else:\n",
        "    return False\n",
        "set={1,2,3,4,5}\n",
        "element=4\n",
        "print(check_element(set,element))"
      ],
      "metadata": {
        "colab": {
          "base_uri": "https://localhost:8080/"
        },
        "id": "O6zmNLh2bg23",
        "outputId": "8e4c9f51-b112-4857-ba39-14e7ca469e72"
      },
      "execution_count": 24,
      "outputs": [
        {
          "output_type": "stream",
          "name": "stdout",
          "text": [
            "True\n"
          ]
        }
      ]
    }
  ]
}