{
  "nbformat": 4,
  "nbformat_minor": 0,
  "metadata": {
    "colab": {
      "provenance": [],
      "authorship_tag": "ABX9TyNbn+yh8gSvpkmJnP9jLXRh",
      "include_colab_link": true
    },
    "kernelspec": {
      "name": "python3",
      "display_name": "Python 3"
    },
    "language_info": {
      "name": "python"
    }
  },
  "cells": [
    {
      "cell_type": "markdown",
      "metadata": {
        "id": "view-in-github",
        "colab_type": "text"
      },
      "source": [
        "<a href=\"https://colab.research.google.com/github/manikanta741/datamining/blob/main/PCA.ipynb\" target=\"_parent\"><img src=\"https://colab.research.google.com/assets/colab-badge.svg\" alt=\"Open In Colab\"/></a>"
      ]
    },
    {
      "cell_type": "code",
      "execution_count": 6,
      "metadata": {
        "colab": {
          "base_uri": "https://localhost:8080/"
        },
        "id": "sSEDG91xcKoz",
        "outputId": "9f3690b4-f149-4457-a51d-89c01af1d04a"
      },
      "outputs": [
        {
          "output_type": "execute_result",
          "data": {
            "text/plain": [
              "array([[ 7.00000000e+00,  6.08275148e-16],\n",
              "       [ 5.00000000e+00, -2.32230311e-16],\n",
              "       [ 3.00000000e+00, -1.00878933e-16],\n",
              "       [ 1.00000000e+00, -6.56756891e-17],\n",
              "       [-1.00000000e+00,  6.56756891e-17],\n",
              "       [-3.00000000e+00,  1.00878933e-16],\n",
              "       [-5.00000000e+00,  2.32230311e-16],\n",
              "       [-7.00000000e+00,  1.71285421e-16]])"
            ]
          },
          "metadata": {},
          "execution_count": 6
        }
      ],
      "source": [
        "import numpy as np\n",
        "from sklearn.decomposition import PCA\n",
        "data=np.array([[1,2,3,4],[2,3,4,5],[3,4,5,6],[4,5,6,7],[5,6,7,8],[6,7,8,9],[7,8,9,10],[8,9,10,11]])\n",
        "pca=PCA(n_components=2)\n",
        "pca.fit_transform(data)"
      ]
    },
    {
      "cell_type": "code",
      "source": [
        "import numpy as np\n",
        "from sklearn.decomposition import PCA\n",
        "\n",
        "data=np.array([[1,2,3,4],[2,3,4,5],[3,4,5,6],[4,5,6,7],[5,6,7,8],[6,7,8,9],[7,8,9,10],[8,9,10,11]])\n",
        "\n",
        "std=(data-np.mean(data,axis=0))/np.std(data,axis=0)\n",
        "\n",
        "cov_mat=np.cov(std.T)\n",
        "\n",
        "eigen_va,eigen_vec=np.linalg.eig(cov_mat)\n",
        "pca=PCA(n_components=2)\n",
        "print(pca.fit_transform(std))"
      ],
      "metadata": {
        "colab": {
          "base_uri": "https://localhost:8080/"
        },
        "id": "ZfNjQHPJcZSw",
        "outputId": "e340c49f-ea0b-4289-c4e6-6cb87faf0b60"
      },
      "execution_count": 12,
      "outputs": [
        {
          "output_type": "stream",
          "name": "stdout",
          "text": [
            "[[ 3.05505046e+00  7.56634940e-16]\n",
            " [ 2.18217890e+00 -1.95068793e-16]\n",
            " [ 1.30930734e+00 -1.74730156e-16]\n",
            " [ 4.36435780e-01 -5.82433854e-17]\n",
            " [-4.36435780e-01  5.82433854e-17]\n",
            " [-1.30930734e+00  1.74730156e-16]\n",
            " [-2.18217890e+00  1.95068793e-16]\n",
            " [-3.05505046e+00  3.11555564e-16]]\n"
          ]
        }
      ]
    }
  ]
}