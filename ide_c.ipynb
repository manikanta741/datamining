{
  "nbformat": 4,
  "nbformat_minor": 0,
  "metadata": {
    "colab": {
      "provenance": [],
      "authorship_tag": "ABX9TyMY6bvxgQtT2iy28UcWuDTr",
      "include_colab_link": true
    },
    "kernelspec": {
      "name": "python3",
      "display_name": "Python 3"
    },
    "language_info": {
      "name": "python"
    }
  },
  "cells": [
    {
      "cell_type": "markdown",
      "metadata": {
        "id": "view-in-github",
        "colab_type": "text"
      },
      "source": [
        "<a href=\"https://colab.research.google.com/github/manikanta741/datamining/blob/main/ide_c.ipynb\" target=\"_parent\"><img src=\"https://colab.research.google.com/assets/colab-badge.svg\" alt=\"Open In Colab\"/></a>"
      ]
    },
    {
      "cell_type": "code",
      "execution_count": 1,
      "metadata": {
        "colab": {
          "base_uri": "https://localhost:8080/",
          "height": 106
        },
        "id": "ynL8BEKMJQha",
        "outputId": "88a31c5f-5ebe-449b-bb44-48edfb12e1db"
      },
      "outputs": [
        {
          "output_type": "error",
          "ename": "SyntaxError",
          "evalue": "invalid syntax (<ipython-input-1-f764cc8ac0ab>, line 4)",
          "traceback": [
            "\u001b[0;36m  File \u001b[0;32m\"<ipython-input-1-f764cc8ac0ab>\"\u001b[0;36m, line \u001b[0;32m4\u001b[0m\n\u001b[0;31m    // Returns 'true' if the character is a DELIMITER. bool isDelimiter(char ch)\u001b[0m\n\u001b[0m    ^\u001b[0m\n\u001b[0;31mSyntaxError\u001b[0m\u001b[0;31m:\u001b[0m invalid syntax\n"
          ]
        }
      ],
      "source": [
        "#include <stdbool.h>\n",
        "#include <stdio.h> #include <string.h> #include <stdlib.h>\n",
        "\n",
        "// Returns 'true' if the character is a DELIMITER. bool isDelimiter(char ch)\n",
        "{\n",
        "if (ch == ' ' || ch == '+' || ch == '-' || ch == '*' ||\n",
        "ch == '/' || ch == ',' || ch == ';' || ch == '>' || ch == '<' || ch == '=' || ch == '(' || ch == ')' ||\n",
        "ch == '[' || ch == ']' || ch == '{' || ch == '}'|| ch=='%') return (true);\n",
        "return (false);\n",
        "}\n"
      ]
    }
  ]
}