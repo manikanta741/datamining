{
  "nbformat": 4,
  "nbformat_minor": 0,
  "metadata": {
    "colab": {
      "provenance": [],
      "authorship_tag": "ABX9TyO8f0q4mADMFI+28LhdLcHe",
      "include_colab_link": true
    },
    "kernelspec": {
      "name": "python3",
      "display_name": "Python 3"
    },
    "language_info": {
      "name": "python"
    }
  },
  "cells": [
    {
      "cell_type": "markdown",
      "metadata": {
        "id": "view-in-github",
        "colab_type": "text"
      },
      "source": [
        "<a href=\"https://colab.research.google.com/github/manikanta741/datamining/blob/main/arrp.ipynb\" target=\"_parent\"><img src=\"https://colab.research.google.com/assets/colab-badge.svg\" alt=\"Open In Colab\"/></a>"
      ]
    },
    {
      "cell_type": "code",
      "execution_count": 1,
      "metadata": {
        "colab": {
          "base_uri": "https://localhost:8080/"
        },
        "id": "3cSHx00zBs-d",
        "outputId": "4579b680-fede-4327-a877-f9c0cf53201a"
      },
      "outputs": [
        {
          "output_type": "stream",
          "name": "stdout",
          "text": [
            "Scalar: 5\n",
            "Matrix:\n",
            "[[1 2 3]\n",
            " [4 5 6]\n",
            " [7 8 9]]\n",
            "Result of scalar matrix multiplication:\n",
            "[[ 5 10 15]\n",
            " [20 25 30]\n",
            " [35 40 45]]\n"
          ]
        }
      ],
      "source": [
        "#scalar multiplication\n",
        "import numpy as np\n",
        "\n",
        "# Define the scalar and the matrix\n",
        "scalar = 5\n",
        "matrix = np.array([[1, 2, 3],\n",
        "                   [4, 5, 6],\n",
        "                   [7, 8, 9]])\n",
        "\n",
        "# Perform scalar multiplication\n",
        "result = scalar * matrix\n",
        "\n",
        "# Print the result\n",
        "print(\"Scalar:\", scalar)\n",
        "print(\"Matrix:\")\n",
        "print(matrix)\n",
        "print(\"Result of scalar matrix multiplication:\")\n",
        "print(result)\n"
      ]
    },
    {
      "cell_type": "code",
      "source": [
        "#Add two matrices.\n",
        "a=np.array([[1,2,3],[4,5,6],[7,8,9]])\n",
        "b=np.array([[9,8,7],[6,5,4],[3,2,1]])\n",
        "print(a+b)"
      ],
      "metadata": {
        "colab": {
          "base_uri": "https://localhost:8080/"
        },
        "id": "inhCJOQMCixI",
        "outputId": "df93a069-7e39-4515-b556-2fbff76f82d4"
      },
      "execution_count": 2,
      "outputs": [
        {
          "output_type": "stream",
          "name": "stdout",
          "text": [
            "[[10 10 10]\n",
            " [10 10 10]\n",
            " [10 10 10]]\n"
          ]
        }
      ]
    },
    {
      "cell_type": "code",
      "source": [
        "#subtraction\n",
        "a=np.array([[1,2,3],[4,5,6],[7,8,9]])\n",
        "b=np.array([[9,8,7],[6,5,4],[3,2,1]])\n",
        "print(a-b)"
      ],
      "metadata": {
        "colab": {
          "base_uri": "https://localhost:8080/"
        },
        "id": "gRRDGjaOCzLl",
        "outputId": "54f01f9b-46cc-4583-cb5f-af6f7a4e6f16"
      },
      "execution_count": 3,
      "outputs": [
        {
          "output_type": "stream",
          "name": "stdout",
          "text": [
            "[[-8 -6 -4]\n",
            " [-2  0  2]\n",
            " [ 4  6  8]]\n"
          ]
        }
      ]
    },
    {
      "cell_type": "code",
      "source": [
        "a=np.array([[1,2,3],[4,5,6],[7,8,9]])\n",
        "b=np.array([[9,8,7],[6,5,4],[3,2,1]])\n",
        "result=np.dot(a,b)\n",
        "print(result)"
      ],
      "metadata": {
        "colab": {
          "base_uri": "https://localhost:8080/"
        },
        "id": "HFljCD4SC7N2",
        "outputId": "473c126e-d188-4686-a0df-f2c81184b55d"
      },
      "execution_count": 4,
      "outputs": [
        {
          "output_type": "stream",
          "name": "stdout",
          "text": [
            "[[ 30  24  18]\n",
            " [ 84  69  54]\n",
            " [138 114  90]]\n"
          ]
        }
      ]
    },
    {
      "cell_type": "code",
      "source": [
        "#Check whether two matrices are equal or not.\n",
        "import numpy as np\n",
        "matrix1 = np.array([[1, 2, 3],\n",
        "                    [4, 5, 6],\n",
        "                    [7, 8, 9]])\n",
        "\n",
        "matrix2 = np.array([[1, 2, 3],\n",
        "                    [4, 5, 6],\n",
        "                    [7, 8, 9]])\n",
        "\n",
        "\n",
        "are_equal = np.array_equal(matrix1, matrix2)\n",
        "\n",
        "\n",
        "print(\"Matrix 1:\")\n",
        "print(matrix1)\n",
        "print(\"Matrix 2:\")\n",
        "print(matrix2)\n",
        "print(\"Are the matrices equal?\", are_equal)\n"
      ],
      "metadata": {
        "colab": {
          "base_uri": "https://localhost:8080/"
        },
        "id": "at2MEeg_DF9E",
        "outputId": "ff6f3508-240b-4604-9a6d-cda57e30a8ad"
      },
      "execution_count": 6,
      "outputs": [
        {
          "output_type": "stream",
          "name": "stdout",
          "text": [
            "Matrix 1:\n",
            "[[1 2 3]\n",
            " [4 5 6]\n",
            " [7 8 9]]\n",
            "Matrix 2:\n",
            "[[1 2 3]\n",
            " [4 5 6]\n",
            " [7 8 9]]\n",
            "Are the matrices equal? True\n"
          ]
        }
      ]
    },
    {
      "cell_type": "code",
      "source": [
        "import numpy as np\n",
        "\n",
        "\n",
        "matrix = np.array([[1, 2, 3],\n",
        "                   [4, 5, 6],\n",
        "                   [7, 8, 9]])\n",
        "\n",
        "\n",
        "diagonal_sum = np.trace(matrix)\n",
        "\n",
        "print(\"Matrix:\")\n",
        "print(matrix)\n",
        "print(\"Sum of the main diagonal elements:\", diagonal_sum)\n"
      ],
      "metadata": {
        "colab": {
          "base_uri": "https://localhost:8080/"
        },
        "id": "qI3d_-OWDme9",
        "outputId": "648a256c-1ec3-4ee4-be98-158859d7ec58"
      },
      "execution_count": 7,
      "outputs": [
        {
          "output_type": "stream",
          "name": "stdout",
          "text": [
            "Matrix:\n",
            "[[1 2 3]\n",
            " [4 5 6]\n",
            " [7 8 9]]\n",
            "Sum of the main diagonal elements: 15\n"
          ]
        }
      ]
    },
    {
      "cell_type": "code",
      "source": [
        "import numpy as np\n",
        "\n",
        "# Define the matrix\n",
        "matrix = np.array([[1, 2, 3],\n",
        "                   [4, 5, 6],\n",
        "                   [7, 8, 9]])\n",
        "\n",
        "# Get the size of the matrix (assuming it's square)\n",
        "n = matrix.shape[0]\n",
        "\n",
        "# Compute the sum of the minor diagonal elements\n",
        "minor_diagonal_sum = np.sum(np.fliplr(matrix).diagonal())\n",
        "\n",
        "# Print the result\n",
        "print(\"Matrix:\")\n",
        "print(matrix)\n",
        "print(\"Sum of the minor diagonal elements:\", minor_diagonal_sum)\n"
      ],
      "metadata": {
        "colab": {
          "base_uri": "https://localhost:8080/"
        },
        "id": "qtx3yz2XDyL_",
        "outputId": "dc2e8713-6bad-42bc-baa0-7ca78554c38e"
      },
      "execution_count": 8,
      "outputs": [
        {
          "output_type": "stream",
          "name": "stdout",
          "text": [
            "Matrix:\n",
            "[[1 2 3]\n",
            " [4 5 6]\n",
            " [7 8 9]]\n",
            "Sum of the minor diagonal elements: 15\n"
          ]
        }
      ]
    }
  ]
}