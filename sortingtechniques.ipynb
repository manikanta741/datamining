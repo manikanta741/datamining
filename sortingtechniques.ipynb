{
  "nbformat": 4,
  "nbformat_minor": 0,
  "metadata": {
    "colab": {
      "provenance": [],
      "authorship_tag": "ABX9TyN2dkUNojGL5dVD5syPinVA",
      "include_colab_link": true
    },
    "kernelspec": {
      "name": "python3",
      "display_name": "Python 3"
    },
    "language_info": {
      "name": "python"
    }
  },
  "cells": [
    {
      "cell_type": "markdown",
      "metadata": {
        "id": "view-in-github",
        "colab_type": "text"
      },
      "source": [
        "<a href=\"https://colab.research.google.com/github/manikanta741/datamining/blob/main/sortingtechniques.ipynb\" target=\"_parent\"><img src=\"https://colab.research.google.com/assets/colab-badge.svg\" alt=\"Open In Colab\"/></a>"
      ]
    },
    {
      "cell_type": "code",
      "execution_count": 5,
      "metadata": {
        "colab": {
          "base_uri": "https://localhost:8080/"
        },
        "id": "2sDS2G4yaJfD",
        "outputId": "7f2b570b-0005-42d7-bcf7-38cf6aa87292"
      },
      "outputs": [
        {
          "output_type": "stream",
          "name": "stdout",
          "text": [
            "[13, 94, 234, 791]\n"
          ]
        }
      ],
      "source": [
        "#selection sort\n",
        "list=[791,234,13,94]\n",
        "for i in range(len(list)):\n",
        "  min_value=min(list[i:])\n",
        "  min_index=list.index(min_value)\n",
        "  list[i],list[min_index]=list[min_index],list[i]\n",
        "print(list)"
      ]
    },
    {
      "cell_type": "code",
      "source": [
        "#bubble sort\n",
        "list=[791,234,13,94]\n",
        "for j in range(len(list)-1):\n",
        "  for i in range(len(list)-1):\n",
        "    if list[i]>list[i+1]:\n",
        "      list[i],list[i+1]=list[i+1],list[i]\n",
        "\n",
        "print(list)"
      ],
      "metadata": {
        "colab": {
          "base_uri": "https://localhost:8080/"
        },
        "id": "IdctWPvRdMCe",
        "outputId": "09ef996b-4108-4193-f36d-b4beb04fe9b8"
      },
      "execution_count": 7,
      "outputs": [
        {
          "output_type": "stream",
          "name": "stdout",
          "text": [
            "[13, 94, 234, 791]\n"
          ]
        }
      ]
    },
    {
      "cell_type": "code",
      "source": [
        "def mergesort(list):\n",
        "  if (len(list)>1):\n",
        "    mid=len(list)//2\n",
        "    left_list=list[:mid]\n",
        "    right_list=list[mid:]\n",
        "    mergesort(left_list)\n",
        "    mergesort(right_list)\n",
        "\n",
        "\n",
        "    #conquer\n",
        "    i=0\n",
        "    j=0\n",
        "    k=0\n",
        "\n",
        "    while(i<len(left_list))and (j<len(right_list)):\n",
        "      if left_list[i]<right_list[j]:\n",
        "        list[k]=left_list[j]\n",
        "        i+=1\n",
        "\n",
        "      else:\n",
        "        list[k]=right_list[i]\n",
        "        j+=1\n",
        "      k+=1\n",
        "    while i<len(left_list):\n",
        "      list[k]=left_list[i]\n",
        "      i+=1\n",
        "      k+=1\n",
        "    while j<len(right_list):\n",
        "      list[k]=right_list[j]\n",
        "      j+=1\n",
        "      k+=1\n",
        "  return list\n",
        "\n",
        "\n",
        "\n",
        "\n",
        "\n",
        "\n",
        "\n",
        "\n",
        "list=[791,234,13,94]\n",
        "print(mergesort(list))"
      ],
      "metadata": {
        "colab": {
          "base_uri": "https://localhost:8080/"
        },
        "id": "rBBp07hgd3-0",
        "outputId": "344d47af-7363-4523-b7fd-b0a75ca2a2a1"
      },
      "execution_count": 23,
      "outputs": [
        {
          "output_type": "stream",
          "name": "stdout",
          "text": [
            "[13, 13, 234, 791]\n"
          ]
        }
      ]
    }
  ]
}