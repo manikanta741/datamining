{
  "nbformat": 4,
  "nbformat_minor": 0,
  "metadata": {
    "colab": {
      "provenance": [],
      "authorship_tag": "ABX9TyOmD7IQay5uDbvecI11vwPG",
      "include_colab_link": true
    },
    "kernelspec": {
      "name": "python3",
      "display_name": "Python 3"
    },
    "language_info": {
      "name": "python"
    }
  },
  "cells": [
    {
      "cell_type": "markdown",
      "metadata": {
        "id": "view-in-github",
        "colab_type": "text"
      },
      "source": [
        "<a href=\"https://colab.research.google.com/github/manikanta741/datamining/blob/main/pythonlife.ipynb\" target=\"_parent\"><img src=\"https://colab.research.google.com/assets/colab-badge.svg\" alt=\"Open In Colab\"/></a>"
      ]
    },
    {
      "cell_type": "code",
      "execution_count": null,
      "metadata": {
        "colab": {
          "base_uri": "https://localhost:8080/"
        },
        "id": "xo4ZVoN8tTIo",
        "outputId": "987c01e5-7800-4bff-e0a9-d0d4d293155d"
      },
      "outputs": [
        {
          "output_type": "stream",
          "name": "stdout",
          "text": [
            "17\n",
            "17.0\n",
            "17.0\n"
          ]
        }
      ],
      "source": [
        "#int to dec\n",
        "import decimal\n",
        "integer=17\n",
        "dv=decimal.Decimal(integer)\n",
        "print(dv)\n",
        "print(integer/1)\n",
        "print(float(integer))"
      ]
    },
    {
      "cell_type": "code",
      "source": [
        "#rev of a str\n",
        "sr=\"madam\"\n",
        "print(sr[::-1])"
      ],
      "metadata": {
        "colab": {
          "base_uri": "https://localhost:8080/"
        },
        "id": "udHCbK_htW8Z",
        "outputId": "233df085-3d60-4cef-a4d4-21744e649db3"
      },
      "execution_count": null,
      "outputs": [
        {
          "output_type": "stream",
          "name": "stdout",
          "text": [
            "madam\n"
          ]
        }
      ]
    },
    {
      "cell_type": "code",
      "source": [
        "#no of vowels\n",
        "vowels=\"aeiou\"\n",
        "count=0\n",
        "str1=\"manikanta\"\n",
        "for i in str1:\n",
        "  if i in vowels:\n",
        "    count+=1\n",
        "print(\"no of vowels is\",count)\n"
      ],
      "metadata": {
        "colab": {
          "base_uri": "https://localhost:8080/"
        },
        "id": "tGi7MEgtBj2D",
        "outputId": "ab91868a-1678-4008-ea17-44301958e965"
      },
      "execution_count": null,
      "outputs": [
        {
          "output_type": "stream",
          "name": "stdout",
          "text": [
            "no of vowels is 4\n"
          ]
        }
      ]
    },
    {
      "cell_type": "code",
      "source": [
        "#no of constants\n",
        "vowels=\"aeiou\"\n",
        "count=0\n",
        "str1=\"manikanta\"\n",
        "for i in str1:\n",
        "  if i not in vowels:\n",
        "    count+=1\n",
        "print(\"no of constants is\",count)"
      ],
      "metadata": {
        "colab": {
          "base_uri": "https://localhost:8080/"
        },
        "id": "ba12toKDB1_E",
        "outputId": "b908fe86-4fc0-44eb-c2ed-db5ad8b08961"
      },
      "execution_count": null,
      "outputs": [
        {
          "output_type": "stream",
          "name": "stdout",
          "text": [
            "no of constants is 5\n"
          ]
        }
      ]
    },
    {
      "cell_type": "code",
      "source": [
        "#no of occurances of a char in str\n",
        "str1=\"manikanta\"\n",
        "character='a'\n",
        "count=0\n",
        "for i in str1:\n",
        "  if i==character:\n",
        "    count+=1\n",
        "print(\"no of occurances of character is\",{count})\n"
      ],
      "metadata": {
        "colab": {
          "base_uri": "https://localhost:8080/"
        },
        "id": "JxnKQkJOCKTv",
        "outputId": "bd3a2433-3cec-4f9a-9a83-c43174bd19ac"
      },
      "execution_count": null,
      "outputs": [
        {
          "output_type": "stream",
          "name": "stdout",
          "text": [
            "no of occurances of character is {3}\n"
          ]
        }
      ]
    },
    {
      "cell_type": "code",
      "source": [
        "#fibanoccci series\n",
        "num=10\n",
        "a=0\n",
        "b=1\n",
        "\n",
        "for i in range(0,num):\n",
        "  print(a)\n",
        "  a,b=b,a+b\n"
      ],
      "metadata": {
        "colab": {
          "base_uri": "https://localhost:8080/"
        },
        "id": "9iJg9O6vCspn",
        "outputId": "f4196346-4db9-48ec-8829-c18d3d2633f6"
      },
      "execution_count": null,
      "outputs": [
        {
          "output_type": "stream",
          "name": "stdout",
          "text": [
            "0\n",
            "1\n",
            "1\n",
            "2\n",
            "3\n",
            "5\n",
            "8\n",
            "13\n",
            "21\n",
            "34\n"
          ]
        }
      ]
    },
    {
      "cell_type": "code",
      "source": [
        "#max\n",
        "l1=[9,1,8,2,4,6,5,3]\n",
        "max=l1[0]\n",
        "for i in l1:\n",
        "  if i>max:\n",
        "    max=i\n",
        "print(max)"
      ],
      "metadata": {
        "colab": {
          "base_uri": "https://localhost:8080/"
        },
        "id": "RDUaK71dFbms",
        "outputId": "f938ed53-e5bb-4f04-a53c-45b56c90c4e6"
      },
      "execution_count": null,
      "outputs": [
        {
          "output_type": "stream",
          "name": "stdout",
          "text": [
            "9\n"
          ]
        }
      ]
    },
    {
      "cell_type": "code",
      "source": [
        "#min\n",
        "l1=[9,1,8,2,4,6,5,3]\n",
        "min=l1[0]\n",
        "for i in l1:\n",
        "  if i<min:\n",
        "    min=i\n",
        "print(min)"
      ],
      "metadata": {
        "colab": {
          "base_uri": "https://localhost:8080/"
        },
        "id": "o84vq97WGa4u",
        "outputId": "43c1eb3c-a8f5-47f6-a172-67a4a5cd60b0"
      },
      "execution_count": null,
      "outputs": [
        {
          "output_type": "stream",
          "name": "stdout",
          "text": [
            "1\n"
          ]
        }
      ]
    },
    {
      "cell_type": "code",
      "source": [
        "def find_middle(list):\n",
        "  n=len(list)\n",
        "  if n==0:\n",
        "    return none\n",
        "  else:\n",
        "    if n%2==0:\n",
        "      return list[n//2-1],list[n//2]\n",
        "    else:\n",
        "      return list[n//2]\n",
        "list=[1,2,3,4,5,6]\n",
        "print(find_middle(list))"
      ],
      "metadata": {
        "colab": {
          "base_uri": "https://localhost:8080/"
        },
        "id": "ZCVgsq5LGnnG",
        "outputId": "c0ba3e63-a04c-4c6e-b66f-75dd6fdb6778"
      },
      "execution_count": null,
      "outputs": [
        {
          "output_type": "stream",
          "name": "stdout",
          "text": [
            "(3, 4)\n"
          ]
        }
      ]
    },
    {
      "cell_type": "code",
      "source": [
        "#convert lst to string\n",
        "l2=[\"1\",\"2\",\"3\",\"4\"]\n",
        "str1=\",\".join(l2)\n",
        "print(str1)"
      ],
      "metadata": {
        "colab": {
          "base_uri": "https://localhost:8080/"
        },
        "id": "hzuvgts7JHVv",
        "outputId": "a62a8133-98d1-44f5-9f90-aa247ec12db0"
      },
      "execution_count": null,
      "outputs": [
        {
          "output_type": "stream",
          "name": "stdout",
          "text": [
            "1,2,3,4\n"
          ]
        }
      ]
    },
    {
      "cell_type": "code",
      "source": [
        "l3=[1,2,3,4,5,6]\n",
        "str2=\",\".join(map(str,list))\n",
        "print(str2)"
      ],
      "metadata": {
        "colab": {
          "base_uri": "https://localhost:8080/"
        },
        "id": "oh78eZSwKASA",
        "outputId": "ad183ec1-3700-43e1-aea5-7a9392f7dc49"
      },
      "execution_count": null,
      "outputs": [
        {
          "output_type": "stream",
          "name": "stdout",
          "text": [
            "1,2,3,4,5,6\n"
          ]
        }
      ]
    },
    {
      "cell_type": "code",
      "source": [
        "#convert entire list to str\n",
        "l4=[1,2,3,\"mani\"]\n",
        "print(str(l4))"
      ],
      "metadata": {
        "colab": {
          "base_uri": "https://localhost:8080/"
        },
        "id": "DQDcxfcdKTOn",
        "outputId": "423ea088-c750-4720-e950-245e201d0fd7"
      },
      "execution_count": null,
      "outputs": [
        {
          "output_type": "stream",
          "name": "stdout",
          "text": [
            "[1, 2, 3, 'mani']\n"
          ]
        }
      ]
    },
    {
      "cell_type": "code",
      "source": [
        "l1=[1,2,3,4,5]\n",
        "l2=[6,7,8,9,10]\n",
        "l3=l1+l2\n",
        "print(l3)\n",
        "print(l1.extend(l2))"
      ],
      "metadata": {
        "colab": {
          "base_uri": "https://localhost:8080/"
        },
        "id": "DmBflmXeKoho",
        "outputId": "029294ee-bb9b-4a3d-d285-69273ff7c6ac"
      },
      "execution_count": null,
      "outputs": [
        {
          "output_type": "stream",
          "name": "stdout",
          "text": [
            "[1, 2, 3, 4, 5, 6, 7, 8, 9, 10]\n",
            "None\n"
          ]
        }
      ]
    },
    {
      "cell_type": "code",
      "source": [
        "l1=[1,2,3,4,5]\n",
        "l2=[6,7,8,9,10]\n",
        "l1.extend(l2)\n",
        "print(l1)"
      ],
      "metadata": {
        "colab": {
          "base_uri": "https://localhost:8080/"
        },
        "id": "Cy5UEZj3LKcS",
        "outputId": "2aa2805d-ad42-47b2-ee94-5ae39e3f0597"
      },
      "execution_count": null,
      "outputs": [
        {
          "output_type": "stream",
          "name": "stdout",
          "text": [
            "[1, 2, 3, 4, 5, 6, 7, 8, 9, 10]\n"
          ]
        }
      ]
    },
    {
      "cell_type": "code",
      "source": [
        "#anagrams\n",
        "str1=\"LiSten\"\n",
        "str2=\"SIlent\"\n",
        "s1=str1.upper()\n",
        "s2=str2.upper()\n",
        "if sorted(s1)==sorted(s2):\n",
        "  print(\"anagram\")\n",
        "else:\n",
        "  print(\"not anagram\")"
      ],
      "metadata": {
        "colab": {
          "base_uri": "https://localhost:8080/"
        },
        "id": "pFiOx2S_Lrj6",
        "outputId": "c9933f7c-40a2-4c03-855d-6571f03f2c75"
      },
      "execution_count": null,
      "outputs": [
        {
          "output_type": "stream",
          "name": "stdout",
          "text": [
            "anagram\n"
          ]
        }
      ]
    },
    {
      "cell_type": "code",
      "source": [
        "str1=\"madam\"\n",
        "if str1==str1[::-1]:\n",
        "  print(\"palindrome\")\n",
        "else:\n",
        "  print(\"not palindrome\")"
      ],
      "metadata": {
        "colab": {
          "base_uri": "https://localhost:8080/"
        },
        "id": "-9DHaNH_MQ8R",
        "outputId": "58ed4047-94a4-4cc2-cac2-276de8e83eec"
      },
      "execution_count": null,
      "outputs": [
        {
          "output_type": "stream",
          "name": "stdout",
          "text": [
            "palindrome\n"
          ]
        }
      ]
    },
    {
      "cell_type": "code",
      "source": [
        "def is_palindrome(s):\n",
        "    # Convert to lowercase and remove spaces for consistent checking\n",
        "    s = s.replace(\" \", \"\")\n",
        "\n",
        "    return s == s[::-1]  # Compare the string with its reverse\n",
        "\n",
        "s=input(\"enter a string\")\n",
        "if is_palindrome(s):\n",
        "    print(f\"'{s}' is a palindrome.\")\n",
        "else:\n",
        "    print(f\"'{s}' is not a palindrome.\")"
      ],
      "metadata": {
        "colab": {
          "base_uri": "https://localhost:8080/"
        },
        "id": "yBKOVtc7MoCg",
        "outputId": "f433e694-42b3-48dc-fd71-2d2ae1758994"
      },
      "execution_count": null,
      "outputs": [
        {
          "output_type": "stream",
          "name": "stdout",
          "text": [
            "enter a stringmadam\n",
            "'madam' is a palindrome.\n"
          ]
        }
      ]
    },
    {
      "cell_type": "code",
      "source": [
        "# count of white spaces\n",
        "str1=\"p yth on\"\n",
        "print(str1.count(\" \"))"
      ],
      "metadata": {
        "colab": {
          "base_uri": "https://localhost:8080/"
        },
        "id": "n6_VNSmcM6Dq",
        "outputId": "f0d74ef8-d2dc-4c22-b669-49361c77e148"
      },
      "execution_count": null,
      "outputs": [
        {
          "output_type": "stream",
          "name": "stdout",
          "text": [
            "2\n"
          ]
        }
      ]
    },
    {
      "cell_type": "code",
      "source": [
        "# no of ketters, spaces,digits\n",
        "dig_count=0\n",
        "letter_count=0\n",
        "space_count=0\n",
        "str1=\"mani kanta 4262\"\n",
        "for i in str1:\n",
        "  if i.isdigit():\n",
        "    dig_count+=1\n",
        "  elif i.isalpha():\n",
        "    letter_count+=1\n",
        "  else:\n",
        "    space_count+=1\n",
        "print(dig_count)\n",
        "print(letter_count)\n",
        "print(space_count)"
      ],
      "metadata": {
        "colab": {
          "base_uri": "https://localhost:8080/"
        },
        "id": "wbN-tRhbmwQc",
        "outputId": "091043fa-98ca-4a16-8e79-8e13a70cc153"
      },
      "execution_count": null,
      "outputs": [
        {
          "output_type": "stream",
          "name": "stdout",
          "text": [
            "4\n",
            "9\n",
            "2\n"
          ]
        }
      ]
    },
    {
      "cell_type": "code",
      "source": [
        "#special char\n",
        "dig_count=0\n",
        "letter_count=0\n",
        "space_count=0\n",
        "spchar_count=0\n",
        "str1=\"mani@ kanta$ 42&**(62\"\n",
        "for i in str1:\n",
        "  if i.isdigit():\n",
        "    dig_count+=1\n",
        "  elif i.isalpha():\n",
        "    letter_count+=1\n",
        "  elif i.isspace():\n",
        "    space_count+=1\n",
        "  else:\n",
        "    spchar_count+=1\n",
        "print(dig_count)\n",
        "print(letter_count)\n",
        "print(space_count)\n",
        "print(spchar_count)"
      ],
      "metadata": {
        "colab": {
          "base_uri": "https://localhost:8080/"
        },
        "id": "sMcBIGKbntYg",
        "outputId": "10d16c0a-329f-4af2-be9a-68bb27b18683"
      },
      "execution_count": null,
      "outputs": [
        {
          "output_type": "stream",
          "name": "stdout",
          "text": [
            "4\n",
            "9\n",
            "2\n",
            "6\n"
          ]
        }
      ]
    },
    {
      "cell_type": "code",
      "source": [
        "#special chars\n",
        "def count_special_characters(input_string):\n",
        "    special_char_count = 0\n",
        "\n",
        "    for char in input_string:\n",
        "        if not char.isalnum() and not char.isspace():\n",
        "            special_char_count += 1\n",
        "\n",
        "    return special_char_count\n",
        "\n",
        "# Example usage\n",
        "input_string = input(\"Enter a string: \")\n",
        "special_chars = count_special_characters(input_string)\n",
        "print(f\"Special characters: {special_chars}\")"
      ],
      "metadata": {
        "colab": {
          "base_uri": "https://localhost:8080/"
        },
        "id": "U1xSarPSpdfE",
        "outputId": "281cd171-eb67-47ce-e875-6710c8b2d164"
      },
      "execution_count": null,
      "outputs": [
        {
          "output_type": "stream",
          "name": "stdout",
          "text": [
            "Enter a string: mani $aka%^nta 42%^62\n",
            "Special characters: 5\n"
          ]
        }
      ]
    },
    {
      "cell_type": "code",
      "source": [
        "#removing white spaces\n",
        "str1=\"mani kanta\"\n",
        "print(str1.replace(\" \",\"\"))\n",
        "print(str1.strip())"
      ],
      "metadata": {
        "colab": {
          "base_uri": "https://localhost:8080/"
        },
        "id": "c-54MghJqFiG",
        "outputId": "e34c8459-1757-4710-fb5f-db171ee1dc0c"
      },
      "execution_count": null,
      "outputs": [
        {
          "output_type": "stream",
          "name": "stdout",
          "text": [
            "manikanta\n",
            "mani kanta\n"
          ]
        }
      ]
    },
    {
      "cell_type": "code",
      "source": [
        "#removing leading and tailing spaces\n",
        "str1=\" mani kanta  \"\n",
        "print(\"original string:-\",str1)\n",
        "print(\"removing leading and tailing spaces:-\",   str1.strip())\n",
        "\n",
        "print(\"removing leading spaces:-\",str1.lstrip())\n",
        "\n",
        "print(\"removing tailing spaces:-\",str1.rstrip())\n",
        "\n",
        "\n"
      ],
      "metadata": {
        "colab": {
          "base_uri": "https://localhost:8080/"
        },
        "id": "D7FYN2-wqlKK",
        "outputId": "29addf99-17a5-42da-ec98-43f54668fc94"
      },
      "execution_count": null,
      "outputs": [
        {
          "output_type": "stream",
          "name": "stdout",
          "text": [
            "original string:-  mani kanta  \n",
            "removing leading and tailing spaces:- mani kanta\n",
            "removing leading spaces:- mani kanta  \n",
            "removing tailing spaces:-  mani kanta\n"
          ]
        }
      ]
    },
    {
      "cell_type": "code",
      "source": [
        "#shuffling of array or list\n",
        "import random\n",
        "list=[1,2,3,4,5]\n",
        "random.shuffle(list)\n",
        "print(list)"
      ],
      "metadata": {
        "colab": {
          "base_uri": "https://localhost:8080/"
        },
        "id": "kkgKDa45qwSd",
        "outputId": "d1e07ed6-192d-48fa-fdfa-c521e8a79992"
      },
      "execution_count": null,
      "outputs": [
        {
          "output_type": "stream",
          "name": "stdout",
          "text": [
            "[5, 2, 3, 4, 1]\n"
          ]
        }
      ]
    },
    {
      "cell_type": "code",
      "source": [
        "#num divisible by7 and not div by 5\n",
        "l=[]\n",
        "for i in range(2000,3200):\n",
        "  if i%7==0 and i%5!=0:\n",
        "    l.append(i)\n",
        "print(i)"
      ],
      "metadata": {
        "colab": {
          "base_uri": "https://localhost:8080/"
        },
        "id": "vUhLNQrktF0b",
        "outputId": "25146eea-ca2d-4aaf-93d9-d1a0b2cc9abe"
      },
      "execution_count": null,
      "outputs": [
        {
          "output_type": "stream",
          "name": "stdout",
          "text": [
            "3199\n"
          ]
        }
      ]
    },
    {
      "cell_type": "code",
      "source": [
        "#factorial\n",
        "fact=1\n",
        "num=8\n",
        "for i in range(1,num+1):\n",
        "  if num==1:\n",
        "    fact=1\n",
        "  else:\n",
        "    fact=fact*i\n",
        "  print(fact)"
      ],
      "metadata": {
        "colab": {
          "base_uri": "https://localhost:8080/"
        },
        "id": "uaVzx1vSxOIS",
        "outputId": "3a8523d0-6353-458c-c678-0495d22172c5"
      },
      "execution_count": null,
      "outputs": [
        {
          "output_type": "stream",
          "name": "stdout",
          "text": [
            "40320\n"
          ]
        }
      ]
    },
    {
      "cell_type": "code",
      "source": [
        "#generate list,tuple\n",
        "inp=\"2,3,4,5\"\n",
        "list=inp.split(\",\")\n",
        "print(list)\n",
        "print(tuple(list))"
      ],
      "metadata": {
        "colab": {
          "base_uri": "https://localhost:8080/"
        },
        "id": "k6YZOyuuxmv8",
        "outputId": "49c8bdce-94a8-4ec0-a373-cf9bb4f6e4ea"
      },
      "execution_count": null,
      "outputs": [
        {
          "output_type": "stream",
          "name": "stdout",
          "text": [
            "['2', '3', '4', '5']\n",
            "('2', '3', '4', '5')\n"
          ]
        }
      ]
    },
    {
      "cell_type": "code",
      "source": [
        "#getstring\n",
        "user_input = input(\"Please enter your name: \")\n",
        "\n",
        "#Print thestring\n",
        "print(f\"Hello, {user_input}! Welcome!\")\n"
      ],
      "metadata": {
        "colab": {
          "base_uri": "https://localhost:8080/"
        },
        "id": "0WXX8ijqzhKR",
        "outputId": "f5caa12c-23df-4ee7-afb4-e392fd24a814"
      },
      "execution_count": null,
      "outputs": [
        {
          "output_type": "stream",
          "name": "stdout",
          "text": [
            "Please enter your name: mani\n",
            "Hello, mani! Welcome!\n"
          ]
        }
      ]
    },
    {
      "cell_type": "code",
      "source": [
        "#implement math\n",
        "import math\n",
        "c=50\n",
        "h=30\n",
        "d=int(input())\n",
        "print(math.sqrt((2*c*d)/h))"
      ],
      "metadata": {
        "colab": {
          "base_uri": "https://localhost:8080/"
        },
        "id": "CUA6f-oW0M9b",
        "outputId": "f9d7d945-6254-4274-e593-3ed5c97c6d16"
      },
      "execution_count": null,
      "outputs": [
        {
          "output_type": "stream",
          "name": "stdout",
          "text": [
            "100\n",
            "18.257418583505537\n"
          ]
        }
      ]
    },
    {
      "cell_type": "code",
      "source": [
        "#generate random array of 3 rows and 5 columns\n",
        "import numpy as np\n",
        "import random\n",
        "array=np.random.randint(0,10,size=(3,5))\n",
        "print(array)"
      ],
      "metadata": {
        "colab": {
          "base_uri": "https://localhost:8080/"
        },
        "id": "_zj12Y2f09yi",
        "outputId": "17b920d3-21f8-4568-9b1a-0aa03447b97a"
      },
      "execution_count": null,
      "outputs": [
        {
          "output_type": "stream",
          "name": "stdout",
          "text": [
            "[[5 0 2 4 4]\n",
            " [2 9 6 4 5]\n",
            " [7 3 0 8 0]]\n"
          ]
        }
      ]
    },
    {
      "cell_type": "code",
      "source": [
        "#take  some words as input and then convert to list and produce result in alphabetical order\n",
        "inp=\"without,hello,bag,world\"\n",
        "list=inp.split(\",\")\n",
        "list.sort()\n",
        "print(list)"
      ],
      "metadata": {
        "colab": {
          "base_uri": "https://localhost:8080/"
        },
        "id": "zJPZI9I92Gk-",
        "outputId": "5a350e52-dbbb-47f9-88ce-8f0ad35e2d5d"
      },
      "execution_count": null,
      "outputs": [
        {
          "output_type": "stream",
          "name": "stdout",
          "text": [
            "['bag', 'hello', 'without', 'world']\n"
          ]
        }
      ]
    },
    {
      "cell_type": "code",
      "source": [
        "#capitalize\n",
        "str1=\"maNi kAnta\"\n",
        "print(str1.capitalize())"
      ],
      "metadata": {
        "id": "XjYLMJYx2nz1",
        "colab": {
          "base_uri": "https://localhost:8080/"
        },
        "outputId": "59fd7f44-5444-4425-91d6-5935ea9dd89d"
      },
      "execution_count": 3,
      "outputs": [
        {
          "output_type": "stream",
          "name": "stdout",
          "text": [
            "Mani kanta\n"
          ]
        }
      ]
    },
    {
      "cell_type": "code",
      "source": [
        "def generate_array(x, y):\n",
        "  \"\"\"Generates a 2D array with elements i*j.\n",
        "\n",
        "  Args:\n",
        "    x: Number of rows.\n",
        "    y: Number of columns.\n",
        "\n",
        "  Returns:\n",
        "    A 2D array of size x*y.\n",
        "  \"\"\"\n",
        "\n",
        "  array = [[i * j for j in range(y)] for i in range(x)]\n",
        "  return array\n",
        "\n",
        "# Get input from the user\n",
        "x = int(input(\"Enter the number of rows (X): \"))\n",
        "y = int(input(\"Enter the number of columns (Y): \"))\n",
        "\n",
        "# Generate the 2D array\n",
        "result_array = generate_array(x, y)\n",
        "\n",
        "# Print the array in a readable format\n",
        "for row in result_array:\n",
        "  print(row)"
      ],
      "metadata": {
        "colab": {
          "base_uri": "https://localhost:8080/"
        },
        "id": "PmcjmAb_LY9H",
        "outputId": "322e3632-1d99-4137-b516-0ddb598b6df0"
      },
      "execution_count": 6,
      "outputs": [
        {
          "output_type": "stream",
          "name": "stdout",
          "text": [
            "Enter the number of rows (X): 3\n",
            "Enter the number of columns (Y): 5\n",
            "[0, 0, 0, 0, 0]\n",
            "[0, 1, 2, 3, 4]\n",
            "[0, 2, 4, 6, 8]\n"
          ]
        }
      ]
    },
    {
      "cell_type": "code",
      "source": [
        "# no of letters and digits\n",
        "str2=\"hello world! 123\"\n",
        "dig_count=0\n",
        "letter_count=0\n",
        "for i in str2:\n",
        "  if i.isdigit():\n",
        "    dig_count+=1\n",
        "  elif i.isalpha():\n",
        "    letter_count+=1\n",
        "print(dig_count)\n",
        "print(letter_count)"
      ],
      "metadata": {
        "colab": {
          "base_uri": "https://localhost:8080/"
        },
        "id": "x1y8u0-cLwXj",
        "outputId": "c03a00b0-5429-4823-89dd-ec585840c628"
      },
      "execution_count": 9,
      "outputs": [
        {
          "output_type": "stream",
          "name": "stdout",
          "text": [
            "3\n",
            "10\n"
          ]
        }
      ]
    },
    {
      "cell_type": "code",
      "source": [
        "#count of upper and lower\n",
        "str2=\"Helloworld!\"\n",
        "upper_count=0\n",
        "lower_count=0\n",
        "for i in str2:\n",
        "  if i.isupper():\n",
        "    upper_count+=1\n",
        "  else:\n",
        "    lower_count+=1\n",
        "print(upper_count)\n",
        "print(lower_count)"
      ],
      "metadata": {
        "colab": {
          "base_uri": "https://localhost:8080/"
        },
        "id": "kNV10rkSMKYw",
        "outputId": "43be43ee-e30c-4690-875b-9312c01873f5"
      },
      "execution_count": 22,
      "outputs": [
        {
          "output_type": "stream",
          "name": "stdout",
          "text": [
            "1\n",
            "10\n"
          ]
        }
      ]
    }
  ]
}