{
  "nbformat": 4,
  "nbformat_minor": 0,
  "metadata": {
    "colab": {
      "provenance": [],
      "authorship_tag": "ABX9TyPhs6J7S9esZfZnWlFulAeK",
      "include_colab_link": true
    },
    "kernelspec": {
      "name": "python3",
      "display_name": "Python 3"
    },
    "language_info": {
      "name": "python"
    }
  },
  "cells": [
    {
      "cell_type": "markdown",
      "metadata": {
        "id": "view-in-github",
        "colab_type": "text"
      },
      "source": [
        "<a href=\"https://colab.research.google.com/github/manikanta741/datamining/blob/main/hdp.ipynb\" target=\"_parent\"><img src=\"https://colab.research.google.com/assets/colab-badge.svg\" alt=\"Open In Colab\"/></a>"
      ]
    },
    {
      "cell_type": "code",
      "execution_count": 3,
      "metadata": {
        "id": "8JPXiaa7R_CQ"
      },
      "outputs": [],
      "source": [
        "import numpy as  np\n",
        "import pandas as pd\n",
        "import matplotlib.pyplot as plt\n",
        "from sklearn.model_selection import train_test_split\n",
        "from sklearn.linear_model import LogisticRegression\n",
        "from sklearn  import metrics\n"
      ]
    },
    {
      "cell_type": "code",
      "source": [
        "data=pd.read_csv(\"/content/archive (13).zip\")\n",
        "print(data)\n"
      ],
      "metadata": {
        "colab": {
          "base_uri": "https://localhost:8080/"
        },
        "id": "mcDJCWvNScPY",
        "outputId": "3ca7b8d1-f9a9-44c3-a3fc-ff1e602b0eb7"
      },
      "execution_count": 7,
      "outputs": [
        {
          "output_type": "stream",
          "name": "stdout",
          "text": [
            "      age     sex  chest_pain_type  resting_blood_pressure  cholestoral  \\\n",
            "0      52    Male   Typical angina                     125          212   \n",
            "1      53    Male   Typical angina                     140          203   \n",
            "2      70    Male   Typical angina                     145          174   \n",
            "3      61    Male   Typical angina                     148          203   \n",
            "4      62  Female   Typical angina                     138          294   \n",
            "...   ...     ...              ...                     ...          ...   \n",
            "1020   59    Male  Atypical angina                     140          221   \n",
            "1021   60    Male   Typical angina                     125          258   \n",
            "1022   47    Male   Typical angina                     110          275   \n",
            "1023   50  Female   Typical angina                     110          254   \n",
            "1024   54    Male   Typical angina                     120          188   \n",
            "\n",
            "         fasting_blood_sugar               rest_ecg  Max_heart_rate  \\\n",
            "0       Lower than 120 mg/ml  ST-T wave abnormality             168   \n",
            "1     Greater than 120 mg/ml                 Normal             155   \n",
            "2       Lower than 120 mg/ml  ST-T wave abnormality             125   \n",
            "3       Lower than 120 mg/ml  ST-T wave abnormality             161   \n",
            "4     Greater than 120 mg/ml  ST-T wave abnormality             106   \n",
            "...                      ...                    ...             ...   \n",
            "1020    Lower than 120 mg/ml  ST-T wave abnormality             164   \n",
            "1021    Lower than 120 mg/ml                 Normal             141   \n",
            "1022    Lower than 120 mg/ml                 Normal             118   \n",
            "1023    Lower than 120 mg/ml                 Normal             159   \n",
            "1024    Lower than 120 mg/ml  ST-T wave abnormality             113   \n",
            "\n",
            "     exercise_induced_angina  oldpeak        slope  \\\n",
            "0                         No      1.0  Downsloping   \n",
            "1                        Yes      3.1    Upsloping   \n",
            "2                        Yes      2.6    Upsloping   \n",
            "3                         No      0.0  Downsloping   \n",
            "4                         No      1.9         Flat   \n",
            "...                      ...      ...          ...   \n",
            "1020                     Yes      0.0  Downsloping   \n",
            "1021                     Yes      2.8         Flat   \n",
            "1022                     Yes      1.0         Flat   \n",
            "1023                      No      0.0  Downsloping   \n",
            "1024                      No      1.4         Flat   \n",
            "\n",
            "     vessels_colored_by_flourosopy        thalassemia  target  \n",
            "0                              Two  Reversable Defect       0  \n",
            "1                             Zero  Reversable Defect       0  \n",
            "2                             Zero  Reversable Defect       0  \n",
            "3                              One  Reversable Defect       0  \n",
            "4                            Three       Fixed Defect       0  \n",
            "...                            ...                ...     ...  \n",
            "1020                          Zero       Fixed Defect       1  \n",
            "1021                           One  Reversable Defect       0  \n",
            "1022                           One       Fixed Defect       0  \n",
            "1023                          Zero       Fixed Defect       1  \n",
            "1024                           One  Reversable Defect       0  \n",
            "\n",
            "[1025 rows x 14 columns]\n",
            "   age     sex chest_pain_type  resting_blood_pressure  cholestoral  \\\n",
            "0   52    Male  Typical angina                     125          212   \n",
            "1   53    Male  Typical angina                     140          203   \n",
            "2   70    Male  Typical angina                     145          174   \n",
            "3   61    Male  Typical angina                     148          203   \n",
            "4   62  Female  Typical angina                     138          294   \n",
            "\n",
            "      fasting_blood_sugar               rest_ecg  Max_heart_rate  \\\n",
            "0    Lower than 120 mg/ml  ST-T wave abnormality             168   \n",
            "1  Greater than 120 mg/ml                 Normal             155   \n",
            "2    Lower than 120 mg/ml  ST-T wave abnormality             125   \n",
            "3    Lower than 120 mg/ml  ST-T wave abnormality             161   \n",
            "4  Greater than 120 mg/ml  ST-T wave abnormality             106   \n",
            "\n",
            "  exercise_induced_angina  oldpeak        slope vessels_colored_by_flourosopy  \\\n",
            "0                      No      1.0  Downsloping                           Two   \n",
            "1                     Yes      3.1    Upsloping                          Zero   \n",
            "2                     Yes      2.6    Upsloping                          Zero   \n",
            "3                      No      0.0  Downsloping                           One   \n",
            "4                      No      1.9         Flat                         Three   \n",
            "\n",
            "         thalassemia  target  \n",
            "0  Reversable Defect       0  \n",
            "1  Reversable Defect       0  \n",
            "2  Reversable Defect       0  \n",
            "3  Reversable Defect       0  \n",
            "4       Fixed Defect       0  \n"
          ]
        }
      ]
    },
    {
      "cell_type": "code",
      "source": [
        "print(data.head())"
      ],
      "metadata": {
        "colab": {
          "base_uri": "https://localhost:8080/"
        },
        "id": "HMyF0QYbS9qR",
        "outputId": "55c2be1b-9398-430d-d8ba-9a53b35b410f"
      },
      "execution_count": 8,
      "outputs": [
        {
          "output_type": "stream",
          "name": "stdout",
          "text": [
            "   age     sex chest_pain_type  resting_blood_pressure  cholestoral  \\\n",
            "0   52    Male  Typical angina                     125          212   \n",
            "1   53    Male  Typical angina                     140          203   \n",
            "2   70    Male  Typical angina                     145          174   \n",
            "3   61    Male  Typical angina                     148          203   \n",
            "4   62  Female  Typical angina                     138          294   \n",
            "\n",
            "      fasting_blood_sugar               rest_ecg  Max_heart_rate  \\\n",
            "0    Lower than 120 mg/ml  ST-T wave abnormality             168   \n",
            "1  Greater than 120 mg/ml                 Normal             155   \n",
            "2    Lower than 120 mg/ml  ST-T wave abnormality             125   \n",
            "3    Lower than 120 mg/ml  ST-T wave abnormality             161   \n",
            "4  Greater than 120 mg/ml  ST-T wave abnormality             106   \n",
            "\n",
            "  exercise_induced_angina  oldpeak        slope vessels_colored_by_flourosopy  \\\n",
            "0                      No      1.0  Downsloping                           Two   \n",
            "1                     Yes      3.1    Upsloping                          Zero   \n",
            "2                     Yes      2.6    Upsloping                          Zero   \n",
            "3                      No      0.0  Downsloping                           One   \n",
            "4                      No      1.9         Flat                         Three   \n",
            "\n",
            "         thalassemia  target  \n",
            "0  Reversable Defect       0  \n",
            "1  Reversable Defect       0  \n",
            "2  Reversable Defect       0  \n",
            "3  Reversable Defect       0  \n",
            "4       Fixed Defect       0  \n"
          ]
        }
      ]
    },
    {
      "cell_type": "code",
      "source": [
        "print(data.shape)"
      ],
      "metadata": {
        "colab": {
          "base_uri": "https://localhost:8080/"
        },
        "id": "Mc7lvogGS_jH",
        "outputId": "171c1b39-234c-4bd3-e885-8e09e00ffbe4"
      },
      "execution_count": 9,
      "outputs": [
        {
          "output_type": "stream",
          "name": "stdout",
          "text": [
            "(1025, 14)\n"
          ]
        }
      ]
    },
    {
      "cell_type": "code",
      "source": [
        "print(data['target'].value_counts())"
      ],
      "metadata": {
        "colab": {
          "base_uri": "https://localhost:8080/"
        },
        "id": "V5A3hZy0TBnb",
        "outputId": "9f120530-8fba-4fd0-ada1-cd1039a2efdb"
      },
      "execution_count": 11,
      "outputs": [
        {
          "output_type": "stream",
          "name": "stdout",
          "text": [
            "target\n",
            "1    526\n",
            "0    499\n",
            "Name: count, dtype: int64\n"
          ]
        }
      ]
    },
    {
      "cell_type": "code",
      "source": [
        "print(data.isnull().sum())"
      ],
      "metadata": {
        "colab": {
          "base_uri": "https://localhost:8080/"
        },
        "id": "XRqbjdjJTNvN",
        "outputId": "2ef07e38-ae25-4d97-e430-f256bc177032"
      },
      "execution_count": 12,
      "outputs": [
        {
          "output_type": "stream",
          "name": "stdout",
          "text": [
            "age                              0\n",
            "sex                              0\n",
            "chest_pain_type                  0\n",
            "resting_blood_pressure           0\n",
            "cholestoral                      0\n",
            "fasting_blood_sugar              0\n",
            "rest_ecg                         0\n",
            "Max_heart_rate                   0\n",
            "exercise_induced_angina          0\n",
            "oldpeak                          0\n",
            "slope                            0\n",
            "vessels_colored_by_flourosopy    0\n",
            "thalassemia                      0\n",
            "target                           0\n",
            "dtype: int64\n"
          ]
        }
      ]
    },
    {
      "cell_type": "code",
      "source": [
        "x=data.drop(columns='target' ,axis=1)\n",
        "y=data['target']\n",
        "print(x)"
      ],
      "metadata": {
        "colab": {
          "base_uri": "https://localhost:8080/"
        },
        "id": "mPPfk2glTlqA",
        "outputId": "dbc60793-265a-4a0d-af90-abc4b4aa5a7e"
      },
      "execution_count": 14,
      "outputs": [
        {
          "output_type": "stream",
          "name": "stdout",
          "text": [
            "      age     sex  chest_pain_type  resting_blood_pressure  cholestoral  \\\n",
            "0      52    Male   Typical angina                     125          212   \n",
            "1      53    Male   Typical angina                     140          203   \n",
            "2      70    Male   Typical angina                     145          174   \n",
            "3      61    Male   Typical angina                     148          203   \n",
            "4      62  Female   Typical angina                     138          294   \n",
            "...   ...     ...              ...                     ...          ...   \n",
            "1020   59    Male  Atypical angina                     140          221   \n",
            "1021   60    Male   Typical angina                     125          258   \n",
            "1022   47    Male   Typical angina                     110          275   \n",
            "1023   50  Female   Typical angina                     110          254   \n",
            "1024   54    Male   Typical angina                     120          188   \n",
            "\n",
            "         fasting_blood_sugar               rest_ecg  Max_heart_rate  \\\n",
            "0       Lower than 120 mg/ml  ST-T wave abnormality             168   \n",
            "1     Greater than 120 mg/ml                 Normal             155   \n",
            "2       Lower than 120 mg/ml  ST-T wave abnormality             125   \n",
            "3       Lower than 120 mg/ml  ST-T wave abnormality             161   \n",
            "4     Greater than 120 mg/ml  ST-T wave abnormality             106   \n",
            "...                      ...                    ...             ...   \n",
            "1020    Lower than 120 mg/ml  ST-T wave abnormality             164   \n",
            "1021    Lower than 120 mg/ml                 Normal             141   \n",
            "1022    Lower than 120 mg/ml                 Normal             118   \n",
            "1023    Lower than 120 mg/ml                 Normal             159   \n",
            "1024    Lower than 120 mg/ml  ST-T wave abnormality             113   \n",
            "\n",
            "     exercise_induced_angina  oldpeak        slope  \\\n",
            "0                         No      1.0  Downsloping   \n",
            "1                        Yes      3.1    Upsloping   \n",
            "2                        Yes      2.6    Upsloping   \n",
            "3                         No      0.0  Downsloping   \n",
            "4                         No      1.9         Flat   \n",
            "...                      ...      ...          ...   \n",
            "1020                     Yes      0.0  Downsloping   \n",
            "1021                     Yes      2.8         Flat   \n",
            "1022                     Yes      1.0         Flat   \n",
            "1023                      No      0.0  Downsloping   \n",
            "1024                      No      1.4         Flat   \n",
            "\n",
            "     vessels_colored_by_flourosopy        thalassemia  \n",
            "0                              Two  Reversable Defect  \n",
            "1                             Zero  Reversable Defect  \n",
            "2                             Zero  Reversable Defect  \n",
            "3                              One  Reversable Defect  \n",
            "4                            Three       Fixed Defect  \n",
            "...                            ...                ...  \n",
            "1020                          Zero       Fixed Defect  \n",
            "1021                           One  Reversable Defect  \n",
            "1022                           One       Fixed Defect  \n",
            "1023                          Zero       Fixed Defect  \n",
            "1024                           One  Reversable Defect  \n",
            "\n",
            "[1025 rows x 13 columns]\n"
          ]
        }
      ]
    },
    {
      "cell_type": "code",
      "source": [
        "x_train,x_test,y_train,y_test=train_test_split(x,y,test_size=0.2,random_state=2)\n",
        "print(x.shape,x_train.shape,x_test.shape)"
      ],
      "metadata": {
        "colab": {
          "base_uri": "https://localhost:8080/"
        },
        "id": "6NL8k26SUBj2",
        "outputId": "81551aa7-9624-42d7-edeb-b4c51a7ae6c5"
      },
      "execution_count": 15,
      "outputs": [
        {
          "output_type": "stream",
          "name": "stdout",
          "text": [
            "(1025, 13) (820, 13) (205, 13)\n"
          ]
        }
      ]
    },
    {
      "cell_type": "code",
      "source": [
        "model=LogisticRegression()\n",
        "model.fit(x_train,y_train)"
      ],
      "metadata": {
        "colab": {
          "base_uri": "https://localhost:8080/",
          "height": 339
        },
        "id": "20PcWM-WUVhM",
        "outputId": "c03e9b76-0503-4dc1-97d3-0097365095c7"
      },
      "execution_count": 19,
      "outputs": [
        {
          "output_type": "error",
          "ename": "ValueError",
          "evalue": "could not convert string to float: 'Male'",
          "traceback": [
            "\u001b[0;31m---------------------------------------------------------------------------\u001b[0m",
            "\u001b[0;31mValueError\u001b[0m                                Traceback (most recent call last)",
            "\u001b[0;32m<ipython-input-19-ae94cc7b948d>\u001b[0m in \u001b[0;36m<cell line: 2>\u001b[0;34m()\u001b[0m\n\u001b[1;32m      1\u001b[0m \u001b[0mmodel\u001b[0m\u001b[0;34m=\u001b[0m\u001b[0mLogisticRegression\u001b[0m\u001b[0;34m(\u001b[0m\u001b[0;34m)\u001b[0m\u001b[0;34m\u001b[0m\u001b[0;34m\u001b[0m\u001b[0m\n\u001b[0;32m----> 2\u001b[0;31m \u001b[0mmodel\u001b[0m\u001b[0;34m.\u001b[0m\u001b[0mfit\u001b[0m\u001b[0;34m(\u001b[0m\u001b[0mx_train\u001b[0m\u001b[0;34m,\u001b[0m\u001b[0my_train\u001b[0m\u001b[0;34m)\u001b[0m\u001b[0;34m\u001b[0m\u001b[0;34m\u001b[0m\u001b[0m\n\u001b[0m",
            "\u001b[0;32m/usr/local/lib/python3.10/dist-packages/sklearn/linear_model/_logistic.py\u001b[0m in \u001b[0;36mfit\u001b[0;34m(self, X, y, sample_weight)\u001b[0m\n\u001b[1;32m   1194\u001b[0m             \u001b[0m_dtype\u001b[0m \u001b[0;34m=\u001b[0m \u001b[0;34m[\u001b[0m\u001b[0mnp\u001b[0m\u001b[0;34m.\u001b[0m\u001b[0mfloat64\u001b[0m\u001b[0;34m,\u001b[0m \u001b[0mnp\u001b[0m\u001b[0;34m.\u001b[0m\u001b[0mfloat32\u001b[0m\u001b[0;34m]\u001b[0m\u001b[0;34m\u001b[0m\u001b[0;34m\u001b[0m\u001b[0m\n\u001b[1;32m   1195\u001b[0m \u001b[0;34m\u001b[0m\u001b[0m\n\u001b[0;32m-> 1196\u001b[0;31m         X, y = self._validate_data(\n\u001b[0m\u001b[1;32m   1197\u001b[0m             \u001b[0mX\u001b[0m\u001b[0;34m,\u001b[0m\u001b[0;34m\u001b[0m\u001b[0;34m\u001b[0m\u001b[0m\n\u001b[1;32m   1198\u001b[0m             \u001b[0my\u001b[0m\u001b[0;34m,\u001b[0m\u001b[0;34m\u001b[0m\u001b[0;34m\u001b[0m\u001b[0m\n",
            "\u001b[0;32m/usr/local/lib/python3.10/dist-packages/sklearn/base.py\u001b[0m in \u001b[0;36m_validate_data\u001b[0;34m(self, X, y, reset, validate_separately, **check_params)\u001b[0m\n\u001b[1;32m    582\u001b[0m                 \u001b[0my\u001b[0m \u001b[0;34m=\u001b[0m \u001b[0mcheck_array\u001b[0m\u001b[0;34m(\u001b[0m\u001b[0my\u001b[0m\u001b[0;34m,\u001b[0m \u001b[0minput_name\u001b[0m\u001b[0;34m=\u001b[0m\u001b[0;34m\"y\"\u001b[0m\u001b[0;34m,\u001b[0m \u001b[0;34m**\u001b[0m\u001b[0mcheck_y_params\u001b[0m\u001b[0;34m)\u001b[0m\u001b[0;34m\u001b[0m\u001b[0;34m\u001b[0m\u001b[0m\n\u001b[1;32m    583\u001b[0m             \u001b[0;32melse\u001b[0m\u001b[0;34m:\u001b[0m\u001b[0;34m\u001b[0m\u001b[0;34m\u001b[0m\u001b[0m\n\u001b[0;32m--> 584\u001b[0;31m                 \u001b[0mX\u001b[0m\u001b[0;34m,\u001b[0m \u001b[0my\u001b[0m \u001b[0;34m=\u001b[0m \u001b[0mcheck_X_y\u001b[0m\u001b[0;34m(\u001b[0m\u001b[0mX\u001b[0m\u001b[0;34m,\u001b[0m \u001b[0my\u001b[0m\u001b[0;34m,\u001b[0m \u001b[0;34m**\u001b[0m\u001b[0mcheck_params\u001b[0m\u001b[0;34m)\u001b[0m\u001b[0;34m\u001b[0m\u001b[0;34m\u001b[0m\u001b[0m\n\u001b[0m\u001b[1;32m    585\u001b[0m             \u001b[0mout\u001b[0m \u001b[0;34m=\u001b[0m \u001b[0mX\u001b[0m\u001b[0;34m,\u001b[0m \u001b[0my\u001b[0m\u001b[0;34m\u001b[0m\u001b[0;34m\u001b[0m\u001b[0m\n\u001b[1;32m    586\u001b[0m \u001b[0;34m\u001b[0m\u001b[0m\n",
            "\u001b[0;32m/usr/local/lib/python3.10/dist-packages/sklearn/utils/validation.py\u001b[0m in \u001b[0;36mcheck_X_y\u001b[0;34m(X, y, accept_sparse, accept_large_sparse, dtype, order, copy, force_all_finite, ensure_2d, allow_nd, multi_output, ensure_min_samples, ensure_min_features, y_numeric, estimator)\u001b[0m\n\u001b[1;32m   1104\u001b[0m         )\n\u001b[1;32m   1105\u001b[0m \u001b[0;34m\u001b[0m\u001b[0m\n\u001b[0;32m-> 1106\u001b[0;31m     X = check_array(\n\u001b[0m\u001b[1;32m   1107\u001b[0m         \u001b[0mX\u001b[0m\u001b[0;34m,\u001b[0m\u001b[0;34m\u001b[0m\u001b[0;34m\u001b[0m\u001b[0m\n\u001b[1;32m   1108\u001b[0m         \u001b[0maccept_sparse\u001b[0m\u001b[0;34m=\u001b[0m\u001b[0maccept_sparse\u001b[0m\u001b[0;34m,\u001b[0m\u001b[0;34m\u001b[0m\u001b[0;34m\u001b[0m\u001b[0m\n",
            "\u001b[0;32m/usr/local/lib/python3.10/dist-packages/sklearn/utils/validation.py\u001b[0m in \u001b[0;36mcheck_array\u001b[0;34m(array, accept_sparse, accept_large_sparse, dtype, order, copy, force_all_finite, ensure_2d, allow_nd, ensure_min_samples, ensure_min_features, estimator, input_name)\u001b[0m\n\u001b[1;32m    877\u001b[0m                     \u001b[0marray\u001b[0m \u001b[0;34m=\u001b[0m \u001b[0mxp\u001b[0m\u001b[0;34m.\u001b[0m\u001b[0mastype\u001b[0m\u001b[0;34m(\u001b[0m\u001b[0marray\u001b[0m\u001b[0;34m,\u001b[0m \u001b[0mdtype\u001b[0m\u001b[0;34m,\u001b[0m \u001b[0mcopy\u001b[0m\u001b[0;34m=\u001b[0m\u001b[0;32mFalse\u001b[0m\u001b[0;34m)\u001b[0m\u001b[0;34m\u001b[0m\u001b[0;34m\u001b[0m\u001b[0m\n\u001b[1;32m    878\u001b[0m                 \u001b[0;32melse\u001b[0m\u001b[0;34m:\u001b[0m\u001b[0;34m\u001b[0m\u001b[0;34m\u001b[0m\u001b[0m\n\u001b[0;32m--> 879\u001b[0;31m                     \u001b[0marray\u001b[0m \u001b[0;34m=\u001b[0m \u001b[0m_asarray_with_order\u001b[0m\u001b[0;34m(\u001b[0m\u001b[0marray\u001b[0m\u001b[0;34m,\u001b[0m \u001b[0morder\u001b[0m\u001b[0;34m=\u001b[0m\u001b[0morder\u001b[0m\u001b[0;34m,\u001b[0m \u001b[0mdtype\u001b[0m\u001b[0;34m=\u001b[0m\u001b[0mdtype\u001b[0m\u001b[0;34m,\u001b[0m \u001b[0mxp\u001b[0m\u001b[0;34m=\u001b[0m\u001b[0mxp\u001b[0m\u001b[0;34m)\u001b[0m\u001b[0;34m\u001b[0m\u001b[0;34m\u001b[0m\u001b[0m\n\u001b[0m\u001b[1;32m    880\u001b[0m             \u001b[0;32mexcept\u001b[0m \u001b[0mComplexWarning\u001b[0m \u001b[0;32mas\u001b[0m \u001b[0mcomplex_warning\u001b[0m\u001b[0;34m:\u001b[0m\u001b[0;34m\u001b[0m\u001b[0;34m\u001b[0m\u001b[0m\n\u001b[1;32m    881\u001b[0m                 raise ValueError(\n",
            "\u001b[0;32m/usr/local/lib/python3.10/dist-packages/sklearn/utils/_array_api.py\u001b[0m in \u001b[0;36m_asarray_with_order\u001b[0;34m(array, dtype, order, copy, xp)\u001b[0m\n\u001b[1;32m    183\u001b[0m     \u001b[0;32mif\u001b[0m \u001b[0mxp\u001b[0m\u001b[0;34m.\u001b[0m\u001b[0m__name__\u001b[0m \u001b[0;32min\u001b[0m \u001b[0;34m{\u001b[0m\u001b[0;34m\"numpy\"\u001b[0m\u001b[0;34m,\u001b[0m \u001b[0;34m\"numpy.array_api\"\u001b[0m\u001b[0;34m}\u001b[0m\u001b[0;34m:\u001b[0m\u001b[0;34m\u001b[0m\u001b[0;34m\u001b[0m\u001b[0m\n\u001b[1;32m    184\u001b[0m         \u001b[0;31m# Use NumPy API to support order\u001b[0m\u001b[0;34m\u001b[0m\u001b[0;34m\u001b[0m\u001b[0m\n\u001b[0;32m--> 185\u001b[0;31m         \u001b[0marray\u001b[0m \u001b[0;34m=\u001b[0m \u001b[0mnumpy\u001b[0m\u001b[0;34m.\u001b[0m\u001b[0masarray\u001b[0m\u001b[0;34m(\u001b[0m\u001b[0marray\u001b[0m\u001b[0;34m,\u001b[0m \u001b[0morder\u001b[0m\u001b[0;34m=\u001b[0m\u001b[0morder\u001b[0m\u001b[0;34m,\u001b[0m \u001b[0mdtype\u001b[0m\u001b[0;34m=\u001b[0m\u001b[0mdtype\u001b[0m\u001b[0;34m)\u001b[0m\u001b[0;34m\u001b[0m\u001b[0;34m\u001b[0m\u001b[0m\n\u001b[0m\u001b[1;32m    186\u001b[0m         \u001b[0;32mreturn\u001b[0m \u001b[0mxp\u001b[0m\u001b[0;34m.\u001b[0m\u001b[0masarray\u001b[0m\u001b[0;34m(\u001b[0m\u001b[0marray\u001b[0m\u001b[0;34m,\u001b[0m \u001b[0mcopy\u001b[0m\u001b[0;34m=\u001b[0m\u001b[0mcopy\u001b[0m\u001b[0;34m)\u001b[0m\u001b[0;34m\u001b[0m\u001b[0;34m\u001b[0m\u001b[0m\n\u001b[1;32m    187\u001b[0m     \u001b[0;32melse\u001b[0m\u001b[0;34m:\u001b[0m\u001b[0;34m\u001b[0m\u001b[0;34m\u001b[0m\u001b[0m\n",
            "\u001b[0;32m/usr/local/lib/python3.10/dist-packages/pandas/core/generic.py\u001b[0m in \u001b[0;36m__array__\u001b[0;34m(self, dtype)\u001b[0m\n\u001b[1;32m   1996\u001b[0m     \u001b[0;32mdef\u001b[0m \u001b[0m__array__\u001b[0m\u001b[0;34m(\u001b[0m\u001b[0mself\u001b[0m\u001b[0;34m,\u001b[0m \u001b[0mdtype\u001b[0m\u001b[0;34m:\u001b[0m \u001b[0mnpt\u001b[0m\u001b[0;34m.\u001b[0m\u001b[0mDTypeLike\u001b[0m \u001b[0;34m|\u001b[0m \u001b[0;32mNone\u001b[0m \u001b[0;34m=\u001b[0m \u001b[0;32mNone\u001b[0m\u001b[0;34m)\u001b[0m \u001b[0;34m->\u001b[0m \u001b[0mnp\u001b[0m\u001b[0;34m.\u001b[0m\u001b[0mndarray\u001b[0m\u001b[0;34m:\u001b[0m\u001b[0;34m\u001b[0m\u001b[0;34m\u001b[0m\u001b[0m\n\u001b[1;32m   1997\u001b[0m         \u001b[0mvalues\u001b[0m \u001b[0;34m=\u001b[0m \u001b[0mself\u001b[0m\u001b[0;34m.\u001b[0m\u001b[0m_values\u001b[0m\u001b[0;34m\u001b[0m\u001b[0;34m\u001b[0m\u001b[0m\n\u001b[0;32m-> 1998\u001b[0;31m         \u001b[0marr\u001b[0m \u001b[0;34m=\u001b[0m \u001b[0mnp\u001b[0m\u001b[0;34m.\u001b[0m\u001b[0masarray\u001b[0m\u001b[0;34m(\u001b[0m\u001b[0mvalues\u001b[0m\u001b[0;34m,\u001b[0m \u001b[0mdtype\u001b[0m\u001b[0;34m=\u001b[0m\u001b[0mdtype\u001b[0m\u001b[0;34m)\u001b[0m\u001b[0;34m\u001b[0m\u001b[0;34m\u001b[0m\u001b[0m\n\u001b[0m\u001b[1;32m   1999\u001b[0m         if (\n\u001b[1;32m   2000\u001b[0m             \u001b[0mastype_is_view\u001b[0m\u001b[0;34m(\u001b[0m\u001b[0mvalues\u001b[0m\u001b[0;34m.\u001b[0m\u001b[0mdtype\u001b[0m\u001b[0;34m,\u001b[0m \u001b[0marr\u001b[0m\u001b[0;34m.\u001b[0m\u001b[0mdtype\u001b[0m\u001b[0;34m)\u001b[0m\u001b[0;34m\u001b[0m\u001b[0;34m\u001b[0m\u001b[0m\n",
            "\u001b[0;31mValueError\u001b[0m: could not convert string to float: 'Male'"
          ]
        }
      ]
    }
  ]
}