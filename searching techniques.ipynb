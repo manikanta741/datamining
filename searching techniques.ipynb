{
  "nbformat": 4,
  "nbformat_minor": 0,
  "metadata": {
    "colab": {
      "provenance": [],
      "authorship_tag": "ABX9TyPRfETfCFVcVq9d1Ttm8bne",
      "include_colab_link": true
    },
    "kernelspec": {
      "name": "python3",
      "display_name": "Python 3"
    },
    "language_info": {
      "name": "python"
    }
  },
  "cells": [
    {
      "cell_type": "markdown",
      "metadata": {
        "id": "view-in-github",
        "colab_type": "text"
      },
      "source": [
        "<a href=\"https://colab.research.google.com/github/manikanta741/datamining/blob/main/searching%20techniques.ipynb\" target=\"_parent\"><img src=\"https://colab.research.google.com/assets/colab-badge.svg\" alt=\"Open In Colab\"/></a>"
      ]
    },
    {
      "cell_type": "code",
      "execution_count": 1,
      "metadata": {
        "colab": {
          "base_uri": "https://localhost:8080/"
        },
        "id": "8d0fPmpKG4Kh",
        "outputId": "0809f0bc-47c8-4005-8d14-2701e14d077d"
      },
      "outputs": [
        {
          "output_type": "stream",
          "name": "stdout",
          "text": [
            "2\n"
          ]
        }
      ],
      "source": [
        "#linear search\n",
        "def linear_search(arr,target):\n",
        "    for i in range(len(arr)):\n",
        "        if arr[i]==target:\n",
        "            return i\n",
        "    return -1\n",
        "arr=[1,2,3,4,5]\n",
        "target=3\n",
        "result=linear_search(arr,target)\n",
        "print(result)"
      ]
    },
    {
      "cell_type": "code",
      "source": [
        "#binary search\n",
        "def binary_search(arr,target):\n",
        "  low,high=0,len(arr)-1\n",
        "  mid=(low+high)//2\n",
        "  while low<=high:\n",
        "    if arr[mid]==target:\n",
        "      return mid\n",
        "    elif arr[mid]<target:\n",
        "      low=mid+1\n",
        "    else:\n",
        "      high=mid-1\n",
        "\n",
        "  return -1\n",
        "arr=[1,2,3,4,5]\n",
        "target=3\n",
        "result=binary_search(arr,target)\n",
        "print(result)"
      ],
      "metadata": {
        "colab": {
          "base_uri": "https://localhost:8080/"
        },
        "id": "sEl9-_G0HW5w",
        "outputId": "9f7db252-9388-4a02-f8aa-abe0420f2f99"
      },
      "execution_count": 3,
      "outputs": [
        {
          "output_type": "stream",
          "name": "stdout",
          "text": [
            "2\n"
          ]
        }
      ]
    }
  ]
}