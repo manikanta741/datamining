{
  "nbformat": 4,
  "nbformat_minor": 0,
  "metadata": {
    "colab": {
      "provenance": [],
      "authorship_tag": "ABX9TyPZER1IqKWDzqFLG71vMlJp",
      "include_colab_link": true
    },
    "kernelspec": {
      "name": "python3",
      "display_name": "Python 3"
    },
    "language_info": {
      "name": "python"
    }
  },
  "cells": [
    {
      "cell_type": "markdown",
      "metadata": {
        "id": "view-in-github",
        "colab_type": "text"
      },
      "source": [
        "<a href=\"https://colab.research.google.com/github/manikanta741/datamining/blob/main/stringpy.ipynb\" target=\"_parent\"><img src=\"https://colab.research.google.com/assets/colab-badge.svg\" alt=\"Open In Colab\"/></a>"
      ]
    },
    {
      "cell_type": "code",
      "execution_count": 1,
      "metadata": {
        "colab": {
          "base_uri": "https://localhost:8080/"
        },
        "id": "AlAb-KTp3U2j",
        "outputId": "32a40d97-399a-44ae-e334-687c43c3f80b"
      },
      "outputs": [
        {
          "output_type": "stream",
          "name": "stdout",
          "text": [
            "anagram\n"
          ]
        }
      ],
      "source": [
        "#anagram\n",
        "s1=\"listen\"\n",
        "s2=\"silent\"\n",
        "if sorted(s1)==sorted(s2):\n",
        "  print(\"anagram\")\n",
        "else:\n",
        "  print(\"not anagram\")"
      ]
    },
    {
      "cell_type": "code",
      "source": [
        "#len of a string\n",
        "my_string = \"Python is awesome!\"\n",
        "string_length = len(my_string)\n",
        "print(string_length)\n"
      ],
      "metadata": {
        "colab": {
          "base_uri": "https://localhost:8080/"
        },
        "id": "w4forqRJ3eoE",
        "outputId": "2a95b551-a0f3-49ed-c97e-ea703d140924"
      },
      "execution_count": 2,
      "outputs": [
        {
          "output_type": "stream",
          "name": "stdout",
          "text": [
            "18\n"
          ]
        }
      ]
    },
    {
      "cell_type": "code",
      "source": [
        "#Copy one string to another string.\n",
        "my_string = \"Python is awesome!\"\n",
        "new_string = my_string\n",
        "print(new_string)\n"
      ],
      "metadata": {
        "colab": {
          "base_uri": "https://localhost:8080/"
        },
        "id": "gqAzU90z3q0f",
        "outputId": "feb25f93-503e-410e-893a-b3ccc026e5dc"
      },
      "execution_count": 3,
      "outputs": [
        {
          "output_type": "stream",
          "name": "stdout",
          "text": [
            "Python is awesome!\n"
          ]
        }
      ]
    },
    {
      "cell_type": "code",
      "source": [
        "#Copy one string to another string.\n",
        "my_string = \"Python is awesome!\"\n",
        "new_string = my_string[:]\n",
        "print(new_string)"
      ],
      "metadata": {
        "colab": {
          "base_uri": "https://localhost:8080/"
        },
        "id": "hdIkO-k13_TR",
        "outputId": "26a9fe3c-1fc4-49a3-ae16-20babd48773f"
      },
      "execution_count": 4,
      "outputs": [
        {
          "output_type": "stream",
          "name": "stdout",
          "text": [
            "Python is awesome!\n"
          ]
        }
      ]
    },
    {
      "cell_type": "code",
      "source": [
        "#Concatenate two strings.\n",
        "s1=\"hello\"\n",
        "s2=\"world\"\n",
        "print(s1+s2)"
      ],
      "metadata": {
        "colab": {
          "base_uri": "https://localhost:8080/"
        },
        "id": "X5d0eHcG4S3y",
        "outputId": "accebd3a-0bae-4053-af5f-db39d5ca0c42"
      },
      "execution_count": 5,
      "outputs": [
        {
          "output_type": "stream",
          "name": "stdout",
          "text": [
            "helloworld\n"
          ]
        }
      ]
    },
    {
      "cell_type": "code",
      "source": [
        "#Compare two strings.\n",
        "string1 = \"Hello\"\n",
        "string2 = \"hello\"\n",
        "\n",
        "\n",
        "are_equal = string1 == string2\n",
        "print(\"Are strings equal?\", are_equal)\n",
        "\n"
      ],
      "metadata": {
        "colab": {
          "base_uri": "https://localhost:8080/"
        },
        "id": "gNVBcX944qVx",
        "outputId": "b733dd87-5b7c-4f7e-b8c9-d03cb3521ca5"
      },
      "execution_count": 6,
      "outputs": [
        {
          "output_type": "stream",
          "name": "stdout",
          "text": [
            "Are strings equal? False\n"
          ]
        }
      ]
    },
    {
      "cell_type": "code",
      "source": [
        "#Lexicographical Comparison\n",
        "string1 = \"apple\"\n",
        "string2 = \"banana\"\n",
        "\n",
        "# Compare strings lexicographically\n",
        "if string1 < string2:\n",
        "    print(f\"{string1} comes before {string2}\")\n",
        "elif string1 > string2:\n",
        "    print(f\"{string1} comes after {string2}\")\n",
        "else:\n",
        "    print(f\"{string1} is equal to {string2}\")\n"
      ],
      "metadata": {
        "colab": {
          "base_uri": "https://localhost:8080/"
        },
        "id": "tpPpN8ao5d5q",
        "outputId": "44e3517e-7620-4cc2-c8c6-0feb9bc77e4a"
      },
      "execution_count": 7,
      "outputs": [
        {
          "output_type": "stream",
          "name": "stdout",
          "text": [
            "apple comes before banana\n"
          ]
        }
      ]
    },
    {
      "cell_type": "code",
      "source": [
        "#Case-Insensitive Comparison\n",
        "string1 = \"Hello\"\n",
        "string2 = \"hello\"\n",
        "are_equal_case_insensitive = string1.lower() == string2.lower()\n",
        "print(\"Are strings equal (case insensitive)?\", are_equal_case_insensitive)\n"
      ],
      "metadata": {
        "colab": {
          "base_uri": "https://localhost:8080/"
        },
        "id": "xdzSty9D59kn",
        "outputId": "325842cb-4531-441f-c15c-bec82be1d09f"
      },
      "execution_count": 8,
      "outputs": [
        {
          "output_type": "stream",
          "name": "stdout",
          "text": [
            "Are strings equal (case insensitive)? True\n"
          ]
        }
      ]
    },
    {
      "cell_type": "code",
      "source": [
        "s=\"ELLO\"\n",
        "s1=s.lower()\n",
        "print(s1)"
      ],
      "metadata": {
        "colab": {
          "base_uri": "https://localhost:8080/"
        },
        "id": "9ZGjmLZX6pD_",
        "outputId": "4719fc45-520f-412d-8050-495549eb88a0"
      },
      "execution_count": 13,
      "outputs": [
        {
          "output_type": "stream",
          "name": "stdout",
          "text": [
            "ello\n"
          ]
        }
      ]
    },
    {
      "cell_type": "code",
      "source": [
        "s=\"hello\"\n",
        "s1=s.upper()\n",
        "print(s1)"
      ],
      "metadata": {
        "colab": {
          "base_uri": "https://localhost:8080/"
        },
        "id": "XvKidm0167YU",
        "outputId": "640ce74e-b2c2-42b6-b657-ea1c95cb7b2d"
      },
      "execution_count": 14,
      "outputs": [
        {
          "output_type": "stream",
          "name": "stdout",
          "text": [
            "HELLO\n"
          ]
        }
      ]
    },
    {
      "cell_type": "code",
      "source": [
        "#Toggle case of each character of a string. python\n",
        "string=\"Hello World\"\n",
        "toggled_string = string.swapcase()\n",
        "\n",
        "print(\"Original string:\", string)\n",
        "print(\"Toggled case string:\", toggled_string)\n"
      ],
      "metadata": {
        "id": "G8VS795T7R0q",
        "outputId": "a0124439-a6f7-4459-f113-063eab8d0e28",
        "colab": {
          "base_uri": "https://localhost:8080/"
        }
      },
      "execution_count": 17,
      "outputs": [
        {
          "output_type": "stream",
          "name": "stdout",
          "text": [
            "Original string: Hello World\n",
            "Toggled case string: hELLO wORLD\n"
          ]
        }
      ]
    },
    {
      "cell_type": "code",
      "source": [],
      "metadata": {
        "id": "20ZhEZV-70vS"
      },
      "execution_count": null,
      "outputs": []
    }
  ]
}