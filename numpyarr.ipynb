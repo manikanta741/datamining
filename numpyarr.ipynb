{
  "nbformat": 4,
  "nbformat_minor": 0,
  "metadata": {
    "colab": {
      "provenance": [],
      "authorship_tag": "ABX9TyOjGnYbsybvOkQlg+2EUFP7",
      "include_colab_link": true
    },
    "kernelspec": {
      "name": "python3",
      "display_name": "Python 3"
    },
    "language_info": {
      "name": "python"
    }
  },
  "cells": [
    {
      "cell_type": "markdown",
      "metadata": {
        "id": "view-in-github",
        "colab_type": "text"
      },
      "source": [
        "<a href=\"https://colab.research.google.com/github/manikanta741/datamining/blob/main/numpyarr.ipynb\" target=\"_parent\"><img src=\"https://colab.research.google.com/assets/colab-badge.svg\" alt=\"Open In Colab\"/></a>"
      ]
    },
    {
      "cell_type": "code",
      "execution_count": null,
      "metadata": {
        "colab": {
          "base_uri": "https://localhost:8080/"
        },
        "id": "3cSHx00zBs-d",
        "outputId": "4579b680-fede-4327-a877-f9c0cf53201a"
      },
      "outputs": [
        {
          "output_type": "stream",
          "name": "stdout",
          "text": [
            "Scalar: 5\n",
            "Matrix:\n",
            "[[1 2 3]\n",
            " [4 5 6]\n",
            " [7 8 9]]\n",
            "Result of scalar matrix multiplication:\n",
            "[[ 5 10 15]\n",
            " [20 25 30]\n",
            " [35 40 45]]\n"
          ]
        }
      ],
      "source": [
        "#scalar multiplication\n",
        "import numpy as np\n",
        "\n",
        "# Define the scalar and the matrix\n",
        "scalar = 5\n",
        "matrix = np.array([[1, 2, 3],\n",
        "                   [4, 5, 6],\n",
        "                   [7, 8, 9]])\n",
        "\n",
        "# Perform scalar multiplication\n",
        "result = scalar * matrix\n",
        "\n",
        "# Print the result\n",
        "print(\"Scalar:\", scalar)\n",
        "print(\"Matrix:\")\n",
        "print(matrix)\n",
        "print(\"Result of scalar matrix multiplication:\")\n",
        "print(result)\n"
      ]
    },
    {
      "cell_type": "code",
      "source": [
        "#Add two matrices.\n",
        "a=np.array([[1,2,3],[4,5,6],[7,8,9]])\n",
        "b=np.array([[9,8,7],[6,5,4],[3,2,1]])\n",
        "print(a+b)"
      ],
      "metadata": {
        "colab": {
          "base_uri": "https://localhost:8080/"
        },
        "id": "inhCJOQMCixI",
        "outputId": "df93a069-7e39-4515-b556-2fbff76f82d4"
      },
      "execution_count": null,
      "outputs": [
        {
          "output_type": "stream",
          "name": "stdout",
          "text": [
            "[[10 10 10]\n",
            " [10 10 10]\n",
            " [10 10 10]]\n"
          ]
        }
      ]
    },
    {
      "cell_type": "code",
      "source": [
        "#subtraction\n",
        "a=np.array([[1,2,3],[4,5,6],[7,8,9]])\n",
        "b=np.array([[9,8,7],[6,5,4],[3,2,1]])\n",
        "print(a-b)"
      ],
      "metadata": {
        "colab": {
          "base_uri": "https://localhost:8080/"
        },
        "id": "gRRDGjaOCzLl",
        "outputId": "54f01f9b-46cc-4583-cb5f-af6f7a4e6f16"
      },
      "execution_count": null,
      "outputs": [
        {
          "output_type": "stream",
          "name": "stdout",
          "text": [
            "[[-8 -6 -4]\n",
            " [-2  0  2]\n",
            " [ 4  6  8]]\n"
          ]
        }
      ]
    },
    {
      "cell_type": "code",
      "source": [
        "a=np.array([[1,2,3],[4,5,6],[7,8,9]])\n",
        "b=np.array([[9,8,7],[6,5,4],[3,2,1]])\n",
        "result=np.dot(a,b)\n",
        "print(result)"
      ],
      "metadata": {
        "colab": {
          "base_uri": "https://localhost:8080/"
        },
        "id": "HFljCD4SC7N2",
        "outputId": "473c126e-d188-4686-a0df-f2c81184b55d"
      },
      "execution_count": null,
      "outputs": [
        {
          "output_type": "stream",
          "name": "stdout",
          "text": [
            "[[ 30  24  18]\n",
            " [ 84  69  54]\n",
            " [138 114  90]]\n"
          ]
        }
      ]
    },
    {
      "cell_type": "code",
      "source": [
        "#Check whether two matrices are equal or not.\n",
        "import numpy as np\n",
        "matrix1 = np.array([[1, 2, 3],\n",
        "                    [4, 5, 6],\n",
        "                    [7, 8, 9]])\n",
        "\n",
        "matrix2 = np.array([[1, 2, 3],\n",
        "                    [4, 5, 6],\n",
        "                    [7, 8, 9]])\n",
        "\n",
        "\n",
        "are_equal = np.array_equal(matrix1, matrix2)\n",
        "\n",
        "\n",
        "print(\"Matrix 1:\")\n",
        "print(matrix1)\n",
        "print(\"Matrix 2:\")\n",
        "print(matrix2)\n",
        "print(\"Are the matrices equal?\", are_equal)\n"
      ],
      "metadata": {
        "colab": {
          "base_uri": "https://localhost:8080/"
        },
        "id": "at2MEeg_DF9E",
        "outputId": "ff6f3508-240b-4604-9a6d-cda57e30a8ad"
      },
      "execution_count": null,
      "outputs": [
        {
          "output_type": "stream",
          "name": "stdout",
          "text": [
            "Matrix 1:\n",
            "[[1 2 3]\n",
            " [4 5 6]\n",
            " [7 8 9]]\n",
            "Matrix 2:\n",
            "[[1 2 3]\n",
            " [4 5 6]\n",
            " [7 8 9]]\n",
            "Are the matrices equal? True\n"
          ]
        }
      ]
    },
    {
      "cell_type": "code",
      "source": [
        "import numpy as np\n",
        "\n",
        "\n",
        "matrix = np.array([[1, 2, 3],\n",
        "                   [4, 5, 6],\n",
        "                   [7, 8, 9]])\n",
        "\n",
        "\n",
        "diagonal_sum = np.trace(matrix)\n",
        "\n",
        "print(\"Matrix:\")\n",
        "print(matrix)\n",
        "print(\"Sum of the main diagonal elements:\", diagonal_sum)\n"
      ],
      "metadata": {
        "colab": {
          "base_uri": "https://localhost:8080/"
        },
        "id": "qI3d_-OWDme9",
        "outputId": "648a256c-1ec3-4ee4-be98-158859d7ec58"
      },
      "execution_count": null,
      "outputs": [
        {
          "output_type": "stream",
          "name": "stdout",
          "text": [
            "Matrix:\n",
            "[[1 2 3]\n",
            " [4 5 6]\n",
            " [7 8 9]]\n",
            "Sum of the main diagonal elements: 15\n"
          ]
        }
      ]
    },
    {
      "cell_type": "code",
      "source": [
        "import numpy as np\n",
        "\n",
        "# Define the matrix\n",
        "matrix = np.array([[1, 2, 3],\n",
        "                   [4, 5, 6],\n",
        "                   [7, 8, 9]])\n",
        "\n",
        "# Get the size of the matrix (assuming it's square)\n",
        "n = matrix.shape[0]\n",
        "\n",
        "# Compute the sum of the minor diagonal elements\n",
        "minor_diagonal_sum = np.sum(np.fliplr(matrix).diagonal())\n",
        "\n",
        "# Print the result\n",
        "print(\"Matrix:\")\n",
        "print(matrix)\n",
        "print(\"Sum of the minor diagonal elements:\", minor_diagonal_sum)\n"
      ],
      "metadata": {
        "colab": {
          "base_uri": "https://localhost:8080/"
        },
        "id": "qtx3yz2XDyL_",
        "outputId": "dc2e8713-6bad-42bc-baa0-7ca78554c38e"
      },
      "execution_count": null,
      "outputs": [
        {
          "output_type": "stream",
          "name": "stdout",
          "text": [
            "Matrix:\n",
            "[[1 2 3]\n",
            " [4 5 6]\n",
            " [7 8 9]]\n",
            "Sum of the minor diagonal elements: 15\n"
          ]
        }
      ]
    },
    {
      "cell_type": "code",
      "source": [
        "def sum_rows_and_columns(matrix):\n",
        "    num_rows = len(matrix)\n",
        "    num_cols = len(matrix[0])\n",
        "\n",
        "    # Calculate the sum of each row\n",
        "    row_sums = [sum(row) for row in matrix]\n",
        "\n",
        "    # Calculate the sum of each column\n",
        "    column_sums = [sum(matrix[row][col] for row in range(num_rows)) for col in range(num_cols)]\n",
        "\n",
        "    return row_sums, column_sums\n",
        "\n",
        "# Example usage:\n",
        "matrix = [\n",
        "    [1, 2, 3],\n",
        "    [4, 5, 6],\n",
        "    [7, 8, 9]\n",
        "]\n",
        "\n",
        "row_sums, column_sums = sum_rows_and_columns(matrix)\n",
        "print(\"Sum of each row:\", row_sums)\n",
        "print(\"Sum of each column:\", column_sums)\n"
      ],
      "metadata": {
        "colab": {
          "base_uri": "https://localhost:8080/"
        },
        "id": "LSiwJRh0m_32",
        "outputId": "3742277c-761c-4c4d-93a3-c319abe7dea0"
      },
      "execution_count": 1,
      "outputs": [
        {
          "output_type": "stream",
          "name": "stdout",
          "text": [
            "Sum of each row: [6, 15, 24]\n",
            "Sum of each column: [12, 15, 18]\n"
          ]
        }
      ]
    },
    {
      "cell_type": "code",
      "source": [
        "#Find the sum of each row and column of a matrix.\n",
        "def sum(m):\n",
        "  rows=len(matrix)\n",
        "  columns=len(matrix[0])\n",
        "  row_sums=[sum(row) for row in matrix]\n",
        "  column_sums=[sum(matrix[row][col] for row in range(rows)) for col in range(columns)]\n",
        "  return row_sums,column_sums\n",
        "m=[[1,2,3],\n",
        "   [4,5,6],\n",
        "   [7,8,9]]\n",
        "print(row_sums,column_sums)"
      ],
      "metadata": {
        "colab": {
          "base_uri": "https://localhost:8080/"
        },
        "id": "6dOhofPvnGbu",
        "outputId": "afae8d41-a849-469e-cdc5-17dd5d637b21"
      },
      "execution_count": 3,
      "outputs": [
        {
          "output_type": "stream",
          "name": "stdout",
          "text": [
            "[6, 15, 24] [12, 15, 18]\n"
          ]
        }
      ]
    },
    {
      "cell_type": "code",
      "source": [
        "\n",
        "import numpy as np\n",
        "\n",
        "# Example usage:\n",
        "matrix = [\n",
        "    [1, 2, 3],\n",
        "    [4, 5, 6],\n",
        "    [7, 8, 9]\n",
        "]\n",
        "\n",
        "np_matrix = np.array(matrix)\n",
        "transposed_matrix = np_matrix.T\n",
        "print(transposed_matrix)"
      ],
      "metadata": {
        "colab": {
          "base_uri": "https://localhost:8080/"
        },
        "id": "jN8Hky-0oz-K",
        "outputId": "8169074d-80fe-4728-ee05-51dd02358b15"
      },
      "execution_count": 14,
      "outputs": [
        {
          "output_type": "stream",
          "name": "stdout",
          "text": [
            "[[1 4 7]\n",
            " [2 5 8]\n",
            " [3 6 9]]\n"
          ]
        }
      ]
    },
    {
      "cell_type": "code",
      "source": [
        "#determinant of matrix\n",
        "print(np.linalg.det(np_matrix))"
      ],
      "metadata": {
        "colab": {
          "base_uri": "https://localhost:8080/"
        },
        "id": "NmK-NqwNpmx8",
        "outputId": "38375712-86b2-4139-8d5b-21bb185fff2f"
      },
      "execution_count": 15,
      "outputs": [
        {
          "output_type": "stream",
          "name": "stdout",
          "text": [
            "0.0\n"
          ]
        }
      ]
    },
    {
      "cell_type": "code",
      "source": [
        "#identity matriix\n",
        "import numpy as np\n",
        "\n",
        "# Create a 3x3 identity matrix\n",
        "identity_matrix = np.eye(3)\n",
        "\n",
        "print(identity_matrix)\n"
      ],
      "metadata": {
        "colab": {
          "base_uri": "https://localhost:8080/"
        },
        "id": "5JdtsOJrqR8B",
        "outputId": "e401ea20-248b-4445-8c49-fb0f69a186fe"
      },
      "execution_count": 17,
      "outputs": [
        {
          "output_type": "stream",
          "name": "stdout",
          "text": [
            "[[1. 0. 0.]\n",
            " [0. 1. 0.]\n",
            " [0. 0. 1.]]\n"
          ]
        }
      ]
    },
    {
      "cell_type": "code",
      "source": [
        "#from numpy.linalg import inv,det,eig,,svd,norm,solve\n",
        "import numpy as np\n",
        "from numpy.linalg import inv, det, eig, svd, solve, norm\n",
        "# Example matrix\n",
        "A = np.array([[1, 2], [3, 4]])\n",
        "\n",
        "# Inverse of matrix A\n",
        "A_inv = inv(A)\n",
        "print(\"Inverse of A:\\n\", A_inv)\n",
        "\n",
        "\n",
        "\n",
        "# Determinant of matrix A\n",
        "A_det = det(A)\n",
        "print(\"Determinant of A:\", A_det)\n",
        "\n",
        "\n",
        "\n",
        "\n",
        "\n",
        "# Eigenvalues and eigenvectors of matrix A\n",
        "eigenvalues, eigenvectors = eig(A)\n",
        "print(\"Eigenvalues of A:\", eigenvalues)\n",
        "print(\"Eigenvectors of A:\\n\", eigenvectors)\n",
        "\n",
        "\n",
        "\n",
        "# SVD of matrix A\n",
        "U, S, Vt = svd(A)\n",
        "print(\"U matrix:\\n\", U)\n",
        "print(\"Singular values:\", S)\n",
        "print(\"V^T matrix:\\n\", Vt)\n",
        "\n",
        "\n",
        "\n",
        "\n",
        "# Example system: Ax = b\n",
        "b = np.array([5, 11])\n",
        "\n",
        "# Solve for x\n",
        "x = solve(A, b)\n",
        "print(\"Solution x:\", x)\n",
        "\n",
        "\n",
        "\n",
        "\n",
        "\n",
        "# Norm of matrix A\n",
        "A_norm = norm(A)\n",
        "print(\"Norm of A:\", A_norm)\n"
      ],
      "metadata": {
        "colab": {
          "base_uri": "https://localhost:8080/"
        },
        "id": "6hrxubj3rgUg",
        "outputId": "137ddca6-8b44-4b66-a977-1d081141b5df"
      },
      "execution_count": 24,
      "outputs": [
        {
          "output_type": "stream",
          "name": "stdout",
          "text": [
            "Inverse of A:\n",
            " [[-2.   1. ]\n",
            " [ 1.5 -0.5]]\n",
            "Determinant of A: -2.0000000000000004\n",
            "Eigenvalues of A: [-0.37228132  5.37228132]\n",
            "Eigenvectors of A:\n",
            " [[-0.82456484 -0.41597356]\n",
            " [ 0.56576746 -0.90937671]]\n",
            "U matrix:\n",
            " [[-0.40455358 -0.9145143 ]\n",
            " [-0.9145143   0.40455358]]\n",
            "Singular values: [5.4649857  0.36596619]\n",
            "V^T matrix:\n",
            " [[-0.57604844 -0.81741556]\n",
            " [ 0.81741556 -0.57604844]]\n",
            "Solution x: [1. 2.]\n",
            "Norm of A: 5.477225575051661\n"
          ]
        }
      ]
    },
    {
      "cell_type": "code",
      "source": [
        "#sparse matrix\n",
        "from scipy.sparse import csr_matrix,csc_matrix\n",
        "# Define a dense matrix\n",
        "dense_matrix = np.array([[0, 0, 3], [4, 0, 0], [0, 0, 0]])\n",
        "\n",
        "# Convert to CSR format\n",
        "csr = csr_matrix(dense_matrix)\n",
        "print(\"CSR Matrix:\\n\", csr)\n",
        "print(\"CSR Matrix (dense):\\n\", csr.toarray())\n"
      ],
      "metadata": {
        "colab": {
          "base_uri": "https://localhost:8080/"
        },
        "id": "zZuvtw8AuIOM",
        "outputId": "bfe4d9e4-a2e9-441b-f03c-2ca9ccc4a6d4"
      },
      "execution_count": 28,
      "outputs": [
        {
          "output_type": "stream",
          "name": "stdout",
          "text": [
            "CSR Matrix:\n",
            "   (0, 2)\t3\n",
            "  (1, 0)\t4\n",
            "CSR Matrix (dense):\n",
            " [[0 0 3]\n",
            " [4 0 0]\n",
            " [0 0 0]]\n"
          ]
        }
      ]
    },
    {
      "cell_type": "code",
      "source": [
        "# Convert to CSC format\n",
        "csc = csc_matrix(dense_matrix)\n",
        "print(\"CSC Matrix:\\n\", csc)\n",
        "print(\"CSC Matrix (dense):\\n\", csc.toarray())\n"
      ],
      "metadata": {
        "colab": {
          "base_uri": "https://localhost:8080/"
        },
        "id": "NR6zs8LkusAV",
        "outputId": "43d084e0-5751-4319-9063-2be1cf2d167b"
      },
      "execution_count": 29,
      "outputs": [
        {
          "output_type": "stream",
          "name": "stdout",
          "text": [
            "CSC Matrix:\n",
            "   (1, 0)\t4\n",
            "  (0, 2)\t3\n",
            "CSC Matrix (dense):\n",
            " [[0 0 3]\n",
            " [4 0 0]\n",
            " [0 0 0]]\n"
          ]
        }
      ]
    },
    {
      "cell_type": "code",
      "source": [
        "#symmetric matrix\n",
        "import numpy as np\n",
        "\n",
        "matrix = np.array([[1, 2, 3],\n",
        "                   [2, 4, 5],\n",
        "                   [3, 5, 6]])\n",
        "# Check if matrix is symmetric\n",
        "is_symmetric = np.allclose(matrix, matrix.T)\n",
        "print(\"Is the matrix symmetric?\", is_symmetric)\n"
      ],
      "metadata": {
        "colab": {
          "base_uri": "https://localhost:8080/"
        },
        "id": "QX-ElGT8uuab",
        "outputId": "08f9ca74-04be-43d4-c663-cf563ffedaf3"
      },
      "execution_count": 30,
      "outputs": [
        {
          "output_type": "stream",
          "name": "stdout",
          "text": [
            "Is the matrix symmetric? True\n"
          ]
        }
      ]
    },
    {
      "cell_type": "code",
      "source": [
        "#lower triangular matrix\n",
        "import numpy as np\n",
        "\n",
        "# Define the size of the matrix\n",
        "n = 4\n",
        "\n",
        "# Create a matrix with random values\n",
        "matrix = np.random.randint(1, 10, size=(n, n))\n",
        "\n",
        "# Create the lower triangular matrix\n",
        "lower_triangular_matrix = np.tril(matrix)\n",
        "\n",
        "print(\"Original Matrix:\\n\", matrix)\n",
        "print(\"Lower Triangular Matrix:\\n\", lower_triangular_matrix)\n"
      ],
      "metadata": {
        "colab": {
          "base_uri": "https://localhost:8080/"
        },
        "id": "-5LxMgkgwBXx",
        "outputId": "2f0cac7e-a7b5-4845-d47b-5f489ba9fe06"
      },
      "execution_count": 31,
      "outputs": [
        {
          "output_type": "stream",
          "name": "stdout",
          "text": [
            "Original Matrix:\n",
            " [[7 7 9 6]\n",
            " [8 7 1 7]\n",
            " [7 3 1 7]\n",
            " [2 5 2 8]]\n",
            "Lower Triangular Matrix:\n",
            " [[7 0 0 0]\n",
            " [8 7 0 0]\n",
            " [7 3 1 0]\n",
            " [2 5 2 8]]\n"
          ]
        }
      ]
    },
    {
      "cell_type": "code",
      "source": [
        "#upper triangular matrix\n",
        "import numpy as np\n",
        "\n",
        "# Define the size of the matrix\n",
        "n = 4\n",
        "\n",
        "# Create a matrix with random values\n",
        "matrix = np.random.randint(1, 10, size=(n, n))\n",
        "\n",
        "# Create the upper triangular matrix\n",
        "upper_triangular_matrix = np.triu(matrix)\n",
        "\n",
        "print(\"Original Matrix:\\n\", matrix)\n",
        "print(\"Upper Triangular Matrix:\\n\", upper_triangular_matrix)\n"
      ],
      "metadata": {
        "colab": {
          "base_uri": "https://localhost:8080/"
        },
        "id": "nTBp6W8GwPwZ",
        "outputId": "2b33f50b-4e90-4bf1-8397-aa93feac7dcc"
      },
      "execution_count": 32,
      "outputs": [
        {
          "output_type": "stream",
          "name": "stdout",
          "text": [
            "Original Matrix:\n",
            " [[4 4 6 8]\n",
            " [2 4 1 1]\n",
            " [9 4 4 1]\n",
            " [5 2 1 7]]\n",
            "Upper Triangular Matrix:\n",
            " [[4 4 6 8]\n",
            " [0 4 1 1]\n",
            " [0 0 4 1]\n",
            " [0 0 0 7]]\n"
          ]
        }
      ]
    },
    {
      "cell_type": "code",
      "source": [
        "#sum of upper triangular matrix\n",
        "import numpy as np\n",
        "\n",
        "# Define the size of the matrix\n",
        "n = 4\n",
        "\n",
        "# Create a matrix with random values\n",
        "matrix = np.random.randint(1, 10, size=(n, n))\n",
        "\n",
        "# Create the upper triangular matrix\n",
        "upper_triangular_matrix = np.triu(matrix)\n",
        "\n",
        "# Compute the sum of the upper triangular matrix\n",
        "upper_triangular_sum = np.sum(upper_triangular_matrix)\n",
        "\n",
        "print(\"Original Matrix:\\n\", matrix)\n",
        "print(\"Upper Triangular Matrix:\\n\", upper_triangular_matrix)\n",
        "print(\"Sum of Upper Triangular Matrix:\", upper_triangular_sum)\n"
      ],
      "metadata": {
        "colab": {
          "base_uri": "https://localhost:8080/"
        },
        "id": "fH7wl8CIweEL",
        "outputId": "294944a4-1163-4688-a759-f2bf5082f424"
      },
      "execution_count": 33,
      "outputs": [
        {
          "output_type": "stream",
          "name": "stdout",
          "text": [
            "Original Matrix:\n",
            " [[7 9 7 5]\n",
            " [6 1 6 8]\n",
            " [9 6 4 8]\n",
            " [5 6 8 4]]\n",
            "Upper Triangular Matrix:\n",
            " [[7 9 7 5]\n",
            " [0 1 6 8]\n",
            " [0 0 4 8]\n",
            " [0 0 0 4]]\n",
            "Sum of Upper Triangular Matrix: 59\n"
          ]
        }
      ]
    }
  ]
}