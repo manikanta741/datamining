{
  "nbformat": 4,
  "nbformat_minor": 0,
  "metadata": {
    "colab": {
      "provenance": [],
      "authorship_tag": "ABX9TyPdWiA1gCZs2u1FOxeissuF",
      "include_colab_link": true
    },
    "kernelspec": {
      "name": "python3",
      "display_name": "Python 3"
    },
    "language_info": {
      "name": "python"
    }
  },
  "cells": [
    {
      "cell_type": "markdown",
      "metadata": {
        "id": "view-in-github",
        "colab_type": "text"
      },
      "source": [
        "<a href=\"https://colab.research.google.com/github/manikanta741/datamining/blob/main/prep.ipynb\" target=\"_parent\"><img src=\"https://colab.research.google.com/assets/colab-badge.svg\" alt=\"Open In Colab\"/></a>"
      ]
    },
    {
      "cell_type": "code",
      "execution_count": 1,
      "metadata": {
        "colab": {
          "base_uri": "https://localhost:8080/"
        },
        "id": "Mxap22Psm5Uc",
        "outputId": "94b73592-61b3-479e-803f-8e15b8b34aaf"
      },
      "outputs": [
        {
          "output_type": "stream",
          "name": "stdout",
          "text": [
            "positive\n"
          ]
        }
      ],
      "source": [
        "#positive or negative\n",
        "num=5\n",
        "if num>0:\n",
        "  print(\"positive\")\n",
        "else:\n",
        "  print(\"negative\")"
      ]
    },
    {
      "cell_type": "code",
      "source": [
        "#even or odd\n",
        "num=8\n",
        "if num%2==0:\n",
        "  print(\"even\")\n",
        "else:\n",
        "  print(\"odd\")"
      ],
      "metadata": {
        "colab": {
          "base_uri": "https://localhost:8080/"
        },
        "id": "IiJTiE-xnDKL",
        "outputId": "f049a157-9739-42d7-fe2c-fc9911eb4cbd"
      },
      "execution_count": 2,
      "outputs": [
        {
          "output_type": "stream",
          "name": "stdout",
          "text": [
            "even\n"
          ]
        }
      ]
    },
    {
      "cell_type": "code",
      "source": [
        "#sum of first n natural numbers\n",
        "num=10\n",
        "sum=0\n",
        "for i in range(1,num+1):\n",
        "  sum=sum+i\n",
        "print(sum)"
      ],
      "metadata": {
        "colab": {
          "base_uri": "https://localhost:8080/"
        },
        "id": "NFxPXV4CnZWI",
        "outputId": "6e42c6f2-5dfc-4719-eac9-8f203861904b"
      },
      "execution_count": 3,
      "outputs": [
        {
          "output_type": "stream",
          "name": "stdout",
          "text": [
            "55\n"
          ]
        }
      ]
    },
    {
      "cell_type": "code",
      "source": [
        "#sum of nnatural number with in a rangen\n",
        "num1,num2=3,13\n",
        "sum=0\n",
        "for i in range(num1,num2):\n",
        "  sum+=i\n",
        "print(sum)"
      ],
      "metadata": {
        "colab": {
          "base_uri": "https://localhost:8080/"
        },
        "id": "kaATB1EnnxJc",
        "outputId": "7bef3699-d23c-4bd2-8aad-f3edc875fd7c"
      },
      "execution_count": 4,
      "outputs": [
        {
          "output_type": "stream",
          "name": "stdout",
          "text": [
            "75\n"
          ]
        }
      ]
    },
    {
      "cell_type": "code",
      "source": [
        "#sum of digits of  a number\n",
        "num=12345\n",
        "sum=0\n",
        "while num>0:\n",
        "  sum=num%10\n",
        "  num=num//10\n",
        "print(sum)"
      ],
      "metadata": {
        "id": "f7Bg-ZdToDSa",
        "colab": {
          "base_uri": "https://localhost:8080/"
        },
        "outputId": "690992d2-4093-40df-87a1-29e4b7fb5701"
      },
      "execution_count": 6,
      "outputs": [
        {
          "output_type": "stream",
          "name": "stdout",
          "text": [
            "1\n"
          ]
        }
      ]
    },
    {
      "cell_type": "code",
      "source": [
        "#palindrome\n",
        "num=121\n",
        "temp=num\n",
        "rev=0\n",
        "while num>0:\n",
        "  digit=num%10\n",
        "  rev=rev*10+digit\n",
        "  num=num//10\n",
        "if temp==rev:\n",
        "  print(\"palindrome\")\n",
        "else:\n",
        "  print(\"not palindrome\")"
      ],
      "metadata": {
        "id": "C7SRkqGRqO1a",
        "colab": {
          "base_uri": "https://localhost:8080/"
        },
        "outputId": "54353fbf-e8b0-4547-b510-601e7dcb6834"
      },
      "execution_count": 8,
      "outputs": [
        {
          "output_type": "stream",
          "name": "stdout",
          "text": [
            "palindrome\n"
          ]
        }
      ]
    },
    {
      "cell_type": "code",
      "source": [
        "#armstrong\n",
        "num=121\n",
        "temp=num\n",
        "sum=0\n",
        "while num>0:\n",
        "  digit=num%10\n",
        "  sum=sum+digit*len(num)\n",
        "  num=num//10\n",
        "if temp==sum:\n",
        "  print(\"armstrong\")\n",
        "else:\n",
        "  print(\"not armstrong\")"
      ],
      "metadata": {
        "id": "ggmZ225XqrJ0",
        "colab": {
          "base_uri": "https://localhost:8080/",
          "height": 211
        },
        "outputId": "e944634f-35a7-455b-a947-01c91315630b"
      },
      "execution_count": 9,
      "outputs": [
        {
          "output_type": "error",
          "ename": "TypeError",
          "evalue": "object of type 'int' has no len()",
          "traceback": [
            "\u001b[0;31m---------------------------------------------------------------------------\u001b[0m",
            "\u001b[0;31mTypeError\u001b[0m                                 Traceback (most recent call last)",
            "\u001b[0;32m<ipython-input-9-23109391b5c6>\u001b[0m in \u001b[0;36m<cell line: 5>\u001b[0;34m()\u001b[0m\n\u001b[1;32m      5\u001b[0m \u001b[0;32mwhile\u001b[0m \u001b[0mnum\u001b[0m\u001b[0;34m>\u001b[0m\u001b[0;36m0\u001b[0m\u001b[0;34m:\u001b[0m\u001b[0;34m\u001b[0m\u001b[0;34m\u001b[0m\u001b[0m\n\u001b[1;32m      6\u001b[0m   \u001b[0mdigit\u001b[0m\u001b[0;34m=\u001b[0m\u001b[0mnum\u001b[0m\u001b[0;34m%\u001b[0m\u001b[0;36m10\u001b[0m\u001b[0;34m\u001b[0m\u001b[0;34m\u001b[0m\u001b[0m\n\u001b[0;32m----> 7\u001b[0;31m   \u001b[0msum\u001b[0m\u001b[0;34m=\u001b[0m\u001b[0msum\u001b[0m\u001b[0;34m+\u001b[0m\u001b[0mdigit\u001b[0m\u001b[0;34m*\u001b[0m\u001b[0mlen\u001b[0m\u001b[0;34m(\u001b[0m\u001b[0mnum\u001b[0m\u001b[0;34m)\u001b[0m\u001b[0;34m\u001b[0m\u001b[0;34m\u001b[0m\u001b[0m\n\u001b[0m\u001b[1;32m      8\u001b[0m   \u001b[0mnum\u001b[0m\u001b[0;34m=\u001b[0m\u001b[0mnum\u001b[0m\u001b[0;34m//\u001b[0m\u001b[0;36m10\u001b[0m\u001b[0;34m\u001b[0m\u001b[0;34m\u001b[0m\u001b[0m\n\u001b[1;32m      9\u001b[0m \u001b[0;32mif\u001b[0m \u001b[0mtemp\u001b[0m\u001b[0;34m==\u001b[0m\u001b[0msum\u001b[0m\u001b[0;34m:\u001b[0m\u001b[0;34m\u001b[0m\u001b[0;34m\u001b[0m\u001b[0m\n",
            "\u001b[0;31mTypeError\u001b[0m: object of type 'int' has no len()"
          ]
        }
      ]
    },
    {
      "cell_type": "code",
      "source": [
        "#reverse of  anum\n",
        "num=121\n",
        "temp=num\n",
        "rev=0\n",
        "while num>0:\n",
        "  digit=num%10\n",
        "  rev=rev*10+digit\n",
        "  num=num//10\n",
        "print(rev)"
      ],
      "metadata": {
        "id": "17uAgbkarDMU",
        "colab": {
          "base_uri": "https://localhost:8080/"
        },
        "outputId": "037ffae6-3f4a-4196-aa45-db1e8e8ee1d6"
      },
      "execution_count": 10,
      "outputs": [
        {
          "output_type": "stream",
          "name": "stdout",
          "text": [
            "121\n"
          ]
        }
      ]
    },
    {
      "cell_type": "code",
      "source": [
        "a=3\n",
        "b=4\n",
        "if a>b:\n",
        "  print(\"a is greater\")\n",
        "else:\n",
        "  print(\"b is greater\")"
      ],
      "metadata": {
        "id": "9Xqdal47rfEW",
        "colab": {
          "base_uri": "https://localhost:8080/"
        },
        "outputId": "2fa59bf5-c843-4ef5-9861-940139e1ef65"
      },
      "execution_count": 11,
      "outputs": [
        {
          "output_type": "stream",
          "name": "stdout",
          "text": [
            "b is greater\n"
          ]
        }
      ]
    },
    {
      "cell_type": "code",
      "source": [
        "a=3\n",
        "b=4\n",
        "c=5\n",
        "if a>b and a>c:\n",
        "  print(\"a is greater\")\n",
        "elif b>a and b>c:\n",
        "  print(\"b is greater\")\n",
        "else:\n",
        "  print(\"c is greater\")\n"
      ],
      "metadata": {
        "id": "lpRKc1dJrlV9",
        "colab": {
          "base_uri": "https://localhost:8080/"
        },
        "outputId": "484d17dd-ce9b-420e-c464-9706784ba94c"
      },
      "execution_count": 12,
      "outputs": [
        {
          "output_type": "stream",
          "name": "stdout",
          "text": [
            "c is greater\n"
          ]
        }
      ]
    },
    {
      "cell_type": "code",
      "source": [
        "#leap year\n",
        "year=2099\n",
        "if year%4==0  and year%100!=0 or year%400==0:\n",
        "  print(\"leap year\")\n",
        "else:\n",
        "  print(\"not leap year\")"
      ],
      "metadata": {
        "id": "QS1FPX39r0r6",
        "colab": {
          "base_uri": "https://localhost:8080/"
        },
        "outputId": "c9f5a583-93b7-4d21-aea8-966ee6346a7c"
      },
      "execution_count": 15,
      "outputs": [
        {
          "output_type": "stream",
          "name": "stdout",
          "text": [
            "not leap year\n"
          ]
        }
      ]
    },
    {
      "cell_type": "code",
      "source": [
        "#prime or not\n",
        "num=7\n",
        "for i in range(2,num):\n",
        "  if num%i==0:\n",
        "    print(\"not prime\")\n",
        "else:\n",
        "  print(\"prime\")"
      ],
      "metadata": {
        "id": "9kiLDgR4tppt",
        "colab": {
          "base_uri": "https://localhost:8080/"
        },
        "outputId": "7bad1e9b-d99d-4b04-e4b3-24d5bfd4dd7a"
      },
      "execution_count": 17,
      "outputs": [
        {
          "output_type": "stream",
          "name": "stdout",
          "text": [
            "prime\n"
          ]
        }
      ]
    },
    {
      "cell_type": "code",
      "source": [
        "#primes within a range\n",
        "low=23\n",
        "high=39\n",
        "for i in range(low,high):\n",
        "  for j in range(2,i):\n",
        "    if i%j==0:\n",
        "      break\n",
        "  else:\n",
        "    print(i)"
      ],
      "metadata": {
        "id": "FuyqAePRt-UB",
        "colab": {
          "base_uri": "https://localhost:8080/"
        },
        "outputId": "6955617e-6ebf-4ad1-f524-ae0f3d2ed6a7"
      },
      "execution_count": 19,
      "outputs": [
        {
          "output_type": "stream",
          "name": "stdout",
          "text": [
            "23\n",
            "29\n",
            "31\n",
            "37\n"
          ]
        }
      ]
    },
    {
      "cell_type": "code",
      "source": [
        "#strong number\n",
        "import math\n",
        "num=145\n",
        "temp=num\n",
        "sum=0\n",
        "while num>0:\n",
        "  digit=num%10\n",
        "  sum=sum+math.factorial(digit)\n",
        "  num=num//10\n",
        "if temp==sum:\n",
        "  print(\"strong number\")\n",
        "else:\n",
        "  print(\"not strong number\")"
      ],
      "metadata": {
        "colab": {
          "base_uri": "https://localhost:8080/"
        },
        "id": "XLhtWZZIiMSy",
        "outputId": "c910c620-e9fd-4684-fffc-dc1f5c3c4f75"
      },
      "execution_count": 23,
      "outputs": [
        {
          "output_type": "stream",
          "name": "stdout",
          "text": [
            "strong number\n"
          ]
        }
      ]
    },
    {
      "cell_type": "code",
      "source": [
        "#perfect number(sum of the factors except that number must be equal to given number)\n",
        "num=29\n",
        "sum=0\n",
        "for i in range(1,num):\n",
        "  if num%i==0:\n",
        "    sum=sum+i\n",
        "if sum==num:\n",
        "  print(\"perfect number\")\n",
        "else:\n",
        "  print(\"not perfect number\")"
      ],
      "metadata": {
        "colab": {
          "base_uri": "https://localhost:8080/"
        },
        "id": "4NJgP5MEiPAw",
        "outputId": "9da608a7-1df1-4bc1-adde-321a3ad73813"
      },
      "execution_count": 28,
      "outputs": [
        {
          "output_type": "stream",
          "name": "stdout",
          "text": [
            "not perfect number\n"
          ]
        }
      ]
    },
    {
      "cell_type": "code",
      "source": [
        "#harshad(given number should divide with the sum of its digits)\n",
        "num=12\n",
        "sum=0\n",
        "temp=num\n",
        "while num>0:\n",
        "  digit=digit%10\n",
        "  sum=sum+digit\n",
        "\n",
        "  num=num//10\n",
        "if temp%sum==0:\n",
        "  print(\"harshad number\")\n",
        "else:\n",
        "  print(\"not harshad number\")"
      ],
      "metadata": {
        "colab": {
          "base_uri": "https://localhost:8080/"
        },
        "id": "lrxplK-UjToy",
        "outputId": "35f333ed-d34c-4ba1-8245-bb4dd4ed26b4"
      },
      "execution_count": 38,
      "outputs": [
        {
          "output_type": "stream",
          "name": "stdout",
          "text": [
            "abundant number\n"
          ]
        }
      ]
    },
    {
      "cell_type": "code",
      "source": [
        "#abundant number\n",
        "num=12\n",
        "sum=0\n",
        "\n",
        "for i in range(1,num):\n",
        "  if num%i==0:\n",
        "    sum=sum+i\n",
        "if sum>num:\n",
        "  print(\"abundant number\")\n",
        "else:\n",
        "  print(\"not abundant number\")"
      ],
      "metadata": {
        "colab": {
          "base_uri": "https://localhost:8080/"
        },
        "id": "M2NSgQlLj_WZ",
        "outputId": "01a81296-0678-4506-b836-4ab63c70a9c5"
      },
      "execution_count": 45,
      "outputs": [
        {
          "output_type": "stream",
          "name": "stdout",
          "text": [
            "abundant number\n"
          ]
        }
      ]
    }
  ]
}