{
  "nbformat": 4,
  "nbformat_minor": 0,
  "metadata": {
    "colab": {
      "provenance": [],
      "authorship_tag": "ABX9TyPLjQwcDgBlAJnXwZIyNcRf",
      "include_colab_link": true
    },
    "kernelspec": {
      "name": "python3",
      "display_name": "Python 3"
    },
    "language_info": {
      "name": "python"
    }
  },
  "cells": [
    {
      "cell_type": "markdown",
      "metadata": {
        "id": "view-in-github",
        "colab_type": "text"
      },
      "source": [
        "<a href=\"https://colab.research.google.com/github/manikanta741/datamining/blob/main/Untitled40.ipynb\" target=\"_parent\"><img src=\"https://colab.research.google.com/assets/colab-badge.svg\" alt=\"Open In Colab\"/></a>"
      ]
    },
    {
      "cell_type": "code",
      "execution_count": 2,
      "metadata": {
        "colab": {
          "base_uri": "https://localhost:8080/"
        },
        "id": "TEtY3QkAAXgK",
        "outputId": "ae959151-47e3-479a-83e0-2ad4c73a92fa"
      },
      "outputs": [
        {
          "output_type": "stream",
          "name": "stdout",
          "text": [
            "0    1\n",
            "1    2\n",
            "2    3\n",
            "3    4\n",
            "4    5\n",
            "dtype: int64\n"
          ]
        }
      ],
      "source": [
        "#DESCRIPTIVE staticmethod\n",
        "import numpy as np\n",
        "import pandas as pd\n",
        "s=pd.Series([1,2,3,4,5])\n",
        "print(s)"
      ]
    },
    {
      "cell_type": "code",
      "source": [
        "print(s.describe())"
      ],
      "metadata": {
        "colab": {
          "base_uri": "https://localhost:8080/"
        },
        "id": "Yr5GScXMBMue",
        "outputId": "edf4e60d-a9c7-4f72-c9f3-42862b624433"
      },
      "execution_count": 3,
      "outputs": [
        {
          "output_type": "stream",
          "name": "stdout",
          "text": [
            "count    5.000000\n",
            "mean     3.000000\n",
            "std      1.581139\n",
            "min      1.000000\n",
            "25%      2.000000\n",
            "50%      3.000000\n",
            "75%      4.000000\n",
            "max      5.000000\n",
            "dtype: float64\n"
          ]
        }
      ]
    },
    {
      "cell_type": "code",
      "source": [
        "print(s.mean())"
      ],
      "metadata": {
        "colab": {
          "base_uri": "https://localhost:8080/"
        },
        "id": "5fQBblw_BhTh",
        "outputId": "04e6c299-cab6-4717-a86d-6b6f4f73b777"
      },
      "execution_count": 4,
      "outputs": [
        {
          "output_type": "stream",
          "name": "stdout",
          "text": [
            "3.0\n"
          ]
        }
      ]
    },
    {
      "cell_type": "code",
      "source": [
        "print(s.std())"
      ],
      "metadata": {
        "colab": {
          "base_uri": "https://localhost:8080/"
        },
        "id": "CyDKAhlyBk9u",
        "outputId": "eae2c380-4527-4d52-fc26-a88ba34d138c"
      },
      "execution_count": 5,
      "outputs": [
        {
          "output_type": "stream",
          "name": "stdout",
          "text": [
            "1.5811388300841898\n"
          ]
        }
      ]
    },
    {
      "cell_type": "code",
      "source": [
        "print(s.min())\n",
        "print(s.max())"
      ],
      "metadata": {
        "colab": {
          "base_uri": "https://localhost:8080/"
        },
        "id": "iHX0-v60Bnvl",
        "outputId": "82841e85-bf7e-4bf7-bb50-4bd6ae90461e"
      },
      "execution_count": 6,
      "outputs": [
        {
          "output_type": "stream",
          "name": "stdout",
          "text": [
            "1\n",
            "5\n"
          ]
        }
      ]
    },
    {
      "cell_type": "code",
      "source": [
        "#data manipulation\n",
        "a=s.map(lambda x :x*2)\n",
        "print(a)"
      ],
      "metadata": {
        "colab": {
          "base_uri": "https://localhost:8080/"
        },
        "id": "l_hgzwSFB1XD",
        "outputId": "4e7e3a08-b727-4058-8833-cd46c31c684d"
      },
      "execution_count": 7,
      "outputs": [
        {
          "output_type": "stream",
          "name": "stdout",
          "text": [
            "0     2\n",
            "1     4\n",
            "2     6\n",
            "3     8\n",
            "4    10\n",
            "dtype: int64\n"
          ]
        }
      ]
    },
    {
      "cell_type": "code",
      "source": [
        "print(s.apply(lambda x:x**4))\n"
      ],
      "metadata": {
        "colab": {
          "base_uri": "https://localhost:8080/"
        },
        "id": "cZN98YXdCJpt",
        "outputId": "08e11112-d0ff-4b12-82d1-ea4994ce9119"
      },
      "execution_count": 8,
      "outputs": [
        {
          "output_type": "stream",
          "name": "stdout",
          "text": [
            "0      1\n",
            "1     16\n",
            "2     81\n",
            "3    256\n",
            "4    625\n",
            "dtype: int64\n"
          ]
        }
      ]
    },
    {
      "cell_type": "code",
      "source": [
        "b=pd.Series([9,5,83,3,65])\n",
        "print(b.sort_values())"
      ],
      "metadata": {
        "colab": {
          "base_uri": "https://localhost:8080/"
        },
        "id": "WTtbNGtCCRol",
        "outputId": "f9a07a67-eaf1-4627-aca9-fb3b3a64ebe1"
      },
      "execution_count": 11,
      "outputs": [
        {
          "output_type": "stream",
          "name": "stdout",
          "text": [
            "3     3\n",
            "1     5\n",
            "0     9\n",
            "4    65\n",
            "2    83\n",
            "dtype: int64\n"
          ]
        }
      ]
    },
    {
      "cell_type": "code",
      "source": [
        "c=s.drop(0)\n",
        "print(c)"
      ],
      "metadata": {
        "colab": {
          "base_uri": "https://localhost:8080/"
        },
        "id": "n64KtLc1Clr6",
        "outputId": "6847bbcf-f827-4988-8278-66908b098b48"
      },
      "execution_count": 12,
      "outputs": [
        {
          "output_type": "stream",
          "name": "stdout",
          "text": [
            "1    2\n",
            "2    3\n",
            "3    4\n",
            "4    5\n",
            "dtype: int64\n"
          ]
        }
      ]
    },
    {
      "cell_type": "code",
      "source": [
        "print(s.drop(0,inplace=True))\n"
      ],
      "metadata": {
        "colab": {
          "base_uri": "https://localhost:8080/"
        },
        "id": "oYdPYkQjCrbE",
        "outputId": "4e16689a-665e-4a5b-c0f9-2d4ff0a2311a"
      },
      "execution_count": 14,
      "outputs": [
        {
          "output_type": "stream",
          "name": "stdout",
          "text": [
            "None\n"
          ]
        }
      ]
    },
    {
      "cell_type": "code",
      "source": [
        "#handling missing data\n",
        "print(s.isnull())"
      ],
      "metadata": {
        "colab": {
          "base_uri": "https://localhost:8080/"
        },
        "id": "ms4SHa4kDAD6",
        "outputId": "3ddc6425-589a-49e9-cb04-b902c6e1aea4"
      },
      "execution_count": 15,
      "outputs": [
        {
          "output_type": "stream",
          "name": "stdout",
          "text": [
            "1    False\n",
            "2    False\n",
            "3    False\n",
            "4    False\n",
            "dtype: bool\n"
          ]
        }
      ]
    },
    {
      "cell_type": "code",
      "source": [
        "print(s.notnull())"
      ],
      "metadata": {
        "colab": {
          "base_uri": "https://localhost:8080/"
        },
        "id": "Z6JCs-dJDIAp",
        "outputId": "68054c70-53a0-4900-f473-7a34f8d28969"
      },
      "execution_count": 16,
      "outputs": [
        {
          "output_type": "stream",
          "name": "stdout",
          "text": [
            "1    True\n",
            "2    True\n",
            "3    True\n",
            "4    True\n",
            "dtype: bool\n"
          ]
        }
      ]
    },
    {
      "cell_type": "code",
      "source": [
        "s=pd.Series([2,3,np.nan,4,np.nan,5])\n",
        "print(s)"
      ],
      "metadata": {
        "colab": {
          "base_uri": "https://localhost:8080/"
        },
        "id": "ol4f_Y4zDOoE",
        "outputId": "18d3055a-dae4-41a2-cbbb-042c5e2eee38"
      },
      "execution_count": 19,
      "outputs": [
        {
          "output_type": "stream",
          "name": "stdout",
          "text": [
            "0    2.0\n",
            "1    3.0\n",
            "2    NaN\n",
            "3    4.0\n",
            "4    NaN\n",
            "5    5.0\n",
            "dtype: float64\n"
          ]
        }
      ]
    },
    {
      "cell_type": "code",
      "source": [
        "print(s.fillna(9))"
      ],
      "metadata": {
        "colab": {
          "base_uri": "https://localhost:8080/"
        },
        "id": "0Q2ZhTfMDnxa",
        "outputId": "94ba0a63-f499-4e10-8f4d-fe115c0a28d1"
      },
      "execution_count": 20,
      "outputs": [
        {
          "output_type": "stream",
          "name": "stdout",
          "text": [
            "0    2.0\n",
            "1    3.0\n",
            "2    9.0\n",
            "3    4.0\n",
            "4    9.0\n",
            "5    5.0\n",
            "dtype: float64\n"
          ]
        }
      ]
    },
    {
      "cell_type": "code",
      "source": [
        "s=pd.Series([2,3,4,None,5])\n",
        "print(s)"
      ],
      "metadata": {
        "colab": {
          "base_uri": "https://localhost:8080/"
        },
        "id": "7Pvg0tQxDsEq",
        "outputId": "338fbe65-eb65-4e47-91ae-c0f71a0efa6d"
      },
      "execution_count": 21,
      "outputs": [
        {
          "output_type": "stream",
          "name": "stdout",
          "text": [
            "0    2.0\n",
            "1    3.0\n",
            "2    4.0\n",
            "3    NaN\n",
            "4    5.0\n",
            "dtype: float64\n"
          ]
        }
      ]
    },
    {
      "cell_type": "code",
      "source": [
        "print(s.dropna())"
      ],
      "metadata": {
        "colab": {
          "base_uri": "https://localhost:8080/"
        },
        "id": "RUAIczN5D1Yh",
        "outputId": "a7fc832c-4866-400c-abf1-7305c17c2c01"
      },
      "execution_count": 23,
      "outputs": [
        {
          "output_type": "stream",
          "name": "stdout",
          "text": [
            "0    2.0\n",
            "1    3.0\n",
            "2    4.0\n",
            "4    5.0\n",
            "dtype: float64\n"
          ]
        }
      ]
    },
    {
      "cell_type": "code",
      "source": [
        "#indexing,slicing,filtering"
      ],
      "metadata": {
        "id": "h_sWTmyTD74j"
      },
      "execution_count": null,
      "outputs": []
    },
    {
      "cell_type": "code",
      "source": [
        "s=pd.Series([2,3,4,5])\n",
        "print(s)"
      ],
      "metadata": {
        "id": "-lU7z3OvEPZ6"
      },
      "execution_count": null,
      "outputs": []
    },
    {
      "cell_type": "code",
      "source": [
        "print(s.iloc[0])\n",
        "print(s.iloc[-1])"
      ],
      "metadata": {
        "colab": {
          "base_uri": "https://localhost:8080/"
        },
        "id": "8RJu0Pi_EUcL",
        "outputId": "1759ad24-ab4b-414c-9b81-e8fa3993b523"
      },
      "execution_count": 25,
      "outputs": [
        {
          "output_type": "stream",
          "name": "stdout",
          "text": [
            "2.0\n",
            "5.0\n"
          ]
        }
      ]
    },
    {
      "cell_type": "code",
      "source": [
        "m=pd.Series([1,2,3,4,5],index=['a','b','c','d','e'])\n",
        "print(m)\n"
      ],
      "metadata": {
        "colab": {
          "base_uri": "https://localhost:8080/"
        },
        "id": "uCs29ZFPEY_j",
        "outputId": "6d02fe35-89e3-45f2-85b2-7fb7743ddd2e"
      },
      "execution_count": 30,
      "outputs": [
        {
          "output_type": "stream",
          "name": "stdout",
          "text": [
            "a    1\n",
            "b    2\n",
            "c    3\n",
            "d    4\n",
            "e    5\n",
            "dtype: int64\n"
          ]
        }
      ]
    },
    {
      "cell_type": "code",
      "source": [
        "print(m.iloc[0])\n",
        "print(m.iloc[1:4])"
      ],
      "metadata": {
        "colab": {
          "base_uri": "https://localhost:8080/"
        },
        "id": "s03-s-GZE9Cc",
        "outputId": "f51463bd-0333-4746-dfe3-04c36e642e69"
      },
      "execution_count": 32,
      "outputs": [
        {
          "output_type": "stream",
          "name": "stdout",
          "text": [
            "1\n",
            "b    2\n",
            "c    3\n",
            "d    4\n",
            "dtype: int64\n"
          ]
        }
      ]
    },
    {
      "cell_type": "code",
      "source": [
        "print(m.loc['a'])"
      ],
      "metadata": {
        "colab": {
          "base_uri": "https://localhost:8080/"
        },
        "id": "AhST4nA4FHHB",
        "outputId": "b7fed9e2-ae7e-4adf-c9c3-878226ef2557"
      },
      "execution_count": 34,
      "outputs": [
        {
          "output_type": "stream",
          "name": "stdout",
          "text": [
            "1\n"
          ]
        }
      ]
    },
    {
      "cell_type": "code",
      "source": [
        "print(m.loc['b':'e'])"
      ],
      "metadata": {
        "colab": {
          "base_uri": "https://localhost:8080/"
        },
        "id": "1QXrsyZZFZ-V",
        "outputId": "eac1ebde-4b3d-4c8b-83b2-bcca6898d782"
      },
      "execution_count": 37,
      "outputs": [
        {
          "output_type": "stream",
          "name": "stdout",
          "text": [
            "b    2\n",
            "c    3\n",
            "d    4\n",
            "e    5\n",
            "dtype: int64\n"
          ]
        }
      ]
    },
    {
      "cell_type": "code",
      "source": [
        "print(s[s>3])"
      ],
      "metadata": {
        "colab": {
          "base_uri": "https://localhost:8080/"
        },
        "id": "Q4c4NhNBFmUs",
        "outputId": "3421f95d-3ce9-4aea-db76-4d746c940868"
      },
      "execution_count": 38,
      "outputs": [
        {
          "output_type": "stream",
          "name": "stdout",
          "text": [
            "2    4.0\n",
            "4    5.0\n",
            "dtype: float64\n"
          ]
        }
      ]
    },
    {
      "cell_type": "code",
      "source": [
        "#aggregation"
      ],
      "metadata": {
        "id": "yRin4shNFylO"
      },
      "execution_count": null,
      "outputs": []
    },
    {
      "cell_type": "code",
      "source": [
        "print(m.sum())"
      ],
      "metadata": {
        "colab": {
          "base_uri": "https://localhost:8080/"
        },
        "id": "yzDSHQDPF0yf",
        "outputId": "fa7b8b28-75a8-428b-f8f0-66a1638709ce"
      },
      "execution_count": 41,
      "outputs": [
        {
          "output_type": "stream",
          "name": "stdout",
          "text": [
            "15\n"
          ]
        }
      ]
    },
    {
      "cell_type": "code",
      "source": [
        "print(m.cumsum())"
      ],
      "metadata": {
        "colab": {
          "base_uri": "https://localhost:8080/"
        },
        "id": "bT561nwEF540",
        "outputId": "0f41b52c-ffd1-4bd2-f49b-4671068cfe77"
      },
      "execution_count": 42,
      "outputs": [
        {
          "output_type": "stream",
          "name": "stdout",
          "text": [
            "a     1\n",
            "b     3\n",
            "c     6\n",
            "d    10\n",
            "e    15\n",
            "dtype: int64\n"
          ]
        }
      ]
    },
    {
      "cell_type": "code",
      "source": [
        "print(m.aggregate(['mean','std','sum']))"
      ],
      "metadata": {
        "colab": {
          "base_uri": "https://localhost:8080/"
        },
        "id": "9CPV2aBEF8ve",
        "outputId": "26117895-dd9d-4044-9eea-7d2244a52607"
      },
      "execution_count": 45,
      "outputs": [
        {
          "output_type": "stream",
          "name": "stdout",
          "text": [
            "mean     3.000000\n",
            "std      1.581139\n",
            "sum     15.000000\n",
            "dtype: float64\n"
          ]
        }
      ]
    },
    {
      "cell_type": "code",
      "source": [],
      "metadata": {
        "id": "Eh0QNS5GGaoM"
      },
      "execution_count": null,
      "outputs": []
    },
    {
      "cell_type": "code",
      "source": [
        "df=pd.read_csv('/content/Reviews.csv')\n",
        "print(df)\n"
      ],
      "metadata": {
        "colab": {
          "base_uri": "https://localhost:8080/"
        },
        "id": "Xr81677UJGua",
        "outputId": "d12317d4-6200-4c94-db0c-5357d342c38c"
      },
      "execution_count": 51,
      "outputs": [
        {
          "output_type": "stream",
          "name": "stdout",
          "text": [
            "                                                Review  Liked\n",
            "0                             Wow... Loved this place.      1\n",
            "1                                   Crust is not good.      0\n",
            "2            Not tasty and the texture was just nasty.      0\n",
            "3    Stopped by during the late May bank holiday of...      1\n",
            "4    The selection on the menu was great and so wer...      1\n",
            "..                                                 ...    ...\n",
            "995  I think food should have flavor and texture an...      0\n",
            "996                           Appetite instantly gone.      0\n",
            "997  Overall I was not impressed and would not go b...      0\n",
            "998  The whole experience was underwhelming, and I ...      0\n",
            "999  Then, as if I hadn't wasted enough of my life ...      0\n",
            "\n",
            "[1000 rows x 2 columns]\n"
          ]
        }
      ]
    },
    {
      "cell_type": "code",
      "source": [
        "print(df.head())"
      ],
      "metadata": {
        "colab": {
          "base_uri": "https://localhost:8080/"
        },
        "id": "S7qvCWrKKRN1",
        "outputId": "fcdc9c5f-eb20-4c48-fc3e-628b6a151fbf"
      },
      "execution_count": 52,
      "outputs": [
        {
          "output_type": "stream",
          "name": "stdout",
          "text": [
            "                                              Review  Liked\n",
            "0                           Wow... Loved this place.      1\n",
            "1                                 Crust is not good.      0\n",
            "2          Not tasty and the texture was just nasty.      0\n",
            "3  Stopped by during the late May bank holiday of...      1\n",
            "4  The selection on the menu was great and so wer...      1\n"
          ]
        }
      ]
    },
    {
      "cell_type": "code",
      "source": [
        "print(df.head(10))"
      ],
      "metadata": {
        "colab": {
          "base_uri": "https://localhost:8080/"
        },
        "id": "umQ-lVJpKWqR",
        "outputId": "2ae25ef8-3806-488d-9fc4-efeb89a485ba"
      },
      "execution_count": 53,
      "outputs": [
        {
          "output_type": "stream",
          "name": "stdout",
          "text": [
            "                                              Review  Liked\n",
            "0                           Wow... Loved this place.      1\n",
            "1                                 Crust is not good.      0\n",
            "2          Not tasty and the texture was just nasty.      0\n",
            "3  Stopped by during the late May bank holiday of...      1\n",
            "4  The selection on the menu was great and so wer...      1\n",
            "5     Now I am getting angry and I want my damn pho.      0\n",
            "6              Honeslty it didn't taste THAT fresh.)      0\n",
            "7  The potatoes were like rubber and you could te...      0\n",
            "8                          The fries were great too.      1\n",
            "9                                     A great touch.      1\n"
          ]
        }
      ]
    },
    {
      "cell_type": "code",
      "source": [
        "print(df.tail())"
      ],
      "metadata": {
        "colab": {
          "base_uri": "https://localhost:8080/"
        },
        "id": "nKJhwV20KZ0F",
        "outputId": "423f83eb-a526-499b-a2f9-3ce5273c2840"
      },
      "execution_count": 55,
      "outputs": [
        {
          "output_type": "stream",
          "name": "stdout",
          "text": [
            "                                                Review  Liked\n",
            "995  I think food should have flavor and texture an...      0\n",
            "996                           Appetite instantly gone.      0\n",
            "997  Overall I was not impressed and would not go b...      0\n",
            "998  The whole experience was underwhelming, and I ...      0\n",
            "999  Then, as if I hadn't wasted enough of my life ...      0\n"
          ]
        }
      ]
    },
    {
      "cell_type": "code",
      "source": [
        "print(df.tail(10))"
      ],
      "metadata": {
        "colab": {
          "base_uri": "https://localhost:8080/"
        },
        "id": "ptHFqz-RKlda",
        "outputId": "d48e7224-0fec-49bd-f33a-6fb5f125d973"
      },
      "execution_count": 56,
      "outputs": [
        {
          "output_type": "stream",
          "name": "stdout",
          "text": [
            "                                                Review  Liked\n",
            "990  The refried beans that came with my meal were ...      0\n",
            "991         Spend your money and time some place else.      0\n",
            "992  A lady at the table next to us found a live gr...      0\n",
            "993            the presentation of the food was awful.      0\n",
            "994           I can't tell you how disappointed I was.      0\n",
            "995  I think food should have flavor and texture an...      0\n",
            "996                           Appetite instantly gone.      0\n",
            "997  Overall I was not impressed and would not go b...      0\n",
            "998  The whole experience was underwhelming, and I ...      0\n",
            "999  Then, as if I hadn't wasted enough of my life ...      0\n"
          ]
        }
      ]
    },
    {
      "cell_type": "code",
      "source": [
        "print(df.shape)"
      ],
      "metadata": {
        "colab": {
          "base_uri": "https://localhost:8080/"
        },
        "id": "KRxW5uXTKsB7",
        "outputId": "972f0671-06f2-4214-b7cc-8ad6d37d960f"
      },
      "execution_count": 57,
      "outputs": [
        {
          "output_type": "stream",
          "name": "stdout",
          "text": [
            "(1000, 2)\n"
          ]
        }
      ]
    },
    {
      "cell_type": "code",
      "source": [
        "print(df.columns)"
      ],
      "metadata": {
        "colab": {
          "base_uri": "https://localhost:8080/"
        },
        "id": "YXQG_3BqKu7n",
        "outputId": "9838143f-fdf6-4d65-e930-df60d938aabe"
      },
      "execution_count": 58,
      "outputs": [
        {
          "output_type": "stream",
          "name": "stdout",
          "text": [
            "Index(['Review', 'Liked'], dtype='object')\n"
          ]
        }
      ]
    },
    {
      "cell_type": "code",
      "source": [
        "print(df.dtypes)"
      ],
      "metadata": {
        "colab": {
          "base_uri": "https://localhost:8080/"
        },
        "id": "Gw7M0ZWQKyrT",
        "outputId": "f83afc59-d719-4e7e-b03f-09c630c8f857"
      },
      "execution_count": 59,
      "outputs": [
        {
          "output_type": "stream",
          "name": "stdout",
          "text": [
            "Review    object\n",
            "Liked      int64\n",
            "dtype: object\n"
          ]
        }
      ]
    },
    {
      "cell_type": "code",
      "source": [
        "print(df.describe())"
      ],
      "metadata": {
        "colab": {
          "base_uri": "https://localhost:8080/"
        },
        "id": "XBDsVvY8K31_",
        "outputId": "1b43cf4b-e36e-44c6-9288-894f076139d3"
      },
      "execution_count": 60,
      "outputs": [
        {
          "output_type": "stream",
          "name": "stdout",
          "text": [
            "            Liked\n",
            "count  1000.00000\n",
            "mean      0.50000\n",
            "std       0.50025\n",
            "min       0.00000\n",
            "25%       0.00000\n",
            "50%       0.50000\n",
            "75%       1.00000\n",
            "max       1.00000\n"
          ]
        }
      ]
    },
    {
      "cell_type": "code",
      "source": [
        "print(df)"
      ],
      "metadata": {
        "colab": {
          "base_uri": "https://localhost:8080/"
        },
        "id": "PShYOrNnK_k2",
        "outputId": "a3b6d4b7-d4ac-4172-b171-99d1235cbcab"
      },
      "execution_count": 61,
      "outputs": [
        {
          "output_type": "stream",
          "name": "stdout",
          "text": [
            "                                                Review  Liked\n",
            "0                             Wow... Loved this place.      1\n",
            "1                                   Crust is not good.      0\n",
            "2            Not tasty and the texture was just nasty.      0\n",
            "3    Stopped by during the late May bank holiday of...      1\n",
            "4    The selection on the menu was great and so wer...      1\n",
            "..                                                 ...    ...\n",
            "995  I think food should have flavor and texture an...      0\n",
            "996                           Appetite instantly gone.      0\n",
            "997  Overall I was not impressed and would not go b...      0\n",
            "998  The whole experience was underwhelming, and I ...      0\n",
            "999  Then, as if I hadn't wasted enough of my life ...      0\n",
            "\n",
            "[1000 rows x 2 columns]\n"
          ]
        }
      ]
    },
    {
      "cell_type": "code",
      "source": [
        "reviews=df.loc[:,'Review']\n",
        "print(reviews)"
      ],
      "metadata": {
        "colab": {
          "base_uri": "https://localhost:8080/"
        },
        "id": "1Lto3OzRLBft",
        "outputId": "a2ec3cec-de51-41f7-c354-76786acd11d7"
      },
      "execution_count": 69,
      "outputs": [
        {
          "output_type": "stream",
          "name": "stdout",
          "text": [
            "0                               Wow... Loved this place.\n",
            "1                                     Crust is not good.\n",
            "2              Not tasty and the texture was just nasty.\n",
            "3      Stopped by during the late May bank holiday of...\n",
            "4      The selection on the menu was great and so wer...\n",
            "                             ...                        \n",
            "995    I think food should have flavor and texture an...\n",
            "996                             Appetite instantly gone.\n",
            "997    Overall I was not impressed and would not go b...\n",
            "998    The whole experience was underwhelming, and I ...\n",
            "999    Then, as if I hadn't wasted enough of my life ...\n",
            "Name: Review, Length: 1000, dtype: object\n"
          ]
        }
      ]
    },
    {
      "cell_type": "code",
      "source": [
        "subset=df.loc[10:20,'Liked']\n",
        "print(subset)"
      ],
      "metadata": {
        "colab": {
          "base_uri": "https://localhost:8080/"
        },
        "id": "aU-o05lmLcey",
        "outputId": "93c9ccd9-3e61-4d5e-94de-28865773b0ad"
      },
      "execution_count": 70,
      "outputs": [
        {
          "output_type": "stream",
          "name": "stdout",
          "text": [
            "10    1\n",
            "11    0\n",
            "12    0\n",
            "13    1\n",
            "14    0\n",
            "15    0\n",
            "16    1\n",
            "17    0\n",
            "18    0\n",
            "19    0\n",
            "20    0\n",
            "Name: Liked, dtype: int64\n"
          ]
        }
      ]
    },
    {
      "cell_type": "code",
      "source": [
        "set=df.iloc[10,[0,1]]\n",
        "print(set)"
      ],
      "metadata": {
        "colab": {
          "base_uri": "https://localhost:8080/"
        },
        "id": "SD8aPEQhL8Xi",
        "outputId": "a9551cfd-ade7-44fa-c3af-980e84b9f2e9"
      },
      "execution_count": 77,
      "outputs": [
        {
          "output_type": "stream",
          "name": "stdout",
          "text": [
            "Review    Service was very prompt.\n",
            "Liked                            1\n",
            "Name: 10, dtype: object\n"
          ]
        }
      ]
    },
    {
      "cell_type": "code",
      "source": [
        "good=df.loc[df['Liked']==1]\n",
        "print(good)"
      ],
      "metadata": {
        "colab": {
          "base_uri": "https://localhost:8080/"
        },
        "id": "sQgu00ExNA1f",
        "outputId": "793d770e-b004-4ffd-fcb8-19e7f1ee3580"
      },
      "execution_count": 88,
      "outputs": [
        {
          "output_type": "stream",
          "name": "stdout",
          "text": [
            "                                                Review  Liked\n",
            "0                             Wow... Loved this place.      1\n",
            "3    Stopped by during the late May bank holiday of...      1\n",
            "4    The selection on the menu was great and so wer...      1\n",
            "8                            The fries were great too.      1\n",
            "9                                       A great touch.      1\n",
            "..                                                 ...    ...\n",
            "899                       Overall, a great experience.      1\n",
            "901  Their regular toasted bread was equally satisf...      1\n",
            "907  The chips and sals a here is amazing!!!!!!!!!!...      1\n",
            "909              This is my new fav Vegas buffet spot.      1\n",
            "922  Every time I eat here, I see caring teamwork t...      1\n",
            "\n",
            "[500 rows x 2 columns]\n"
          ]
        }
      ]
    },
    {
      "cell_type": "code",
      "source": [
        "bad=df.loc[df['Liked']==0]\n",
        "print(bad)"
      ],
      "metadata": {
        "colab": {
          "base_uri": "https://localhost:8080/"
        },
        "id": "kaNnlaNsOA0w",
        "outputId": "362f4032-e474-462a-8c90-b0d6d81fa4dc"
      },
      "execution_count": 89,
      "outputs": [
        {
          "output_type": "stream",
          "name": "stdout",
          "text": [
            "                                                Review  Liked\n",
            "1                                   Crust is not good.      0\n",
            "2            Not tasty and the texture was just nasty.      0\n",
            "5       Now I am getting angry and I want my damn pho.      0\n",
            "6                Honeslty it didn't taste THAT fresh.)      0\n",
            "7    The potatoes were like rubber and you could te...      0\n",
            "..                                                 ...    ...\n",
            "995  I think food should have flavor and texture an...      0\n",
            "996                           Appetite instantly gone.      0\n",
            "997  Overall I was not impressed and would not go b...      0\n",
            "998  The whole experience was underwhelming, and I ...      0\n",
            "999  Then, as if I hadn't wasted enough of my life ...      0\n",
            "\n",
            "[500 rows x 2 columns]\n"
          ]
        }
      ]
    },
    {
      "cell_type": "code",
      "source": [
        "t=df.drop(labels='Review',axis=1)\n",
        "print(t)"
      ],
      "metadata": {
        "colab": {
          "base_uri": "https://localhost:8080/"
        },
        "id": "N0aMOeurOWod",
        "outputId": "d175ce3d-67ad-4699-c49a-622da5fab7a4"
      },
      "execution_count": 90,
      "outputs": [
        {
          "output_type": "stream",
          "name": "stdout",
          "text": [
            "     Liked\n",
            "0        1\n",
            "1        0\n",
            "2        0\n",
            "3        1\n",
            "4        1\n",
            "..     ...\n",
            "995      0\n",
            "996      0\n",
            "997      0\n",
            "998      0\n",
            "999      0\n",
            "\n",
            "[1000 rows x 1 columns]\n"
          ]
        }
      ]
    },
    {
      "cell_type": "code",
      "source": [
        "r=df.drop(labels='Liked',axis=1)\n",
        "print(r)"
      ],
      "metadata": {
        "colab": {
          "base_uri": "https://localhost:8080/"
        },
        "id": "4CluRaV-OnTt",
        "outputId": "ac124709-906b-466e-e67a-d46ae00a2163"
      },
      "execution_count": 95,
      "outputs": [
        {
          "output_type": "stream",
          "name": "stdout",
          "text": [
            "                                                Review\n",
            "0                             Wow... Loved this place.\n",
            "1                                   Crust is not good.\n",
            "2            Not tasty and the texture was just nasty.\n",
            "3    Stopped by during the late May bank holiday of...\n",
            "4    The selection on the menu was great and so wer...\n",
            "..                                                 ...\n",
            "995  I think food should have flavor and texture an...\n",
            "996                           Appetite instantly gone.\n",
            "997  Overall I was not impressed and would not go b...\n",
            "998  The whole experience was underwhelming, and I ...\n",
            "999  Then, as if I hadn't wasted enough of my life ...\n",
            "\n",
            "[1000 rows x 1 columns]\n"
          ]
        }
      ]
    },
    {
      "cell_type": "code",
      "source": [
        "data={\n",
        "    'a':[1,2,3],\n",
        "    'b':[2,3,4],\n",
        "    'c':[3,4,5]\n",
        "}\n",
        "print(data)"
      ],
      "metadata": {
        "colab": {
          "base_uri": "https://localhost:8080/"
        },
        "id": "RZPf1ONOO_Hk",
        "outputId": "d182238e-0231-4125-b989-f225b5dd7a29"
      },
      "execution_count": 99,
      "outputs": [
        {
          "output_type": "stream",
          "name": "stdout",
          "text": [
            "{'a': [1, 2, 3], 'b': [2, 3, 4], 'c': [3, 4, 5]}\n"
          ]
        }
      ]
    }
  ]
}