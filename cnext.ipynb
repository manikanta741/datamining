{
  "nbformat": 4,
  "nbformat_minor": 0,
  "metadata": {
    "colab": {
      "provenance": [],
      "authorship_tag": "ABX9TyMAWJ0/OIPJGJzMXckk1N8u",
      "include_colab_link": true
    },
    "kernelspec": {
      "name": "python3",
      "display_name": "Python 3"
    },
    "language_info": {
      "name": "python"
    }
  },
  "cells": [
    {
      "cell_type": "markdown",
      "metadata": {
        "id": "view-in-github",
        "colab_type": "text"
      },
      "source": [
        "<a href=\"https://colab.research.google.com/github/manikanta741/datamining/blob/main/cnext.ipynb\" target=\"_parent\"><img src=\"https://colab.research.google.com/assets/colab-badge.svg\" alt=\"Open In Colab\"/></a>"
      ]
    },
    {
      "cell_type": "code",
      "execution_count": null,
      "metadata": {
        "id": "enuARHE_O0tx"
      },
      "outputs": [],
      "source": [
        "#include <stdio.h>\n",
        "\n",
        "int main()\n",
        "{\n",
        "    int a[20], b[30], i, j = 0, k, count = 1, n;\n",
        "\n",
        "    printf(\"Enter frame length: \");\n",
        "    scanf(\"%d\", &n);\n",
        "\n",
        "    printf(\"Enter input frame (0's & 1's only):\\n\");\n",
        "    for(i = 0; i < n; i++)\n",
        "        scanf(\"%d\", &a[i]);\n",
        "\n",
        "    i = 0;\n",
        "    j = 0;\n",
        "\n",
        "    while(i < n)\n",
        "    {\n",
        "        if(a[i] == 1)\n",
        "        {\n",
        "            b[j++] = a[i];\n",
        "            count = 1;\n",
        "\n",
        "            for(k = i + 1; a[k] == 1 && k < n; k++)\n",
        "            {\n",
        "                b[j++] = a[k];\n",
        "                count++;\n",
        "\n",
        "                if(count == 5)\n",
        "                {\n",
        "                    b[j++] = 0; // Stuff a 0 after five consecutive 1's\n",
        "                    break;\n",
        "                }\n",
        "            }\n",
        "            i = k;\n",
        "        }\n",
        "        else\n",
        "        {\n",
        "            b[j++] = a[i];\n",
        "            i++;\n",
        "        }\n",
        "    }\n",
        "\n",
        "    printf(\"After stuffing the frame is:\\n\");\n",
        "    for(i = 0; i < j; i++)\n",
        "        printf(\"%d\", b[i]);\n",
        "\n",
        "    printf(\"\\n\");\n",
        "    return 0;\n",
        "}\n"
      ]
    },
    {
      "cell_type": "code",
      "source": [
        "#include<stdio.h>\n",
        "#include<string.h>\n",
        "main()\n",
        "{\n",
        "char a[30], fs[50] = \" \", t[3], sd, ed, x[3], s[3], d[3], y[3];\n",
        "int i, j, p = 0, q = 0;\n",
        "clrscr();\n",
        "printf(\"Enter characters to be stuffed:\");\n",
        "scanf(\"%s\", a);\n",
        "printf(\"\\nEnter a character that represents starting delimiter:\");\n",
        "scanf(\" %c\", &sd);\n",
        "printf(\"\\nEnter a character that represents ending delimiter:\");\n",
        "scanf(\" %c\", &ed);\n",
        "x[0] = s[0] = s[1] = sd;\n",
        "x[1] = s[2] = '\\0';\n",
        "y[0] = d[0] = d[1] = ed;\n",
        "d[2] = y[1] = '\\0';\n",
        "strcat(fs, x);\n",
        "for(i = 0; i < strlen(a); i++)\n",
        "{\n",
        "t[0] = a[i];\n",
        "t[1] = '\\0';\n",
        "if(t[0] == sd)\n",
        "strcat(fs, s);\n",
        "else if(t[0]==ed)\n",
        "strcat(fs, d);\n",
        "else\n",
        "strcat(fs, t);\n",
        "}\n",
        "strcat(fs, y);\n",
        "printf(\"\\n After stuffing:%s\", fs);\n",
        "getch()\n",
        "}"
      ],
      "metadata": {
        "id": "cZ8c3UbvO9QY"
      },
      "execution_count": null,
      "outputs": []
    }
  ]
}