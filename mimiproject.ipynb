{
  "nbformat": 4,
  "nbformat_minor": 0,
  "metadata": {
    "colab": {
      "provenance": [],
      "authorship_tag": "ABX9TyOBb9MwR/iv8x2IP0gS8xwl",
      "include_colab_link": true
    },
    "kernelspec": {
      "name": "python3",
      "display_name": "Python 3"
    },
    "language_info": {
      "name": "python"
    }
  },
  "cells": [
    {
      "cell_type": "markdown",
      "metadata": {
        "id": "view-in-github",
        "colab_type": "text"
      },
      "source": [
        "<a href=\"https://colab.research.google.com/github/manikanta741/datamining/blob/main/mimiproject.ipynb\" target=\"_parent\"><img src=\"https://colab.research.google.com/assets/colab-badge.svg\" alt=\"Open In Colab\"/></a>"
      ]
    },
    {
      "cell_type": "code",
      "execution_count": 3,
      "metadata": {
        "colab": {
          "base_uri": "https://localhost:8080/"
        },
        "id": "csfCKCx23YmW",
        "outputId": "ec9fed9b-81e2-437c-8f97-e6eb1014b72e"
      },
      "outputs": [
        {
          "output_type": "stream",
          "name": "stdout",
          "text": [
            "enterr your choicerock\n",
            "paper\n",
            "computer win\n"
          ]
        }
      ],
      "source": [
        "#rock,paper,scissor\n",
        "import random\n",
        "possible=[\"rock\",\"paper\",\"scissor\"]\n",
        "user=input(\"enterr your choice\")\n",
        "computer=random.choice(possible)\n",
        "print(computer)\n",
        "if user==computer:\n",
        "  print(\"draw\")\n",
        "elif(user==\"rock\" and computer==\"scissor\"):\n",
        "  print(\"user win\")\n",
        "elif(user==\"paper\" and computer==\"rock\"):\n",
        "  print(\"user win\")\n",
        "elif(user==\"scissor\" and computer==\"paper\"):\n",
        "  print(\"user win\")\n",
        "else:\n",
        "  print(\"computer win\")"
      ]
    },
    {
      "cell_type": "code",
      "source": [
        "#quiz game\n",
        "quiz_questions = {\n",
        "    \"What is the capital of France?\": {\n",
        "        \"A\": \"Berlin\",\n",
        "        \"B\": \"Paris\",\n",
        "        \"C\": \"London\",\n",
        "        \"D\": \"Rome\",\n",
        "        \"Answer\": \"B\"\n",
        "    },\n",
        "    \"Which planet is known as the Red Planet?\": {\n",
        "        \"A\": \"Earth\",\n",
        "        \"B\": \"Mars\",\n",
        "        \"C\": \"Jupiter\",\n",
        "        \"D\": \"Saturn\",\n",
        "        \"Answer\": \"B\"\n",
        "    },\n",
        "    \"Who painted the Mona Lisa?\": {\n",
        "        \"A\": \"Leonardo da Vinci\",\n",
        "        \"B\": \"Michelangelo\",\n",
        "        \"C\": \"Raphael\",\n",
        "        \"D\": \"Caravaggio\",\n",
        "        \"Answer\": \"A\"\n",
        "    },\n",
        "    \"What is the chemical symbol for gold?\": {\n",
        "        \"A\": \"Ag\",\n",
        "        \"B\": \"Au\",\n",
        "        \"C\": \"Hg\",\n",
        "        \"D\": \"Pb\",\n",
        "        \"Answer\": \"B\"\n",
        "    },\n",
        "    \"Which language is spoken in China?\": {\n",
        "        \"A\": \"Japanese\",\n",
        "        \"B\": \"Korean\",\n",
        "        \"C\": \"Mandarin\",\n",
        "        \"D\": \"Cantonese\",\n",
        "        \"Answer\": \"C\"\n",
        "    }\n",
        "}\n",
        "score = 0\n",
        "\n",
        "# Iterate through questions\n",
        "for question, options in quiz_questions.items():\n",
        "    print(question)\n",
        "    for option, value in options.items():\n",
        "        if option != \"Answer\":\n",
        "            print(f\"{option}: {value}\")\n",
        "\n",
        "    # Get user answer\n",
        "    user_answer = input(\"Choose your answer (A/B/C/D): \").upper()\n",
        "\n",
        "    # Check answer\n",
        "    if user_answer == options[\"Answer\"]:\n",
        "        print(\"Correct!\")\n",
        "        score += 1\n",
        "    else:\n",
        "        print(f\"Sorry, the correct answer is {options['Answer']}.\")\n",
        "\n",
        "\n"
      ],
      "metadata": {
        "colab": {
          "base_uri": "https://localhost:8080/"
        },
        "id": "KSvJQqjl4-cu",
        "outputId": "4418ec4d-a30b-4018-df27-f8ce42295a4d"
      },
      "execution_count": 6,
      "outputs": [
        {
          "output_type": "stream",
          "name": "stdout",
          "text": [
            "What is the capital of France?\n",
            "A: Berlin\n",
            "B: Paris\n",
            "C: London\n",
            "D: Rome\n",
            "Choose your answer (A/B/C/D): A\n",
            "Sorry, the correct answer is B.\n",
            "Which planet is known as the Red Planet?\n",
            "A: Earth\n",
            "B: Mars\n",
            "C: Jupiter\n",
            "D: Saturn\n",
            "Choose your answer (A/B/C/D): C\n",
            "Sorry, the correct answer is B.\n",
            "Who painted the Mona Lisa?\n",
            "A: Leonardo da Vinci\n",
            "B: Michelangelo\n",
            "C: Raphael\n",
            "D: Caravaggio\n",
            "Choose your answer (A/B/C/D): B\n",
            "Sorry, the correct answer is A.\n",
            "What is the chemical symbol for gold?\n",
            "A: Ag\n",
            "B: Au\n",
            "C: Hg\n",
            "D: Pb\n",
            "Choose your answer (A/B/C/D): A\n",
            "Sorry, the correct answer is B.\n",
            "Which language is spoken in China?\n",
            "A: Japanese\n",
            "B: Korean\n",
            "C: Mandarin\n",
            "D: Cantonese\n",
            "Choose your answer (A/B/C/D): A\n",
            "Sorry, the correct answer is C.\n"
          ]
        }
      ]
    }
  ]
}