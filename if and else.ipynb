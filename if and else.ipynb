{
  "nbformat": 4,
  "nbformat_minor": 0,
  "metadata": {
    "colab": {
      "provenance": [],
      "authorship_tag": "ABX9TyNxBuCcHj6OBIuvYdl7bRTk",
      "include_colab_link": true
    },
    "kernelspec": {
      "name": "python3",
      "display_name": "Python 3"
    },
    "language_info": {
      "name": "python"
    }
  },
  "cells": [
    {
      "cell_type": "markdown",
      "metadata": {
        "id": "view-in-github",
        "colab_type": "text"
      },
      "source": [
        "<a href=\"https://colab.research.google.com/github/manikanta741/datamining/blob/main/if%20and%20else.ipynb\" target=\"_parent\"><img src=\"https://colab.research.google.com/assets/colab-badge.svg\" alt=\"Open In Colab\"/></a>"
      ]
    },
    {
      "cell_type": "code",
      "execution_count": 2,
      "metadata": {
        "colab": {
          "base_uri": "https://localhost:8080/"
        },
        "id": "ITLUFglfoJKE",
        "outputId": "68e30070-b8d8-4aa1-e7c3-e5544f3c169b"
      },
      "outputs": [
        {
          "output_type": "stream",
          "name": "stdout",
          "text": [
            "num3 is greater\n"
          ]
        }
      ],
      "source": [
        "#greatest of 23  numbers\n",
        "num1=4\n",
        "num2=5\n",
        "num3=6\n",
        "if (num1>num2) and(num1>num3):\n",
        "    print(\"num1 is greater\")\n",
        "elif (num2>num1) and (num2>num3):\n",
        "    print(\"num2 is greater\")\n",
        "else:\n",
        "    print(\"num3 is greater\")"
      ]
    },
    {
      "cell_type": "code",
      "source": [
        "#Character Is Vowel or Consonant\n",
        "vowel='aeiou'\n",
        "char='b'\n",
        "if char.lower() in vowel:\n",
        "    print(\"char is vowel\")\n",
        "else:\n",
        "    print(\"char is constant\")"
      ],
      "metadata": {
        "colab": {
          "base_uri": "https://localhost:8080/"
        },
        "id": "Qq5UuunIoirf",
        "outputId": "fdfed86d-a2c1-4a27-d370-76d9ccbdaa36"
      },
      "execution_count": 6,
      "outputs": [
        {
          "output_type": "stream",
          "name": "stdout",
          "text": [
            "char is constant\n"
          ]
        }
      ]
    },
    {
      "cell_type": "code",
      "source": [
        "#A Character Is an Alphabet or Not\n",
        "char='a'\n",
        "if len(char)==1 and char.isalpha():\n",
        "  print(\"char is alphabet\")\n",
        "else:\n",
        "  print(\"char is not alphabet\")"
      ],
      "metadata": {
        "colab": {
          "base_uri": "https://localhost:8080/"
        },
        "id": "wG3M11S8pcUk",
        "outputId": "fda11f42-ff84-435e-d540-f4714829d0d7"
      },
      "execution_count": 9,
      "outputs": [
        {
          "output_type": "stream",
          "name": "stdout",
          "text": [
            "char is alphabet\n"
          ]
        }
      ]
    },
    {
      "cell_type": "code",
      "source": [
        "#check uppercase, Lowercase, Special Character, or Digitin python\n",
        "char = input(\"Enter a single character: \")\n",
        "\n",
        "# Check if the input is a single character\n",
        "if len(char) == 1:\n",
        "    if char.isupper():\n",
        "        print(f\"{char} is an uppercase letter.\")\n",
        "    elif char.islower():\n",
        "        print(f\"{char} is a lowercase letter.\")\n",
        "    elif char.isdigit():\n",
        "        print(f\"{char} is a digit.\")\n",
        "    else:\n",
        "        print(f\"{char} is a special character.\")\n",
        "else:\n",
        "    print(\"Invalid input. Please enter a single character.\")"
      ],
      "metadata": {
        "colab": {
          "base_uri": "https://localhost:8080/"
        },
        "id": "GL9C1cE9ssPM",
        "outputId": "21a4ee87-d729-432c-ed9a-1b772d5a2a7e"
      },
      "execution_count": 10,
      "outputs": [
        {
          "output_type": "stream",
          "name": "stdout",
          "text": [
            "Enter a single character: i\n",
            "i is a lowercase letter.\n"
          ]
        }
      ]
    },
    {
      "cell_type": "code",
      "source": [
        "#leap year\n",
        "year=2000\n",
        "if year%4==0 and(year%100!=0 or year%400==0):\n",
        "    print(\"leap year\")\n",
        "else:\n",
        "    print(\"not leap year\")"
      ],
      "metadata": {
        "colab": {
          "base_uri": "https://localhost:8080/"
        },
        "id": "_KK-ED5BupjZ",
        "outputId": "13308c83-555e-4723-c0b7-ffa8811cc83c"
      },
      "execution_count": 14,
      "outputs": [
        {
          "output_type": "stream",
          "name": "stdout",
          "text": [
            "leap year\n"
          ]
        }
      ]
    },
    {
      "cell_type": "code",
      "source": [
        "#Check whether a number is divisible by 5 and 11 or not.\n",
        "num=15\n",
        "if num%5==0 and num%11==0:\n",
        "    print(\"divisible by 5 and 11\")\n",
        "else:\n",
        "    print(\"not divisible by 5 and 11\")"
      ],
      "metadata": {
        "colab": {
          "base_uri": "https://localhost:8080/"
        },
        "id": "vGLs6-Iiv3v8",
        "outputId": "e02ec25c-082b-402b-fded-ade91e5c733b"
      },
      "execution_count": 15,
      "outputs": [
        {
          "output_type": "stream",
          "name": "stdout",
          "text": [
            "not divisible by 5 and 11\n"
          ]
        }
      ]
    },
    {
      "cell_type": "code",
      "source": [
        "month=int(input(\"enter a month\"))\n",
        "days_in_month = {\n",
        "        1: 31,  # January\n",
        "        2: 28,  # February (common year)\n",
        "        3: 31,  # March\n",
        "        4: 30,  # April\n",
        "        5: 31,  # May\n",
        "        6: 30,  # June\n",
        "        7: 31,  # July\n",
        "        8: 31,  # August\n",
        "        9: 30,  # September\n",
        "        10: 31,  # October\n",
        "        11: 30,  # November\n",
        "        12: 31   # December\n",
        "    }\n",
        "if month in days_in_month:\n",
        "  print(days_in_month[month])\n",
        "else:\n",
        "  print(None)  # Invalid month number"
      ],
      "metadata": {
        "colab": {
          "base_uri": "https://localhost:8080/"
        },
        "id": "HS0SPyuuw4f-",
        "outputId": "40b407c1-b386-43e8-b416-bc9f0598f8d1"
      },
      "execution_count": 19,
      "outputs": [
        {
          "output_type": "stream",
          "name": "stdout",
          "text": [
            "enter a month11\n",
            "30\n"
          ]
        }
      ]
    },
    {
      "cell_type": "code",
      "source": [
        "day=int(input(\"enter a day\"))\n",
        "day_in_week = {\n",
        "        1: \"monday\",\n",
        "        2: \"tuesday\",\n",
        "        3: \"wednesday\",\n",
        "        4: \"thursday\",\n",
        "        5: \"friday\",\n",
        "        6: \"saturday\",\n",
        "        7: \"sunday\"\n",
        "}\n",
        "if day in day_in_week:\n",
        "  print(day_in_week[day])\n",
        "else:\n",
        "  print(None)"
      ],
      "metadata": {
        "colab": {
          "base_uri": "https://localhost:8080/"
        },
        "id": "ve__lHGxyWIj",
        "outputId": "c7931f44-5609-4738-b6ce-2c544ad754b1"
      },
      "execution_count": 24,
      "outputs": [
        {
          "output_type": "stream",
          "name": "stdout",
          "text": [
            "enter a day4\n",
            "thursday\n"
          ]
        }
      ]
    },
    {
      "cell_type": "code",
      "source": [
        "#quadratic equation\n",
        "a=1\n",
        "b=-3\n",
        "c=2\n",
        "d=b**2-4*a*c\n",
        "r1=(-b+d)/2*a\n",
        "r2=(-b-d)/2*a\n",
        "print(r1,r2)\n"
      ],
      "metadata": {
        "colab": {
          "base_uri": "https://localhost:8080/"
        },
        "id": "V-42TecpzrjX",
        "outputId": "6f7ca628-2537-4e71-afb0-be8d071ee789"
      },
      "execution_count": 25,
      "outputs": [
        {
          "output_type": "stream",
          "name": "stdout",
          "text": [
            "2.0 1.0\n"
          ]
        }
      ]
    },
    {
      "cell_type": "code",
      "source": [
        "cp=1000\n",
        "sp=120\n",
        "if sp>cp:\n",
        "  print(sp-cp,\"profit\")\n",
        "else:\n",
        "  print(cp-sp,\"loss\")"
      ],
      "metadata": {
        "colab": {
          "base_uri": "https://localhost:8080/"
        },
        "id": "-wX6MuYSz9Uw",
        "outputId": "d8372fd4-8e07-41a8-a9e6-72df6392ae37"
      },
      "execution_count": 29,
      "outputs": [
        {
          "output_type": "stream",
          "name": "stdout",
          "text": [
            "880 loss\n"
          ]
        }
      ]
    },
    {
      "cell_type": "code",
      "source": [
        "#check wheathher triangle is equilateral,isoceles,scalene\n",
        "ab=3\n",
        "bc=3\n",
        "cd=3\n",
        "if ab==bc==cd:\n",
        "  print(\"equilateral\")\n",
        "elif ab==bc or bc==cd or ab==cd:\n",
        "  print(\"isosceles\")\n",
        "else:\n",
        "  print(\"scalene\")"
      ],
      "metadata": {
        "colab": {
          "base_uri": "https://localhost:8080/"
        },
        "id": "kMxM5IzS0NNf",
        "outputId": "de71b02a-e0b2-4790-b307-91318c950100"
      },
      "execution_count": 31,
      "outputs": [
        {
          "output_type": "stream",
          "name": "stdout",
          "text": [
            "equilateral\n"
          ]
        }
      ]
    }
  ]
}