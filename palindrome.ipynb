{
  "nbformat": 4,
  "nbformat_minor": 0,
  "metadata": {
    "colab": {
      "provenance": [],
      "authorship_tag": "ABX9TyNZWe2UIjaBF4qpx1ggLLiu",
      "include_colab_link": true
    },
    "kernelspec": {
      "name": "python3",
      "display_name": "Python 3"
    },
    "language_info": {
      "name": "python"
    }
  },
  "cells": [
    {
      "cell_type": "markdown",
      "metadata": {
        "id": "view-in-github",
        "colab_type": "text"
      },
      "source": [
        "<a href=\"https://colab.research.google.com/github/manikanta741/datamining/blob/main/palindrome.ipynb\" target=\"_parent\"><img src=\"https://colab.research.google.com/assets/colab-badge.svg\" alt=\"Open In Colab\"/></a>"
      ]
    },
    {
      "cell_type": "code",
      "execution_count": 3,
      "metadata": {
        "colab": {
          "base_uri": "https://localhost:8080/"
        },
        "id": "AB4ieaw0TQB9",
        "outputId": "d4ffe95c-dc45-47b1-f1fd-d41b09bd734d"
      },
      "outputs": [
        {
          "output_type": "stream",
          "name": "stdout",
          "text": [
            "number is palindrome\n"
          ]
        }
      ],
      "source": [
        "n=121\n",
        "temp=n\n",
        "\n",
        "rev=0\n",
        "while n>0:\n",
        "  d=n%10\n",
        "  rev=rev*10+d\n",
        "  n=n//10\n",
        "if temp==rev:\n",
        "  print(\"number is palindrome\")\n",
        "else:\n",
        "  print(\"number is not palindrone\")"
      ]
    }
  ]
}