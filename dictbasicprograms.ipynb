{
  "nbformat": 4,
  "nbformat_minor": 0,
  "metadata": {
    "colab": {
      "provenance": [],
      "authorship_tag": "ABX9TyOYRp2fjRfKB0KYt+ukfK1H",
      "include_colab_link": true
    },
    "kernelspec": {
      "name": "python3",
      "display_name": "Python 3"
    },
    "language_info": {
      "name": "python"
    }
  },
  "cells": [
    {
      "cell_type": "markdown",
      "metadata": {
        "id": "view-in-github",
        "colab_type": "text"
      },
      "source": [
        "<a href=\"https://colab.research.google.com/github/manikanta741/datamining/blob/main/dictbasicprograms.ipynb\" target=\"_parent\"><img src=\"https://colab.research.google.com/assets/colab-badge.svg\" alt=\"Open In Colab\"/></a>"
      ]
    },
    {
      "cell_type": "code",
      "execution_count": 1,
      "metadata": {
        "colab": {
          "base_uri": "https://localhost:8080/"
        },
        "id": "TWtLFYunwbKB",
        "outputId": "669f2042-3ad2-487a-a380-8e222fcb2c83"
      },
      "outputs": [
        {
          "output_type": "stream",
          "name": "stdout",
          "text": [
            "{'a': 1, 'b': 2, 'c': 3}\n"
          ]
        }
      ],
      "source": [
        "#create a dict\n",
        "def create_dict_from_pairs(pairs):\n",
        "    \"\"\"\n",
        "    Create a dictionary from a list of key-value pairs.\n",
        "\n",
        "    Parameters:\n",
        "        pairs (list of tuples): A list where each tuple contains two elements: a key and a value.\n",
        "\n",
        "    Returns:\n",
        "        dict: A dictionary created from the given key-value pairs.\n",
        "    \"\"\"\n",
        "    return dict(pairs)\n",
        "\n",
        "# Example usage\n",
        "key_value_pairs = [('a', 1), ('b', 2), ('c', 3)]\n",
        "result_dict = create_dict_from_pairs(key_value_pairs)\n",
        "print(result_dict)  # Output: {'a': 1, 'b': 2, 'c': 3}\n"
      ]
    },
    {
      "cell_type": "code",
      "source": [
        "dict={1:\"a\",2:\"b\",3:\"C\"}"
      ],
      "metadata": {
        "id": "IhwKlogXwmHV"
      },
      "execution_count": 2,
      "outputs": []
    },
    {
      "cell_type": "code",
      "source": [
        "print(dict)"
      ],
      "metadata": {
        "colab": {
          "base_uri": "https://localhost:8080/"
        },
        "id": "j8SfRGFgwrZz",
        "outputId": "a6386f06-4318-4395-872e-bce616f41a87"
      },
      "execution_count": 3,
      "outputs": [
        {
          "output_type": "stream",
          "name": "stdout",
          "text": [
            "{1: 'a', 2: 'b', 3: 'C'}\n"
          ]
        }
      ]
    },
    {
      "cell_type": "code",
      "source": [
        "#modifying the dict\n",
        "dict[1]=\"d\"\n",
        "print(dict)"
      ],
      "metadata": {
        "colab": {
          "base_uri": "https://localhost:8080/"
        },
        "id": "cC_r5NhjwwPL",
        "outputId": "8bd41488-20c4-455f-ffd7-a73435d18135"
      },
      "execution_count": 4,
      "outputs": [
        {
          "output_type": "stream",
          "name": "stdout",
          "text": [
            "{1: 'd', 2: 'b', 3: 'C'}\n"
          ]
        }
      ]
    },
    {
      "cell_type": "code",
      "source": [
        "#accesing the elements from dict\n",
        "print(dict[2])\n",
        "print(dict[1])"
      ],
      "metadata": {
        "colab": {
          "base_uri": "https://localhost:8080/"
        },
        "id": "JWnxcukNw9hr",
        "outputId": "fe67cb18-a091-476b-f9ee-43a2e4f90c2d"
      },
      "execution_count": 6,
      "outputs": [
        {
          "output_type": "stream",
          "name": "stdout",
          "text": [
            "b\n",
            "d\n"
          ]
        }
      ]
    },
    {
      "cell_type": "code",
      "source": [
        "#check key exists in my dict or not\n",
        "\n",
        "my_dict = {'a': 1, 'b': 2, 'c': 3}\n",
        "key='b'\n",
        "if key in my_dict:\n",
        "    print(f\"The key '{key}' exists in the dictionary.\")\n",
        "else:\n",
        "    print(f\"The key '{key}' does not exist in the dictionary.\")"
      ],
      "metadata": {
        "colab": {
          "base_uri": "https://localhost:8080/"
        },
        "id": "2I6hVQeExHtl",
        "outputId": "20d054ec-68e8-4ec8-baeb-acb13961f751"
      },
      "execution_count": 8,
      "outputs": [
        {
          "output_type": "stream",
          "name": "stdout",
          "text": [
            "The key 'b' exists in the dictionary.\n"
          ]
        }
      ]
    },
    {
      "cell_type": "code",
      "source": [
        "#adding a key  value pair\n",
        "my_dict = {'a': 1, 'b': 2, 'c': 3}\n",
        "my_dict[\"d\"]=4\n",
        "print(my_dict)"
      ],
      "metadata": {
        "colab": {
          "base_uri": "https://localhost:8080/"
        },
        "id": "AqTPGsVxxzvl",
        "outputId": "9e1b086d-079c-4ced-ac12-9f427c6b6b5e"
      },
      "execution_count": 10,
      "outputs": [
        {
          "output_type": "stream",
          "name": "stdout",
          "text": [
            "{'a': 1, 'b': 2, 'c': 3, 'd': 4}\n"
          ]
        }
      ]
    },
    {
      "cell_type": "code",
      "source": [
        "#removing a key value pair\n",
        "my_dict = {'a': 1, 'b': 2, 'c': 3}\n",
        "del my_dict['a']\n",
        "print(my_dict)"
      ],
      "metadata": {
        "colab": {
          "base_uri": "https://localhost:8080/"
        },
        "id": "YnX8Si2fyOfO",
        "outputId": "736d44f8-c965-42f7-e362-860edd561469"
      },
      "execution_count": 11,
      "outputs": [
        {
          "output_type": "stream",
          "name": "stdout",
          "text": [
            "{'b': 2, 'c': 3}\n"
          ]
        }
      ]
    },
    {
      "cell_type": "code",
      "source": [
        "#deleting entire dictionary\n",
        "my_dict = {'a': 1, 'b': 2, 'c': 3}\n",
        "print(my_dict.clear())"
      ],
      "metadata": {
        "colab": {
          "base_uri": "https://localhost:8080/"
        },
        "id": "Vx9JHpNcypl9",
        "outputId": "e927ae6d-279f-4cef-b6d0-c96d6638c86c"
      },
      "execution_count": 14,
      "outputs": [
        {
          "output_type": "stream",
          "name": "stdout",
          "text": [
            "None\n"
          ]
        }
      ]
    },
    {
      "cell_type": "code",
      "source": [
        "#iterate over dictionary keys and values\n",
        "my_dict = {'a': 1, 'b': 2, 'c': 3}\n",
        "for key,value in my_dict.items():\n",
        "    print(key,value)"
      ],
      "metadata": {
        "colab": {
          "base_uri": "https://localhost:8080/"
        },
        "id": "T0tCxxlLzdoU",
        "outputId": "89414e34-09c6-4ce5-aaa0-400dc960e362"
      },
      "execution_count": 15,
      "outputs": [
        {
          "output_type": "stream",
          "name": "stdout",
          "text": [
            "a 1\n",
            "b 2\n",
            "c 3\n"
          ]
        }
      ]
    },
    {
      "cell_type": "code",
      "source": [
        "#maximum value in dict\n",
        "def max_dict_value(my_dict):\n",
        "  return max(my_dict,key=my_dict.get)\n",
        "my_dict={1:\"a\",2:\"b\",3:\"c\"}\n",
        "print(max_dict_value(my_dict))\n"
      ],
      "metadata": {
        "colab": {
          "base_uri": "https://localhost:8080/"
        },
        "id": "9b6VNm2Wz_9H",
        "outputId": "1ed80326-3c9f-4a56-9074-ec7c6cfe5b67"
      },
      "execution_count": 16,
      "outputs": [
        {
          "output_type": "stream",
          "name": "stdout",
          "text": [
            "3\n"
          ]
        }
      ]
    },
    {
      "cell_type": "code",
      "source": [
        "#Sort a dictionary by keys/values: Write a function to sort a dictionary by keys/values.\n",
        "def sort_dict_by_keys(dictionary, reverse=False):\n",
        "    \"\"\"\n",
        "    Sort a dictionary by its keys.\n",
        "\n",
        "    Parameters:\n",
        "        dictionary (dict): The dictionary to sort.\n",
        "        reverse (bool): If True, sort in descending order. Default is False for ascending order.\n",
        "\n",
        "    Returns:\n",
        "        dict: A new dictionary sorted by keys.\n",
        "    \"\"\"\n",
        "    return dict(sorted(dictionary.items(), key=lambda item: item[0], reverse=reverse))\n",
        "dictinary={2:'e',3:'q',1:'g',4:'t'}\n",
        "print(sort_dict_by_keys(dictinary))"
      ],
      "metadata": {
        "colab": {
          "base_uri": "https://localhost:8080/",
          "height": 297
        },
        "id": "JNo9xdqu05GN",
        "outputId": "ffdab77c-0c00-4561-b720-ebb42bac3edf"
      },
      "execution_count": 20,
      "outputs": [
        {
          "output_type": "error",
          "ename": "TypeError",
          "evalue": "'dict' object is not callable",
          "traceback": [
            "\u001b[0;31m---------------------------------------------------------------------------\u001b[0m",
            "\u001b[0;31mTypeError\u001b[0m                                 Traceback (most recent call last)",
            "\u001b[0;32m<ipython-input-20-e68ab3106653>\u001b[0m in \u001b[0;36m<cell line: 15>\u001b[0;34m()\u001b[0m\n\u001b[1;32m     13\u001b[0m     \u001b[0;32mreturn\u001b[0m \u001b[0mdict\u001b[0m\u001b[0;34m(\u001b[0m\u001b[0msorted\u001b[0m\u001b[0;34m(\u001b[0m\u001b[0mdictionary\u001b[0m\u001b[0;34m.\u001b[0m\u001b[0mitems\u001b[0m\u001b[0;34m(\u001b[0m\u001b[0;34m)\u001b[0m\u001b[0;34m,\u001b[0m \u001b[0mkey\u001b[0m\u001b[0;34m=\u001b[0m\u001b[0;32mlambda\u001b[0m \u001b[0mitem\u001b[0m\u001b[0;34m:\u001b[0m \u001b[0mitem\u001b[0m\u001b[0;34m[\u001b[0m\u001b[0;36m0\u001b[0m\u001b[0;34m]\u001b[0m\u001b[0;34m,\u001b[0m \u001b[0mreverse\u001b[0m\u001b[0;34m=\u001b[0m\u001b[0mreverse\u001b[0m\u001b[0;34m)\u001b[0m\u001b[0;34m)\u001b[0m\u001b[0;34m\u001b[0m\u001b[0;34m\u001b[0m\u001b[0m\n\u001b[1;32m     14\u001b[0m \u001b[0mdictinary\u001b[0m\u001b[0;34m=\u001b[0m\u001b[0;34m{\u001b[0m\u001b[0;36m2\u001b[0m\u001b[0;34m:\u001b[0m\u001b[0;34m'e'\u001b[0m\u001b[0;34m,\u001b[0m\u001b[0;36m3\u001b[0m\u001b[0;34m:\u001b[0m\u001b[0;34m'q'\u001b[0m\u001b[0;34m,\u001b[0m\u001b[0;36m1\u001b[0m\u001b[0;34m:\u001b[0m\u001b[0;34m'g'\u001b[0m\u001b[0;34m,\u001b[0m\u001b[0;36m4\u001b[0m\u001b[0;34m:\u001b[0m\u001b[0;34m't'\u001b[0m\u001b[0;34m}\u001b[0m\u001b[0;34m\u001b[0m\u001b[0;34m\u001b[0m\u001b[0m\n\u001b[0;32m---> 15\u001b[0;31m \u001b[0mprint\u001b[0m\u001b[0;34m(\u001b[0m\u001b[0msort_dict_by_keys\u001b[0m\u001b[0;34m(\u001b[0m\u001b[0mdictinary\u001b[0m\u001b[0;34m)\u001b[0m\u001b[0;34m)\u001b[0m\u001b[0;34m\u001b[0m\u001b[0;34m\u001b[0m\u001b[0m\n\u001b[0m",
            "\u001b[0;32m<ipython-input-20-e68ab3106653>\u001b[0m in \u001b[0;36msort_dict_by_keys\u001b[0;34m(dictionary, reverse)\u001b[0m\n\u001b[1;32m     11\u001b[0m         \u001b[0mdict\u001b[0m\u001b[0;34m:\u001b[0m \u001b[0mA\u001b[0m \u001b[0mnew\u001b[0m \u001b[0mdictionary\u001b[0m \u001b[0msorted\u001b[0m \u001b[0mby\u001b[0m \u001b[0mkeys\u001b[0m\u001b[0;34m.\u001b[0m\u001b[0;34m\u001b[0m\u001b[0;34m\u001b[0m\u001b[0m\n\u001b[1;32m     12\u001b[0m     \"\"\"\n\u001b[0;32m---> 13\u001b[0;31m     \u001b[0;32mreturn\u001b[0m \u001b[0mdict\u001b[0m\u001b[0;34m(\u001b[0m\u001b[0msorted\u001b[0m\u001b[0;34m(\u001b[0m\u001b[0mdictionary\u001b[0m\u001b[0;34m.\u001b[0m\u001b[0mitems\u001b[0m\u001b[0;34m(\u001b[0m\u001b[0;34m)\u001b[0m\u001b[0;34m,\u001b[0m \u001b[0mkey\u001b[0m\u001b[0;34m=\u001b[0m\u001b[0;32mlambda\u001b[0m \u001b[0mitem\u001b[0m\u001b[0;34m:\u001b[0m \u001b[0mitem\u001b[0m\u001b[0;34m[\u001b[0m\u001b[0;36m0\u001b[0m\u001b[0;34m]\u001b[0m\u001b[0;34m,\u001b[0m \u001b[0mreverse\u001b[0m\u001b[0;34m=\u001b[0m\u001b[0mreverse\u001b[0m\u001b[0;34m)\u001b[0m\u001b[0;34m)\u001b[0m\u001b[0;34m\u001b[0m\u001b[0;34m\u001b[0m\u001b[0m\n\u001b[0m\u001b[1;32m     14\u001b[0m \u001b[0mdictinary\u001b[0m\u001b[0;34m=\u001b[0m\u001b[0;34m{\u001b[0m\u001b[0;36m2\u001b[0m\u001b[0;34m:\u001b[0m\u001b[0;34m'e'\u001b[0m\u001b[0;34m,\u001b[0m\u001b[0;36m3\u001b[0m\u001b[0;34m:\u001b[0m\u001b[0;34m'q'\u001b[0m\u001b[0;34m,\u001b[0m\u001b[0;36m1\u001b[0m\u001b[0;34m:\u001b[0m\u001b[0;34m'g'\u001b[0m\u001b[0;34m,\u001b[0m\u001b[0;36m4\u001b[0m\u001b[0;34m:\u001b[0m\u001b[0;34m't'\u001b[0m\u001b[0;34m}\u001b[0m\u001b[0;34m\u001b[0m\u001b[0;34m\u001b[0m\u001b[0m\n\u001b[1;32m     15\u001b[0m \u001b[0mprint\u001b[0m\u001b[0;34m(\u001b[0m\u001b[0msort_dict_by_keys\u001b[0m\u001b[0;34m(\u001b[0m\u001b[0mdictinary\u001b[0m\u001b[0;34m)\u001b[0m\u001b[0;34m)\u001b[0m\u001b[0;34m\u001b[0m\u001b[0;34m\u001b[0m\u001b[0m\n",
            "\u001b[0;31mTypeError\u001b[0m: 'dict' object is not callable"
          ]
        }
      ]
    },
    {
      "cell_type": "code",
      "source": [
        " #Merge two dictionaries: Write a function to merge two dictionaries\n",
        " d1={1:\"a\",2:\"b\",3:\"c\"}\n",
        " d2={4:\"d\",5:\"e\",6:\"f\"}\n",
        " d1.update(d2)\n",
        " print(d1)\n",
        ""
      ],
      "metadata": {
        "colab": {
          "base_uri": "https://localhost:8080/"
        },
        "id": "tDHWJxGZ2mFb",
        "outputId": "d85a809c-d4b0-4578-bf8e-8894a590e5fe"
      },
      "execution_count": 21,
      "outputs": [
        {
          "output_type": "stream",
          "name": "stdout",
          "text": [
            "{1: 'a', 2: 'b', 3: 'c', 4: 'd', 5: 'e', 6: 'f'}\n"
          ]
        }
      ]
    },
    {
      "cell_type": "code",
      "source": [
        "def merge_dic(d1,d2):\n",
        "  merged_dic={**d1,**d2}\n",
        "  return merged_dic\n",
        "d1={1:\"a\",2:\"b\",3:\"c\"}\n",
        "d2={4:\"d\",5:\"e\",6:\"f\"}\n",
        "print(merge_dic(d1,d2))"
      ],
      "metadata": {
        "colab": {
          "base_uri": "https://localhost:8080/"
        },
        "id": "C78RXVdV24H0",
        "outputId": "042ea4b1-b32f-41d7-bf1e-64abfcab3ae8"
      },
      "execution_count": 24,
      "outputs": [
        {
          "output_type": "stream",
          "name": "stdout",
          "text": [
            "{1: 'a', 2: 'b', 3: 'c', 4: 'd', 5: 'e', 6: 'f'}\n"
          ]
        }
      ]
    },
    {
      "cell_type": "code",
      "source": [
        "#check if two dicts are equal or not\n",
        "d1={1:\"a\",2:\"b\",3:\"c\"}\n",
        "d2={4:\"d\",5:\"e\",6:\"f\"}\n",
        "if d1==d2:\n",
        "  print(\"equal\")\n",
        "else:\n",
        "  print(\"not equal\")"
      ],
      "metadata": {
        "colab": {
          "base_uri": "https://localhost:8080/"
        },
        "id": "aTBG9OkQ3R8I",
        "outputId": "15f7417a-2576-43d8-d476-5824819f97f6"
      },
      "execution_count": 25,
      "outputs": [
        {
          "output_type": "stream",
          "name": "stdout",
          "text": [
            "not equal\n"
          ]
        }
      ]
    },
    {
      "cell_type": "code",
      "source": [
        "#get dict keys as list\n",
        "def get_keys_as_list(dictionary):\n",
        "    return list(dictionary.keys())\n",
        "\n",
        "\n",
        "sample_dict = {'a': 1, 'b': 2, 'c': 3}\n",
        "print(get_keys_as_list(sample_dict))"
      ],
      "metadata": {
        "colab": {
          "base_uri": "https://localhost:8080/"
        },
        "id": "GBkXbqjp31ag",
        "outputId": "cdc4aed9-1953-4c67-8c04-9f20f66b5380"
      },
      "execution_count": 29,
      "outputs": [
        {
          "output_type": "stream",
          "name": "stdout",
          "text": [
            "['a', 'b', 'c']\n"
          ]
        }
      ]
    },
    {
      "cell_type": "code",
      "source": [
        "def get_values_as_list(dictionary):\n",
        "    return list(dictionary.values())\n",
        "\n",
        "\n",
        "sample_dict = {'a': 1, 'b': 2, 'c': 3}\n",
        "print(get_values_as_list(sample_dict))"
      ],
      "metadata": {
        "colab": {
          "base_uri": "https://localhost:8080/"
        },
        "id": "uh5h-B_85Wvn",
        "outputId": "48102a12-9016-458d-cd64-a4e67ec39fc6"
      },
      "execution_count": 33,
      "outputs": [
        {
          "output_type": "stream",
          "name": "stdout",
          "text": [
            "[1, 2, 3]\n"
          ]
        }
      ]
    },
    {
      "cell_type": "code",
      "source": [
        "#dict comprehension\n",
        "num=9\n",
        "my_dict = {x: x**2 for x in range( num)}\n",
        "print(my_dict)"
      ],
      "metadata": {
        "colab": {
          "base_uri": "https://localhost:8080/"
        },
        "id": "692mhShz5AdF",
        "outputId": "a3fcb414-ae4d-455c-df21-e9f75a20fd64"
      },
      "execution_count": 35,
      "outputs": [
        {
          "output_type": "stream",
          "name": "stdout",
          "text": [
            "{0: 0, 1: 1, 2: 4, 3: 9, 4: 16, 5: 25, 6: 36, 7: 49, 8: 64}\n"
          ]
        }
      ]
    }
  ]
}