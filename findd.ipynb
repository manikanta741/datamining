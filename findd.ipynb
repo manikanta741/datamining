{
  "nbformat": 4,
  "nbformat_minor": 0,
  "metadata": {
    "colab": {
      "provenance": [],
      "authorship_tag": "ABX9TyPxdOq0RBZ4KfS7ZwN59on1",
      "include_colab_link": true
    },
    "kernelspec": {
      "name": "python3",
      "display_name": "Python 3"
    },
    "language_info": {
      "name": "python"
    }
  },
  "cells": [
    {
      "cell_type": "markdown",
      "metadata": {
        "id": "view-in-github",
        "colab_type": "text"
      },
      "source": [
        "<a href=\"https://colab.research.google.com/github/manikanta741/datamining/blob/main/findd.ipynb\" target=\"_parent\"><img src=\"https://colab.research.google.com/assets/colab-badge.svg\" alt=\"Open In Colab\"/></a>"
      ]
    },
    {
      "cell_type": "code",
      "execution_count": 7,
      "metadata": {
        "colab": {
          "base_uri": "https://localhost:8080/"
        },
        "id": "idzgWhe97w_b",
        "outputId": "f111b67d-d034-4665-8cac-38129b30ecc3"
      },
      "outputs": [
        {
          "output_type": "stream",
          "name": "stdout",
          "text": [
            "     sky air temp humidity    wind water forecast enjoy sport\n",
            "0  sunny     warm   normal  strong  warm     same         yes\n",
            "1  sunny     warm     high  strong  warm     same         yes\n",
            "2  rainy     cold     high  strong  warm   change          no\n",
            "3  sunny     warm     high  strong  cool   change         yes\n"
          ]
        }
      ],
      "source": [
        "import numpy as np\n",
        "import pandas as pd\n",
        "data=pd.read_csv(\"/content/exppp1.csv\")\n",
        "print(data)"
      ]
    },
    {
      "cell_type": "code",
      "source": [
        "concept=np.array(data)[:,:-1]\n",
        "print(\"/nconcept\")\n",
        "print(concept)"
      ],
      "metadata": {
        "colab": {
          "base_uri": "https://localhost:8080/"
        },
        "id": "SDv7oduH_QH3",
        "outputId": "da403b2e-f046-4d3b-e0ad-9eba08dfb57c"
      },
      "execution_count": 10,
      "outputs": [
        {
          "output_type": "stream",
          "name": "stdout",
          "text": [
            "/nconcept\n",
            "[['sunny' 'warm' 'normal' 'strong' 'warm' 'same']\n",
            " ['sunny' 'warm' 'high' 'strong' 'warm' 'same']\n",
            " ['rainy' 'cold' 'high' 'strong' 'warm' 'change']\n",
            " ['sunny' 'warm' 'high' 'strong' 'cool' 'change']]\n"
          ]
        }
      ]
    },
    {
      "cell_type": "code",
      "source": [
        "target=np.array(data)[:,-1]\n",
        "print(\"/target\")\n",
        "print(target)"
      ],
      "metadata": {
        "colab": {
          "base_uri": "https://localhost:8080/"
        },
        "id": "Jp2YPg38AJfP",
        "outputId": "b1d35cce-4e5d-40cf-f199-66a6d3df53dc"
      },
      "execution_count": 11,
      "outputs": [
        {
          "output_type": "stream",
          "name": "stdout",
          "text": [
            "/target\n",
            "['yes' 'yes' 'no' 'yes']\n"
          ]
        }
      ]
    },
    {
      "cell_type": "code",
      "source": [
        "# Function to implement FIND-S algorithm with hypothesis printing at each step\n",
        "def train(con, tar):\n",
        "    # Initialize the specific hypothesis with the first positive example\n",
        "    for i, val in enumerate(tar):\n",
        "        if val == 'yes':\n",
        "            specific_h = con[i].copy()\n",
        "            print(f\"\\nInitial hypothesis from first positive example: {specific_h}\")\n",
        "            break\n",
        "\n",
        "    # Update the hypothesis based on other positive examples\n",
        "    for i, val in enumerate(con):\n",
        "        if tar[i] == 'yes':\n",
        "            for x in range(len(specific_h)):\n",
        "                if val[x] != specific_h[x]:\n",
        "                    specific_h[x] = '?'\n",
        "            print(f\"\\nHypothesis after example {i+1}: {specific_h}\")\n",
        "    return specific_h\n",
        "# Apply the FIND-S algorithm to the data\n",
        "    specific_hypothesis = train(concepts, target)\n",
        "\n",
        "# Display the most specific hypothesis\n",
        "print(\"\\nThe most specific hypothesis is:\", specific_hypothesis)\n",
        "\n"
      ],
      "metadata": {
        "colab": {
          "base_uri": "https://localhost:8080/"
        },
        "id": "gzx6q0qkE3vw",
        "outputId": "b7a3a066-febd-44f2-c950-ae10693a4097"
      },
      "execution_count": 49,
      "outputs": [
        {
          "output_type": "stream",
          "name": "stdout",
          "text": [
            "\n",
            "The most specific hypothesis is: None\n"
          ]
        }
      ]
    },
    {
      "cell_type": "code",
      "source": [
        "def train(con,tar):\n",
        "  for i,val in enumerate(tar):\n",
        "    if val=='yes':\n",
        "      specific_h=con[i].copy()\n",
        "      print(f\"specific_h{i}\")\n",
        "      break\n",
        "    for i,val in enumerate(con):\n",
        "      if tar[i]=='yes':\n",
        "        for x in range(len(specific_h)):\n",
        "          if val[x]!=specific_h[x]:\n",
        "            specific_h[x]='?'\n",
        "            print(f\"specific_h{i}\")\n",
        "            print(specific_h)\n",
        "    return specific_h\n",
        "specific_hypothesis=train(concept,target)\n",
        "print(\"\\nthe most specific hypothesis\",specific_hypothesis)\n",
        ""
      ],
      "metadata": {
        "colab": {
          "base_uri": "https://localhost:8080/"
        },
        "id": "QrmjsNIUAX_1",
        "outputId": "88adc28d-5f1a-4978-9f65-71a4aa89fa23"
      },
      "execution_count": 34,
      "outputs": [
        {
          "output_type": "stream",
          "name": "stdout",
          "text": [
            "specific_h0\n",
            "\n",
            "the most specific hypothesis None\n"
          ]
        }
      ]
    }
  ]
}